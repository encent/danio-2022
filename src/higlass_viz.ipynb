{
 "cells": [
  {
   "cell_type": "code",
   "execution_count": 1,
   "metadata": {},
   "outputs": [],
   "source": [
    "%load_ext autoreload\n",
    "%autoreload 2"
   ]
  },
  {
   "cell_type": "code",
   "execution_count": 62,
   "metadata": {},
   "outputs": [],
   "source": [
    "from contextlib import contextmanager\n"
   ]
  },
  {
   "cell_type": "code",
   "execution_count": 63,
   "metadata": {},
   "outputs": [],
   "source": [
    "@contextmanager\n",
    "def transaction(conn):\n",
    "    \"\"\"Contextify SQLite transactions. Use with auto-commit mode. E.g.:\n",
    "    conn = sqlite3.connect(\"my.db\", isolation_level=None)\n",
    "    Parameters\n",
    "    ----------\n",
    "    conn : SQLite connection\n",
    "        SQLite connection\n",
    "    Yields\n",
    "    ------\n",
    "    None\n",
    "        Nothing\n",
    "    \"\"\"\n",
    "    # We must issue a \"BEGIN\" explicitly when running in auto-commit mode.\n",
    "    conn.execute(\"BEGIN\")\n",
    "    try:\n",
    "        # Yield control back to the caller.\n",
    "        yield\n",
    "    except:\n",
    "        conn.rollback()  # Roll back all changes if an exception occurs.\n",
    "        raise\n",
    "    else:\n",
    "        conn.commit()"
   ]
  },
  {
   "cell_type": "code",
   "execution_count": 55,
   "metadata": {},
   "outputs": [],
   "source": [
    "def store_meta_data(\n",
    "    cursor,\n",
    "    zoom_step,\n",
    "    max_length,\n",
    "    assembly,\n",
    "    chrom_names,\n",
    "    chrom_sizes,\n",
    "    tile_size,\n",
    "    max_zoom,\n",
    "    max_width,\n",
    "    version,\n",
    "    header=[],\n",
    "):\n",
    "    cursor.execute(\n",
    "        \"\"\"\n",
    "        CREATE TABLE tileset_info\n",
    "        (\n",
    "            zoom_step INT,\n",
    "            max_length INT,\n",
    "            assembly text,\n",
    "            chrom_names text,\n",
    "            chrom_sizes text,\n",
    "            tile_size REAL,\n",
    "            max_zoom INT,\n",
    "            max_width REAL,\n",
    "            header text,\n",
    "            version text\n",
    "        )\n",
    "        \"\"\"\n",
    "    )\n",
    "\n",
    "    cursor.execute(\n",
    "        \"INSERT INTO tileset_info VALUES (?,?,?,?,?,?,?,?,?,?)\",\n",
    "        (\n",
    "            zoom_step,\n",
    "            max_length,\n",
    "            assembly,\n",
    "            \"\\t\".join(chrom_names),\n",
    "            \"\\t\".join(map(str, chrom_sizes)),\n",
    "            tile_size,\n",
    "            max_zoom,\n",
    "            max_width,\n",
    "            \"\\t\".join(header),\n",
    "            version,\n",
    "        ),\n",
    "    )\n",
    "\n",
    "    cursor.commit()\n",
    "\n",
    "    pass"
   ]
  },
  {
   "cell_type": "code",
   "execution_count": 41,
   "metadata": {},
   "outputs": [],
   "source": [
    "def _bedpe(\n",
    "    filepath,\n",
    "    output_file=None,\n",
    "    assembly=None,\n",
    "    importance_column=\"random\",\n",
    "    has_header=False,\n",
    "    max_per_tile=100,\n",
    "    tile_size=1024,\n",
    "    chromosome=None,\n",
    "    chromsizes_filename=None,\n",
    "    chr1_col=1,\n",
    "    from1_col=2,\n",
    "    to1_col=3,\n",
    "    chr2_col=4,\n",
    "    from2_col=5,\n",
    "    to2_col=6,\n",
    "    max_zoom=None,\n",
    "    sqlite_cache_size=500,  # 500 MB\n",
    "    sqlite_batch_size=100000,\n",
    "    verbose=0,\n",
    "):\n",
    "    BED2DDB_VERSION = 1\n",
    "\n",
    "    if verbose > 0:\n",
    "        print(f\"BEDPEDB Version {BED2DDB_VERSION}\")\n",
    "\n",
    "    if filepath == \"-\":\n",
    "        f = sys.stdin\n",
    "    elif filepath.endswith(\".gz\"):\n",
    "        f = gzip.open(filepath, \"rt\")\n",
    "    else:\n",
    "        f = open(filepath, \"r\")\n",
    "\n",
    "    if output_file is None:\n",
    "        output_file = filepath\n",
    "        if filepath.endswith(\".gz\"):\n",
    "            output_file = os.path.splitext(output_file)[0]\n",
    "        output_file = os.path.splitext(output_file)[0] + \".bedpedb\"\n",
    "\n",
    "    if op.exists(output_file):\n",
    "        os.remove(output_file)\n",
    "\n",
    "    chrom_info, chrom_names, chrom_sizes = cch.load_chromsizes(\n",
    "        chromsizes_filename, assembly\n",
    "    )\n",
    "\n",
    "    def line_to_dict(line):\n",
    "        parts = line.split()\n",
    "        d = {}\n",
    "        try:\n",
    "            chrom1 = parts[chr1_col - 1]\n",
    "            chrom2 = parts[chr2_col - 1]\n",
    "            chrom1_offset = chrom_info.cum_chrom_lengths[chrom1]\n",
    "            chrom2_offset = chrom_info.cum_chrom_lengths[chrom2]\n",
    "\n",
    "            d[\"xs\"] = [\n",
    "                chrom1_offset + int(parts[from1_col - 1]),\n",
    "                chrom1_offset + int(parts[to1_col - 1]),\n",
    "            ]\n",
    "            d[\"ys\"] = [\n",
    "                chrom2_offset + int(parts[from2_col - 1]),\n",
    "                chrom2_offset + int(parts[to2_col - 1]),\n",
    "            ]\n",
    "        except KeyError:\n",
    "            error_str = (\n",
    "                \"ERROR converting chromosome position to genome position. \"\n",
    "                \"Please make sure you've specified the correct assembly \"\n",
    "                \"using the --assembly option or a chromsizes file using the . \"\n",
    "                \"--chromsizes-filename option.\"\n",
    "                \"Current assembly: {}, chromosomes: {},{}\".format(\n",
    "                    assembly, parts[chr1_col - 1], parts[chr2_col - 1]\n",
    "                )\n",
    "            )\n",
    "            raise (KeyError(error_str))\n",
    "\n",
    "        d[\"uid\"] = slugid.nice()\n",
    "\n",
    "        d[\"chrOffset\"] = d[\"xs\"][0] - int(parts[from1_col - 1])\n",
    "        d[\"chrom1\"] = str(chrom1)\n",
    "        d[\"chrom2\"] = str(chrom2)\n",
    "\n",
    "        if importance_column is None:\n",
    "            d[\"importance\"] = max(d[\"xs\"][1] - d[\"xs\"][0], d[\"ys\"][1] - d[\"ys\"][0])\n",
    "        elif importance_column == \"random\":\n",
    "            d[\"importance\"] = random.random()\n",
    "        else:\n",
    "            # We seem to use one-based numbering for columns...\n",
    "            d[\"importance\"] = float(parts[int(importance_column) - 1])\n",
    "\n",
    "        d[\"fields\"] = line\n",
    "\n",
    "        return d\n",
    "\n",
    "    entries = []\n",
    "\n",
    "    if has_header:\n",
    "        f.readline()\n",
    "    else:\n",
    "        first_line = f.readline().strip()\n",
    "        try:\n",
    "            parts = first_line.split()\n",
    "\n",
    "            int(parts[from1_col - 1])\n",
    "            int(parts[to1_col - 1])\n",
    "            int(parts[from2_col - 1])\n",
    "            int(parts[to2_col - 1])\n",
    "        except ValueError:\n",
    "            error_str = (\n",
    "                \"Couldn't convert one of the bedpe coordinates to an \"\n",
    "                \"integer. If the input file contains a header, make sure to \"\n",
    "                \"indicate that with the --has-header option. Line: {}\".format(\n",
    "                    first_line\n",
    "                )\n",
    "            )\n",
    "            raise ValueError(error_str)\n",
    "        entries = [line_to_dict(first_line)]\n",
    "\n",
    "    entries += [line_to_dict(line) for line in [line.strip() for line in f] if line]\n",
    "\n",
    "    if chromosome is not None:\n",
    "        entries = [\n",
    "            d for d in entries if d[\"chrom1\"] == chromosome or d[\"chrom2\"] == chromosome\n",
    "        ]\n",
    "\n",
    "    if verbose > 0:\n",
    "        print(f\"Found {len(entries)} entries\")\n",
    "\n",
    "    # We need chromosome information as well as the assembly size to properly\n",
    "    # tile this data\n",
    "    assembly_size = chrom_info.total_length + 1\n",
    "    max_zoom = int(math.ceil(math.log(assembly_size / tile_size) / math.log(2)))\n",
    "\n",
    "    # this script stores data in a sqlite database\n",
    "    sqlite3.register_adapter(np.int64, lambda val: int(val))\n",
    "    conn = sqlite3.connect(output_file, isolation_level=None)\n",
    "\n",
    "    # store some meta data\n",
    "    store_meta_data(\n",
    "        conn,\n",
    "        1,\n",
    "        max_length=assembly_size,\n",
    "        assembly=assembly,\n",
    "        chrom_names=chrom_names,\n",
    "        chrom_sizes=chrom_sizes,\n",
    "        tile_size=tile_size,\n",
    "        max_zoom=max_zoom,\n",
    "        max_width=tile_size * 2 ** max_zoom,\n",
    "        version=BED2DDB_VERSION,\n",
    "    )\n",
    "\n",
    "    # max_width = tile_size * 2 ** max_zoom\n",
    "    # uid_to_entry = {}\n",
    "\n",
    "    c = conn.cursor()\n",
    "    c.execute(\"PRAGMA synchronous = OFF;\")\n",
    "    c.execute(\"PRAGMA journal_mode = OFF;\")\n",
    "    c.execute(f\"PRAGMA cache_size = {int(sqlite_cache_size * 1000)};\")\n",
    "\n",
    "    c.execute(\n",
    "        \"\"\"\n",
    "        CREATE TABLE intervals\n",
    "        (\n",
    "            id int PRIMARY KEY,\n",
    "            zoomLevel int,\n",
    "            importance real,\n",
    "            fromX int,\n",
    "            toX int,\n",
    "            fromY int,\n",
    "            toY int,\n",
    "            chrOffset int,\n",
    "            uid text,\n",
    "            fields text\n",
    "        )\n",
    "        \"\"\"\n",
    "    )\n",
    "\n",
    "    c.execute(\n",
    "        \"\"\"\n",
    "        CREATE VIRTUAL TABLE position_index USING rtree(\n",
    "            id,\n",
    "            rFromX, rToX,\n",
    "            rFromY, rToY\n",
    "        )\n",
    "        \"\"\"\n",
    "    )\n",
    "\n",
    "    curr_zoom = 0\n",
    "    counter = 0\n",
    "\n",
    "    tile_counts = col.defaultdict(lambda: col.defaultdict(lambda: col.defaultdict(int)))\n",
    "    # Sort from high to low importance\n",
    "    entries = sorted(entries, key=lambda x: -x[\"importance\"])\n",
    "\n",
    "    interval_inserts = []\n",
    "    position_index_inserts = []\n",
    "\n",
    "    def batch_insert(conn, c, interval_inserts, position_index_inserts):\n",
    "        if verbose > 0:\n",
    "            print(f\"Insert batch ({counter})\")\n",
    "\n",
    "        with transaction(conn):\n",
    "            c.executemany(\n",
    "                \"INSERT INTO intervals VALUES (?,?,?,?,?,?,?,?,?,?)\", interval_inserts\n",
    "            )\n",
    "            c.executemany(\n",
    "                \"INSERT INTO position_index VALUES (?,?,?,?,?)\", position_index_inserts\n",
    "            )\n",
    "\n",
    "        interval_inserts.clear()\n",
    "        position_index_inserts.clear()\n",
    "\n",
    "    for entry_num, d in enumerate(entries):\n",
    "        curr_zoom = 0\n",
    "\n",
    "        while curr_zoom <= max_zoom:\n",
    "            tile_width = tile_size * 2 ** (max_zoom - curr_zoom)\n",
    "            tile_from = list(\n",
    "                map(lambda x: int(x / tile_width), [d[\"xs\"][0], d[\"ys\"][0]])\n",
    "            )\n",
    "            tile_to = list(map(lambda x: int(x / tile_width), [d[\"xs\"][1], d[\"ys\"][1]]))\n",
    "\n",
    "            empty_tiles = True\n",
    "\n",
    "            # go through and check if any of the tiles at this zoom level are\n",
    "            # full\n",
    "\n",
    "            for i in range(tile_from[0], tile_to[0] + 1):\n",
    "                if not empty_tiles:\n",
    "                    break\n",
    "\n",
    "                for j in range(tile_from[1], tile_to[1] + 1):\n",
    "                    if tile_counts[curr_zoom][i][j] > max_per_tile:\n",
    "\n",
    "                        empty_tiles = False\n",
    "                        break\n",
    "\n",
    "            if empty_tiles:\n",
    "                # they're all empty so add this interval to this zoom level\n",
    "                for i in range(tile_from[0], tile_to[0] + 1):\n",
    "                    for j in range(tile_from[1], tile_to[1] + 1):\n",
    "                        tile_counts[curr_zoom][i][j] += 1\n",
    "\n",
    "                interval_inserts.append(\n",
    "                    (\n",
    "                        counter,\n",
    "                        curr_zoom,\n",
    "                        d[\"importance\"],\n",
    "                        d[\"xs\"][0],\n",
    "                        d[\"xs\"][1],\n",
    "                        d[\"ys\"][0],\n",
    "                        d[\"ys\"][1],\n",
    "                        d[\"chrOffset\"],\n",
    "                        d[\"uid\"],\n",
    "                        d[\"fields\"],\n",
    "                    )\n",
    "                )\n",
    "\n",
    "                position_index_inserts.append(\n",
    "                    (counter, d[\"xs\"][0], d[\"xs\"][1], d[\"ys\"][0], d[\"ys\"][1])\n",
    "                )\n",
    "\n",
    "                counter += 1\n",
    "                break\n",
    "\n",
    "            curr_zoom += 1\n",
    "\n",
    "        if len(interval_inserts) >= sqlite_batch_size:\n",
    "            batch_insert(conn, c, interval_inserts, position_index_inserts)\n",
    "\n",
    "    batch_insert(conn, c, interval_inserts, position_index_inserts)\n",
    "\n",
    "    c.close()\n",
    "\n",
    "    return"
   ]
  },
  {
   "cell_type": "code",
   "execution_count": 5,
   "metadata": {},
   "outputs": [
    {
     "name": "stdout",
     "output_type": "stream",
     "text": [
      "\r\n",
      "CommandNotFoundError: Your shell has not been properly configured to use 'conda activate'.\r\n",
      "To initialize your shell, run\r\n",
      "\r\n",
      "    $ conda init <SHELL_NAME>\r\n",
      "\r\n",
      "Currently supported shells are:\r\n",
      "  - bash\r\n",
      "  - fish\r\n",
      "  - tcsh\r\n",
      "  - xonsh\r\n",
      "  - zsh\r\n",
      "  - powershell\r\n",
      "\r\n",
      "See 'conda init --help' for more information and options.\r\n",
      "\r\n",
      "IMPORTANT: You may need to close and restart your shell after running 'conda init'.\r\n",
      "\r\n",
      "\r\n"
     ]
    }
   ],
   "source": [
    "conda create --name=test python=3.10 jupyter pandas ipykernel cytoolz"
   ]
  },
  {
   "cell_type": "code",
   "execution_count": 2,
   "metadata": {},
   "outputs": [
    {
     "name": "stdout",
     "output_type": "stream",
     "text": [
      "Process is terminated.\n"
     ]
    }
   ],
   "source": [
    "%%bash\n",
    "# Create the test environment for this notebook.\n",
    "# All of these steps will be needed to run it fully.\n",
    "# Otherwise, you may run separate installations if you need them.\n",
    "\n",
    "conda create --name=test python=3.10 jupyter pandas ipykernel cytoolz\n",
    "conda activate test\n",
    "python -m ipykernel install --user --name=test\n",
    "\n",
    "# Data loading tools:\n",
    "## pip install resgen-python\n",
    "pip install clodius\n",
    "pip install git+https://github.com/manzt/hg.git@main\n",
    "\n",
    "# Work with cool files:\n",
    "pip install cooler bioframe\n",
    "\n",
    "# Set up widgets for interactivity (might break and always require tinkering):\n",
    "conda install -n base -c conda-forge jupyterlab_widgets\n",
    "conda install -n test -c conda-forge ipywidgets\n",
    "conda install -c conda-forge \"nodejs>=12.0.0\"\n",
    "jupyter labextension install @jupyter-widgets/jupyterlab-manager\n",
    "\n",
    "# Beautiful and formatted visualization of printed output:\n",
    "conda install -c conda-forge rich"
   ]
  },
  {
   "cell_type": "markdown",
   "metadata": {},
   "source": [
    "# Load data to local higlass instance"
   ]
  },
  {
   "cell_type": "code",
   "execution_count": 2,
   "metadata": {},
   "outputs": [],
   "source": [
    "import glob\n",
    "import pandas as pd\n",
    "import cooler"
   ]
  },
  {
   "cell_type": "code",
   "execution_count": 3,
   "metadata": {},
   "outputs": [],
   "source": [
    "COOLERS = glob.glob(\"../arcuda/HiGlass/coolers/*.mapq_30.100.mcool\")\n",
    "CONDITIONS = [x.split('/')[-1].split('.')[0] for x in COOLERS]"
   ]
  },
  {
   "cell_type": "markdown",
   "metadata": {},
   "source": [
    "### Preliminary work\n",
    "\n",
    "Make sure to install jupyter, [higlass-python](https://github.com/higlass/higlass-python#installation) and [jupyter widgets](https://ipywidgets.readthedocs.io/en/latest/user_install.html#installation). Widgets are always painful to run, working with them requires lots of googling."
   ]
  },
  {
   "cell_type": "code",
   "execution_count": 4,
   "metadata": {},
   "outputs": [],
   "source": [
    "# ! pip install git+https://github.com/manzt/hg.git@main # higlass-python v2"
   ]
  },
  {
   "cell_type": "code",
   "execution_count": 5,
   "metadata": {},
   "outputs": [],
   "source": [
    "import hg"
   ]
  },
  {
   "cell_type": "code",
   "execution_count": 6,
   "metadata": {},
   "outputs": [],
   "source": [
    "from rich import print # Useful but not necessary"
   ]
  },
  {
   "cell_type": "markdown",
   "metadata": {},
   "source": [
    "#### Test on remote mouse datasets"
   ]
  },
  {
   "cell_type": "markdown",
   "metadata": {},
   "source": [
    "Create `Tilesets` (speacial object for loading various higlass tracks) with hg: "
   ]
  },
  {
   "cell_type": "code",
   "execution_count": 7,
   "metadata": {},
   "outputs": [
    {
     "data": {
      "text/html": [
       "<pre style=\"white-space:pre;overflow-x:auto;line-height:normal;font-family:Menlo,'DejaVu Sans Mono',consolas,'Courier New',monospace\"><span style=\"color: #800080; text-decoration-color: #800080; font-weight: bold\">RemoteTileset</span><span style=\"font-weight: bold\">(</span>\n",
       "    <span style=\"color: #808000; text-decoration-color: #808000\">uid</span>=<span style=\"color: #008000; text-decoration-color: #008000\">'QDutvmyiSrec5nX4pA5WGQ'</span>,\n",
       "    <span style=\"color: #808000; text-decoration-color: #808000\">server</span>=<span style=\"color: #008000; text-decoration-color: #008000\">'https://higlass.io/api/v1/'</span>,\n",
       "    <span style=\"color: #808000; text-decoration-color: #808000\">name</span>=<span style=\"color: #008000; text-decoration-color: #008000\">'Gene Annotations (mm10)'</span>\n",
       "<span style=\"font-weight: bold\">)</span>\n",
       "</pre>\n"
      ],
      "text/plain": [
       "\u001b[1;35mRemoteTileset\u001b[0m\u001b[1m(\u001b[0m\n",
       "    \u001b[33muid\u001b[0m=\u001b[32m'QDutvmyiSrec5nX4pA5WGQ'\u001b[0m,\n",
       "    \u001b[33mserver\u001b[0m=\u001b[32m'https://higlass.io/api/v1/'\u001b[0m,\n",
       "    \u001b[33mname\u001b[0m=\u001b[32m'Gene Annotations \u001b[0m\u001b[32m(\u001b[0m\u001b[32mmm10\u001b[0m\u001b[32m)\u001b[0m\u001b[32m'\u001b[0m\n",
       "\u001b[1m)\u001b[0m\n"
      ]
     },
     "metadata": {},
     "output_type": "display_data"
    }
   ],
   "source": [
    "gene_anno_tileset = hg.remote(\n",
    "    uid=\"QDutvmyiSrec5nX4pA5WGQ\",\n",
    "    server=\"https://higlass.io/api/v1/\",\n",
    "    name=\"Gene Annotations (mm10)\", # optional\n",
    ")\n",
    "\n",
    "cooler_tileset = hg.remote(\n",
    "    uid=\"eApFIhe2QMOOSV2XO7UT6g\",\n",
    "    server=\"https://resgen.io/api/v1/gt/paper-data\",\n",
    "    name=\"Hsieh et al. 2019 MicroC mESC_JM8.N4 - WT\", # optional\n",
    ")\n",
    "\n",
    "print(gene_anno_tileset)"
   ]
  },
  {
   "cell_type": "markdown",
   "metadata": {},
   "source": [
    "From the `Tileset` instance, we can create tracks easily from public datasets:"
   ]
  },
  {
   "cell_type": "code",
   "execution_count": 9,
   "metadata": {
    "scrolled": false
   },
   "outputs": [
    {
     "data": {
      "text/html": [
       "\n",
       "<!DOCTYPE html>\n",
       "<html>\n",
       "<head>\n",
       "  <link rel=\"stylesheet\" href=\"https://unpkg.com/higlass@1.11/dist/hglib.css\">\n",
       "</head>\n",
       "<body>\n",
       "  <div id=\"jupyter-hg-fd38093aac5149fe90839ca14857f4b8\"></div>\n",
       "  <script type=\"module\">\n",
       "\n",
       "    async function loadScript(src) {\n",
       "        return new Promise(resolve => {\n",
       "            const script = document.createElement('script');\n",
       "            script.onload = resolve;\n",
       "            script.src = src;\n",
       "            script.async = false;\n",
       "            document.head.appendChild(script);\n",
       "        });\n",
       "    }\n",
       "\n",
       "    async function loadHiglass() {\n",
       "        // need to manually load higlass; disable requirejs\n",
       "\n",
       "        // https://github.com/DanielHreben/requirejs-toggle\n",
       "        window.__requirejsToggleBackup = {\n",
       "            define: window.define,\n",
       "            require: window.require,\n",
       "            requirejs: window.requirejs,\n",
       "        };\n",
       "\n",
       "        for (const field of Object.keys(window.__requirejsToggleBackup)) {\n",
       "            window[field] = undefined;\n",
       "        }\n",
       "\n",
       "        let sources = [];\n",
       "\n",
       "        if (!window.hglib){\n",
       "            sources = sources.concat([\n",
       "                \"https://unpkg.com/react@17/umd/react.production.min.js\",\n",
       "                \"https://unpkg.com/react-dom@17/umd/react-dom.production.min.js\",\n",
       "                \"https://unpkg.com/pixi.js@6/dist/browser/pixi.min.js\",\n",
       "                \"https://unpkg.com/higlass@1.11/dist/hglib.js\",\n",
       "            ]);\n",
       "        }\n",
       "\n",
       "        for (const src of sources) await loadScript(src);\n",
       "\n",
       "        // restore requirejs after scripts have loaded\n",
       "        Object.assign(window, window.__requirejsToggleBackup);\n",
       "        delete window.__requirejsToggleBackup;\n",
       "\n",
       "        return window.hglib;\n",
       "    };\n",
       "\n",
       "    var el = document.getElementById('jupyter-hg-fd38093aac5149fe90839ca14857f4b8');\n",
       "    var spec = JSON.parse(\"{\\\"editable\\\": true, \\\"viewEditable\\\": true, \\\"tracksEditable\\\": true, \\\"views\\\": [{\\\"layout\\\": {\\\"x\\\": 0, \\\"y\\\": 0, \\\"w\\\": 12, \\\"h\\\": 6}, \\\"tracks\\\": {\\\"left\\\": [{\\\"tilesetUid\\\": \\\"QDutvmyiSrec5nX4pA5WGQ\\\", \\\"server\\\": \\\"https://higlass.io/api/v1/\\\", \\\"type\\\": \\\"vertical-gene-annotations\\\", \\\"uid\\\": \\\"b4b7a0a1-b143-46b4-858f-a0796a8fc1f5\\\", \\\"height\\\": 60, \\\"options\\\": {\\\"name\\\": \\\"Gene Annotations (mm10)\\\"}}], \\\"top\\\": [{\\\"tilesetUid\\\": \\\"QDutvmyiSrec5nX4pA5WGQ\\\", \\\"server\\\": \\\"https://higlass.io/api/v1/\\\", \\\"type\\\": \\\"horizontal-gene-annotations\\\", \\\"uid\\\": \\\"f41b99d1-065d-460b-afe9-856a3917e0d5\\\", \\\"height\\\": 60, \\\"options\\\": {\\\"name\\\": \\\"Gene Annotations (mm10)\\\"}}], \\\"center\\\": [{\\\"tilesetUid\\\": \\\"eApFIhe2QMOOSV2XO7UT6g\\\", \\\"server\\\": \\\"https://resgen.io/api/v1/gt/paper-data\\\", \\\"type\\\": \\\"heatmap\\\", \\\"uid\\\": \\\"014ab03a-d879-41e1-b5b3-9af78d1be421\\\", \\\"options\\\": {\\\"name\\\": \\\"Hsieh et al. 2019 MicroC mESC_JM8.N4 - WT\\\"}}]}, \\\"uid\\\": \\\"fe153cf4-ced3-432c-a838-def3d56fff43\\\", \\\"zoomLimits\\\": [1, null]}]}\");\n",
       "\n",
       "    loadHiglass().then(hglib => {\n",
       "        hglib.viewer(el, spec);\n",
       "    })\n",
       "  </script>\n",
       "</body>\n",
       "</html>"
      ],
      "text/plain": [
       "View(layout=Layout(x=0, y=0, w=12, h=6, moved=None, static=None), tracks=Tracks[TrackT](left=[EnumTrack(tilesetUid='QDutvmyiSrec5nX4pA5WGQ', server='https://higlass.io/api/v1/', type='vertical-gene-annotations', uid='b4b7a0a1-b143-46b4-858f-a0796a8fc1f5', width=None, height=60, options={'name': 'Gene Annotations (mm10)'}, data=None, chromInfoPath=None, fromViewUid=None, x=None, y=None)], right=None, top=[EnumTrack(tilesetUid='QDutvmyiSrec5nX4pA5WGQ', server='https://higlass.io/api/v1/', type='horizontal-gene-annotations', uid='f41b99d1-065d-460b-afe9-856a3917e0d5', width=None, height=60, options={'name': 'Gene Annotations (mm10)'}, data=None, chromInfoPath=None, fromViewUid=None, x=None, y=None)], bottom=None, center=[HeatmapTrack(tilesetUid='eApFIhe2QMOOSV2XO7UT6g', server='https://resgen.io/api/v1/gt/paper-data', type='heatmap', uid='014ab03a-d879-41e1-b5b3-9af78d1be421', width=None, height=None, options={'name': 'Hsieh et al. 2019 MicroC mESC_JM8.N4 - WT'}, data=None, position=None, transforms=None)], whole=None, gallery=None), uid='fe153cf4-ced3-432c-a838-def3d56fff43', autocompleteSource=None, chromInfoPath=None, genomePositionSearchBox=None, genomePositionSearchBoxVisible=None, initialXDomain=None, initialYDomain=None, overlays=None, selectionView=None, zoomFixed=None, zoomLimits=(1, None))"
      ]
     },
     "execution_count": 9,
     "metadata": {},
     "output_type": "execute_result"
    }
   ],
   "source": [
    "view = hg.view(\n",
    "    (gene_anno_tileset.track(\"horizontal-gene-annotations\", height=60), \"top\"),\n",
    "    (gene_anno_tileset.track(\"vertical-gene-annotations\", height=60), \"left\"),\n",
    "    (cooler_tileset.track(\"heatmap\"), \"center\"),\n",
    ")\n",
    "view"
   ]
  },
  {
   "cell_type": "markdown",
   "metadata": {},
   "source": [
    "#### Test on remotely uploaded resgen datasets:\n",
    "We will add dots:"
   ]
  },
  {
   "cell_type": "code",
   "execution_count": 11,
   "metadata": {},
   "outputs": [],
   "source": [
    "gene_anno_tileset = hg.remote(\n",
    "    uid=\"QDutvmyiSrec5nX4pA5WGQ\",\n",
    "    server=\"https://higlass.io/api/v1/\",\n",
    "    name=\"Gene Annotations (mm10)\", # optional\n",
    ")\n",
    "\n",
    "cooler_tileset = hg.remote(\n",
    "    uid=\"fpI5li2CT1yQXVyN2NvHYA\",\n",
    "    server=\"https://resgen.io/api/v1\",\n",
    "    name=\"120min_with_auxin.mm10.mapq_30.100.mcool\", # optional\n",
    ")\n",
    "\n",
    "# Might be not needed for Schizo:\n",
    "dots_tileset = hg.remote(\n",
    "    uid=\"ODCJkQ4dRkWpCQLPTBBthg\",\n",
    "    server=\"https://resgen.io/api/v1\",\n",
    "    name=\"zhang2021NatComm.dots.all.withoffset.bedpe.multires\", # optional\n",
    ")\n"
   ]
  },
  {
   "cell_type": "code",
   "execution_count": 12,
   "metadata": {},
   "outputs": [
    {
     "data": {
      "text/html": [
       "\n",
       "<!DOCTYPE html>\n",
       "<html>\n",
       "<head>\n",
       "  <link rel=\"stylesheet\" href=\"https://unpkg.com/higlass@1.11/dist/hglib.css\">\n",
       "</head>\n",
       "<body>\n",
       "  <div id=\"jupyter-hg-e83bc03d25624989ae0a81abc251a0b9\"></div>\n",
       "  <script type=\"module\">\n",
       "\n",
       "    async function loadScript(src) {\n",
       "        return new Promise(resolve => {\n",
       "            const script = document.createElement('script');\n",
       "            script.onload = resolve;\n",
       "            script.src = src;\n",
       "            script.async = false;\n",
       "            document.head.appendChild(script);\n",
       "        });\n",
       "    }\n",
       "\n",
       "    async function loadHiglass() {\n",
       "        // need to manually load higlass; disable requirejs\n",
       "\n",
       "        // https://github.com/DanielHreben/requirejs-toggle\n",
       "        window.__requirejsToggleBackup = {\n",
       "            define: window.define,\n",
       "            require: window.require,\n",
       "            requirejs: window.requirejs,\n",
       "        };\n",
       "\n",
       "        for (const field of Object.keys(window.__requirejsToggleBackup)) {\n",
       "            window[field] = undefined;\n",
       "        }\n",
       "\n",
       "        let sources = [];\n",
       "\n",
       "        if (!window.hglib){\n",
       "            sources = sources.concat([\n",
       "                \"https://unpkg.com/react@17/umd/react.production.min.js\",\n",
       "                \"https://unpkg.com/react-dom@17/umd/react-dom.production.min.js\",\n",
       "                \"https://unpkg.com/pixi.js@6/dist/browser/pixi.min.js\",\n",
       "                \"https://unpkg.com/higlass@1.11/dist/hglib.js\",\n",
       "            ]);\n",
       "        }\n",
       "\n",
       "        for (const src of sources) await loadScript(src);\n",
       "\n",
       "        // restore requirejs after scripts have loaded\n",
       "        Object.assign(window, window.__requirejsToggleBackup);\n",
       "        delete window.__requirejsToggleBackup;\n",
       "\n",
       "        return window.hglib;\n",
       "    };\n",
       "\n",
       "    var el = document.getElementById('jupyter-hg-e83bc03d25624989ae0a81abc251a0b9');\n",
       "    var spec = JSON.parse(\"{\\\"editable\\\": true, \\\"viewEditable\\\": true, \\\"tracksEditable\\\": true, \\\"views\\\": [{\\\"layout\\\": {\\\"x\\\": 0, \\\"y\\\": 0, \\\"w\\\": 12, \\\"h\\\": 6}, \\\"tracks\\\": {\\\"left\\\": [{\\\"tilesetUid\\\": \\\"QDutvmyiSrec5nX4pA5WGQ\\\", \\\"server\\\": \\\"https://higlass.io/api/v1/\\\", \\\"type\\\": \\\"vertical-gene-annotations\\\", \\\"uid\\\": \\\"3d667d78-de68-44b3-9d4d-b4d547c33835\\\", \\\"height\\\": 60, \\\"options\\\": {\\\"name\\\": \\\"Gene Annotations (mm10)\\\"}}], \\\"top\\\": [{\\\"tilesetUid\\\": \\\"QDutvmyiSrec5nX4pA5WGQ\\\", \\\"server\\\": \\\"https://higlass.io/api/v1/\\\", \\\"type\\\": \\\"horizontal-gene-annotations\\\", \\\"uid\\\": \\\"4dd1424a-4770-4053-9db5-dc742a5bd444\\\", \\\"height\\\": 60, \\\"options\\\": {\\\"name\\\": \\\"Gene Annotations (mm10)\\\"}}], \\\"center\\\": [{\\\"tilesetUid\\\": \\\"fpI5li2CT1yQXVyN2NvHYA\\\", \\\"server\\\": \\\"https://resgen.io/api/v1\\\", \\\"type\\\": \\\"heatmap\\\", \\\"uid\\\": \\\"89c95df7-5664-4a39-b635-465b74947728\\\", \\\"options\\\": {\\\"name\\\": \\\"120min_with_auxin.mm10.mapq_30.100.mcool\\\"}}, {\\\"tilesetUid\\\": \\\"ODCJkQ4dRkWpCQLPTBBthg\\\", \\\"server\\\": \\\"https://resgen.io/api/v1\\\", \\\"type\\\": \\\"2d-rectangle-domains\\\", \\\"uid\\\": \\\"48482e14-cc75-46d6-9bd6-93a7782130a8\\\", \\\"options\\\": {\\\"name\\\": \\\"zhang2021NatComm.dots.all.withoffset.bedpe.multires\\\"}}]}, \\\"uid\\\": \\\"4b91b666-da4f-4171-9e05-6de56a430795\\\", \\\"zoomLimits\\\": [1, null]}]}\");\n",
       "\n",
       "    loadHiglass().then(hglib => {\n",
       "        hglib.viewer(el, spec);\n",
       "    })\n",
       "  </script>\n",
       "</body>\n",
       "</html>"
      ],
      "text/plain": [
       "View(layout=Layout(x=0, y=0, w=12, h=6, moved=None, static=None), tracks=Tracks[TrackT](left=[EnumTrack(tilesetUid='QDutvmyiSrec5nX4pA5WGQ', server='https://higlass.io/api/v1/', type='vertical-gene-annotations', uid='3d667d78-de68-44b3-9d4d-b4d547c33835', width=None, height=60, options={'name': 'Gene Annotations (mm10)'}, data=None, chromInfoPath=None, fromViewUid=None, x=None, y=None)], right=None, top=[EnumTrack(tilesetUid='QDutvmyiSrec5nX4pA5WGQ', server='https://higlass.io/api/v1/', type='horizontal-gene-annotations', uid='4dd1424a-4770-4053-9db5-dc742a5bd444', width=None, height=60, options={'name': 'Gene Annotations (mm10)'}, data=None, chromInfoPath=None, fromViewUid=None, x=None, y=None)], bottom=None, center=[HeatmapTrack(tilesetUid='fpI5li2CT1yQXVyN2NvHYA', server='https://resgen.io/api/v1', type='heatmap', uid='89c95df7-5664-4a39-b635-465b74947728', width=None, height=None, options={'name': '120min_with_auxin.mm10.mapq_30.100.mcool'}, data=None, position=None, transforms=None), EnumTrack(tilesetUid='ODCJkQ4dRkWpCQLPTBBthg', server='https://resgen.io/api/v1', type='2d-rectangle-domains', uid='48482e14-cc75-46d6-9bd6-93a7782130a8', width=None, height=None, options={'name': 'zhang2021NatComm.dots.all.withoffset.bedpe.multires'}, data=None, chromInfoPath=None, fromViewUid=None, x=None, y=None)], whole=None, gallery=None), uid='4b91b666-da4f-4171-9e05-6de56a430795', autocompleteSource=None, chromInfoPath=None, genomePositionSearchBox=None, genomePositionSearchBoxVisible=None, initialXDomain=None, initialYDomain=None, overlays=None, selectionView=None, zoomFixed=None, zoomLimits=(1, None))"
      ]
     },
     "execution_count": 12,
     "metadata": {},
     "output_type": "execute_result"
    }
   ],
   "source": [
    "view = hg.view(\n",
    "    (gene_anno_tileset.track(\"horizontal-gene-annotations\", height=60), \"top\"),\n",
    "    (gene_anno_tileset.track(\"vertical-gene-annotations\", height=60), \"left\"),\n",
    "    (cooler_tileset.track(\"heatmap\"), \"center\"),\n",
    "    (dots_tileset.track(\"2d-rectangle-domains\"), \"center\"),\n",
    ")\n",
    "view"
   ]
  },
  {
   "cell_type": "markdown",
   "metadata": {},
   "source": [
    "#### Local Tilesets\n",
    "\n",
    "Now let's try to load th\n",
    "An important feature of `hg` is its ability to host local data-sources (via a background server) to power a HiGlass visualization. Currently only `bigwig`, `cooler` and `multivec` formats are implemented, but _any_ implementation from `clodius.tiles` can easily be supported (https://github.com/higlass/clodius/tree/develop/clodius/tiles). "
   ]
  },
  {
   "cell_type": "code",
   "execution_count": 12,
   "metadata": {},
   "outputs": [],
   "source": [
    "# !pip install clodius # using the local server requires clodius to be installed"
   ]
  },
  {
   "cell_type": "code",
   "execution_count": 13,
   "metadata": {},
   "outputs": [],
   "source": [
    "import hg"
   ]
  },
  {
   "cell_type": "code",
   "execution_count": 14,
   "metadata": {},
   "outputs": [],
   "source": [
    "hg.server.enable_proxy()"
   ]
  },
  {
   "cell_type": "code",
   "execution_count": 15,
   "metadata": {},
   "outputs": [],
   "source": [
    "import os\n",
    "import glob"
   ]
  },
  {
   "cell_type": "code",
   "execution_count": 22,
   "metadata": {},
   "outputs": [],
   "source": [
    "COOLERS = glob.glob(\"../arcuda/HiGlass/coolers/*.mapq_30.1000.mcool\")\n",
    "CONDITIONS = [x.split('/')[-1].split('.')[0] for x in COOLERS]"
   ]
  },
  {
   "cell_type": "code",
   "execution_count": 23,
   "metadata": {},
   "outputs": [
    {
     "data": {
      "text/plain": [
       "['../arcuda/HiGlass/coolers/WT.danrer11-reduced.mapq_30.1000.mcool']"
      ]
     },
     "execution_count": 23,
     "metadata": {},
     "output_type": "execute_result"
    }
   ],
   "source": [
    "COOLERS"
   ]
  },
  {
   "cell_type": "code",
   "execution_count": 99,
   "metadata": {},
   "outputs": [],
   "source": [
    "import os.path as op\n",
    "import clodius.chromosomes as cch\n",
    "import slugid\n",
    "import math\n",
    "import sqlite3\n",
    "import numpy as np\n",
    "import collections as col"
   ]
  },
  {
   "cell_type": "code",
   "execution_count": 100,
   "metadata": {},
   "outputs": [
    {
     "ename": "FileNotFoundError",
     "evalue": "[Errno 2] No such file or directory: '../arcuda/HiGlass/boundaries/tads.bed'",
     "output_type": "error",
     "traceback": [
      "\u001b[0;31m---------------------------------------------------------------------------\u001b[0m",
      "\u001b[0;31mFileNotFoundError\u001b[0m                         Traceback (most recent call last)",
      "Input \u001b[0;32mIn [100]\u001b[0m, in \u001b[0;36m<cell line: 1>\u001b[0;34m()\u001b[0m\n\u001b[0;32m----> 1\u001b[0m \u001b[43m_bedpe\u001b[49m\u001b[43m(\u001b[49m\u001b[38;5;124;43m'\u001b[39;49m\u001b[38;5;124;43m../arcuda/HiGlass/boundaries/tads.bed\u001b[39;49m\u001b[38;5;124;43m'\u001b[39;49m\u001b[43m,\u001b[49m\u001b[43m  \u001b[49m\n\u001b[1;32m      2\u001b[0m \u001b[43m       \u001b[49m\u001b[43mimportance_column\u001b[49m\u001b[38;5;241;43m=\u001b[39;49m\u001b[38;5;241;43m4\u001b[39;49m\u001b[43m,\u001b[49m\u001b[43m \u001b[49m\n\u001b[1;32m      3\u001b[0m \u001b[43m       \u001b[49m\u001b[43mchromsizes_filename\u001b[49m\u001b[38;5;241;43m=\u001b[39;49m\u001b[38;5;124;43m'\u001b[39;49m\u001b[38;5;124;43m../arcuda/genome/danRer11.reduced.chromsizes\u001b[39;49m\u001b[38;5;124;43m'\u001b[39;49m\u001b[43m,\u001b[49m\u001b[43m \u001b[49m\n\u001b[1;32m      4\u001b[0m \u001b[43m       \u001b[49m\u001b[43mchr1_col\u001b[49m\u001b[38;5;241;43m=\u001b[39;49m\u001b[38;5;241;43m1\u001b[39;49m\u001b[43m,\u001b[49m\u001b[43m \u001b[49m\u001b[43mchr2_col\u001b[49m\u001b[38;5;241;43m=\u001b[39;49m\u001b[38;5;241;43m7\u001b[39;49m\u001b[43m,\u001b[49m\u001b[43m \u001b[49m\n\u001b[1;32m      5\u001b[0m \u001b[43m       \u001b[49m\u001b[43mfrom1_col\u001b[49m\u001b[38;5;241;43m=\u001b[39;49m\u001b[38;5;241;43m2\u001b[39;49m\u001b[43m,\u001b[49m\u001b[43m \u001b[49m\u001b[43mfrom2_col\u001b[49m\u001b[38;5;241;43m=\u001b[39;49m\u001b[38;5;241;43m3\u001b[39;49m\u001b[43m,\u001b[49m\u001b[43m \u001b[49m\n\u001b[1;32m      6\u001b[0m \u001b[43m       \u001b[49m\u001b[43mto1_col\u001b[49m\u001b[38;5;241;43m=\u001b[39;49m\u001b[38;5;241;43m5\u001b[39;49m\u001b[43m,\u001b[49m\u001b[43m \u001b[49m\u001b[43mto2_col\u001b[49m\u001b[38;5;241;43m=\u001b[39;49m\u001b[38;5;241;43m6\u001b[39;49m\u001b[43m)\u001b[49m\n",
      "Input \u001b[0;32mIn [41]\u001b[0m, in \u001b[0;36m_bedpe\u001b[0;34m(filepath, output_file, assembly, importance_column, has_header, max_per_tile, tile_size, chromosome, chromsizes_filename, chr1_col, from1_col, to1_col, chr2_col, from2_col, to2_col, max_zoom, sqlite_cache_size, sqlite_batch_size, verbose)\u001b[0m\n\u001b[1;32m     30\u001b[0m     f \u001b[38;5;241m=\u001b[39m gzip\u001b[38;5;241m.\u001b[39mopen(filepath, \u001b[38;5;124m\"\u001b[39m\u001b[38;5;124mrt\u001b[39m\u001b[38;5;124m\"\u001b[39m)\n\u001b[1;32m     31\u001b[0m \u001b[38;5;28;01melse\u001b[39;00m:\n\u001b[0;32m---> 32\u001b[0m     f \u001b[38;5;241m=\u001b[39m \u001b[38;5;28;43mopen\u001b[39;49m\u001b[43m(\u001b[49m\u001b[43mfilepath\u001b[49m\u001b[43m,\u001b[49m\u001b[43m \u001b[49m\u001b[38;5;124;43m\"\u001b[39;49m\u001b[38;5;124;43mr\u001b[39;49m\u001b[38;5;124;43m\"\u001b[39;49m\u001b[43m)\u001b[49m\n\u001b[1;32m     34\u001b[0m \u001b[38;5;28;01mif\u001b[39;00m output_file \u001b[38;5;129;01mis\u001b[39;00m \u001b[38;5;28;01mNone\u001b[39;00m:\n\u001b[1;32m     35\u001b[0m     output_file \u001b[38;5;241m=\u001b[39m filepath\n",
      "\u001b[0;31mFileNotFoundError\u001b[0m: [Errno 2] No such file or directory: '../arcuda/HiGlass/boundaries/tads.bed'"
     ]
    }
   ],
   "source": [
    "_bedpe('../arcuda/HiGlass/boundaries/tads.bed',  \n",
    "       importance_column=4, \n",
    "       chromsizes_filename='../arcuda/genome/danRer11.reduced.chromsizes', \n",
    "       chr1_col=1, chr2_col=7, \n",
    "       from1_col=2, from2_col=3, \n",
    "       to1_col=5, to2_col=6)"
   ]
  },
  {
   "cell_type": "raw",
   "metadata": {},
   "source": [
    "tail -n +1 boundaries_WT_all_clusters.bed | sort -k1,1 -k2,2n | awk '{ if (NF >= 4) print $1 \"\\t\" $2 \"\\t\" $3 \"\\t\" $4}' > _boundaries_WT_all_clusters.bed\n",
    "\n",
    "bedGraphToBigWig _boundaries_WT_all_clusters.bed ../../genome/danRer11.reduced.chromsizes boundaries_WT_all_clusters.bw\n",
    "\n",
    "tail -n +1 fountains_WT_cluster_4.bed | sort -k1,1 -k2,2n | awk '{ if (NF >= 4) print $1 \"\\t\" $2 \"\\t\" $3 \"\\t\" $4}' > _fountains_WT_cluster_4.bed\n",
    "\n",
    "bedGraphToBigWig _fountains_WT_cluster_4.bed ../../genome/danRer11.reduced.chromsizes bw/fountains_WT_cluster_4.bw"
   ]
  },
  {
   "cell_type": "code",
   "execution_count": 110,
   "metadata": {},
   "outputs": [
    {
     "data": {
      "text/html": [
       "\n",
       "<!DOCTYPE html>\n",
       "<html>\n",
       "<head>\n",
       "  <link rel=\"stylesheet\" href=\"https://unpkg.com/higlass@1.11/dist/hglib.css\">\n",
       "</head>\n",
       "<body>\n",
       "  <div id=\"jupyter-hg-4e6c8c4979cd4cedb72fc103b5513f3d\"></div>\n",
       "  <script type=\"module\">\n",
       "\n",
       "    async function loadScript(src) {\n",
       "        return new Promise(resolve => {\n",
       "            const script = document.createElement('script');\n",
       "            script.onload = resolve;\n",
       "            script.src = src;\n",
       "            script.async = false;\n",
       "            document.head.appendChild(script);\n",
       "        });\n",
       "    }\n",
       "\n",
       "    async function loadHiglass() {\n",
       "        // need to manually load higlass; disable requirejs\n",
       "\n",
       "        // https://github.com/DanielHreben/requirejs-toggle\n",
       "        window.__requirejsToggleBackup = {\n",
       "            define: window.define,\n",
       "            require: window.require,\n",
       "            requirejs: window.requirejs,\n",
       "        };\n",
       "\n",
       "        for (const field of Object.keys(window.__requirejsToggleBackup)) {\n",
       "            window[field] = undefined;\n",
       "        }\n",
       "\n",
       "        let sources = [];\n",
       "\n",
       "        if (!window.hglib){\n",
       "            sources = sources.concat([\n",
       "                \"https://unpkg.com/react@17/umd/react.production.min.js\",\n",
       "                \"https://unpkg.com/react-dom@17/umd/react-dom.production.min.js\",\n",
       "                \"https://unpkg.com/pixi.js@6/dist/browser/pixi.min.js\",\n",
       "                \"https://unpkg.com/higlass@1.11/dist/hglib.js\",\n",
       "            ]);\n",
       "        }\n",
       "\n",
       "        for (const src of sources) await loadScript(src);\n",
       "\n",
       "        // restore requirejs after scripts have loaded\n",
       "        Object.assign(window, window.__requirejsToggleBackup);\n",
       "        delete window.__requirejsToggleBackup;\n",
       "\n",
       "        return window.hglib;\n",
       "    };\n",
       "\n",
       "    var el = document.getElementById('jupyter-hg-4e6c8c4979cd4cedb72fc103b5513f3d');\n",
       "    var spec = JSON.parse(\"{\\\"editable\\\": true, \\\"viewEditable\\\": true, \\\"tracksEditable\\\": true, \\\"views\\\": [{\\\"layout\\\": {\\\"x\\\": 0, \\\"y\\\": 0, \\\"w\\\": 12, \\\"h\\\": 6}, \\\"tracks\\\": {\\\"left\\\": [{\\\"tilesetUid\\\": \\\"1570b703fb82b7bc68a8a133002e460a\\\", \\\"server\\\": \\\"/proxy/50396/api/v1/\\\", \\\"type\\\": \\\"vertical-chromosome-labels\\\", \\\"uid\\\": \\\"a864b977-e890-421f-8557-bd6198d74b36\\\"}], \\\"top\\\": [{\\\"tilesetUid\\\": \\\"1570b703fb82b7bc68a8a133002e460a\\\", \\\"server\\\": \\\"/proxy/50396/api/v1/\\\", \\\"type\\\": \\\"horizontal-chromosome-labels\\\", \\\"uid\\\": \\\"8e8a511f-eb74-45a8-9234-9115cb4516d5\\\"}, {\\\"tilesetUid\\\": \\\"f97406122ec4649888e00dc137a9f234\\\", \\\"server\\\": \\\"/proxy/50396/api/v1/\\\", \\\"type\\\": \\\"bar\\\", \\\"uid\\\": \\\"7fa81d75-1aef-4b59-9aab-9a6ba3aaf2a2\\\"}, {\\\"tilesetUid\\\": \\\"6bb03a499236059bd028775105f27c5f\\\", \\\"server\\\": \\\"/proxy/50396/api/v1/\\\", \\\"type\\\": \\\"bar\\\", \\\"uid\\\": \\\"92171668-cc8d-41ba-b28b-f8d2dac1936f\\\"}], \\\"center\\\": [{\\\"tilesetUid\\\": \\\"1570b703fb82b7bc68a8a133002e460a\\\", \\\"server\\\": \\\"/proxy/50396/api/v1/\\\", \\\"type\\\": \\\"heatmap\\\", \\\"uid\\\": \\\"aba1922f-ddda-4d1f-92cc-74f4a187bfa3\\\"}]}, \\\"uid\\\": \\\"bc71b1ae-3fda-442d-8a01-87785e17715b\\\", \\\"zoomLimits\\\": [1, null]}]}\");\n",
       "\n",
       "    loadHiglass().then(hglib => {\n",
       "        hglib.viewer(el, spec);\n",
       "    })\n",
       "  </script>\n",
       "</body>\n",
       "</html>"
      ],
      "text/plain": [
       "View(layout=Layout(x=0, y=0, w=12, h=6, moved=None, static=None), tracks=Tracks[TrackT](left=[EnumTrack(tilesetUid='1570b703fb82b7bc68a8a133002e460a', server='/proxy/50396/api/v1/', type='vertical-chromosome-labels', uid='a864b977-e890-421f-8557-bd6198d74b36', width=None, height=None, options=None, data=None, chromInfoPath=None, fromViewUid=None, x=None, y=None)], right=None, top=[EnumTrack(tilesetUid='1570b703fb82b7bc68a8a133002e460a', server='/proxy/50396/api/v1/', type='horizontal-chromosome-labels', uid='8e8a511f-eb74-45a8-9234-9115cb4516d5', width=None, height=None, options=None, data=None, chromInfoPath=None, fromViewUid=None, x=None, y=None), EnumTrack(tilesetUid='f97406122ec4649888e00dc137a9f234', server='/proxy/50396/api/v1/', type='bar', uid='7fa81d75-1aef-4b59-9aab-9a6ba3aaf2a2', width=None, height=None, options=None, data=None, chromInfoPath=None, fromViewUid=None, x=None, y=None), EnumTrack(tilesetUid='6bb03a499236059bd028775105f27c5f', server='/proxy/50396/api/v1/', type='bar', uid='92171668-cc8d-41ba-b28b-f8d2dac1936f', width=None, height=None, options=None, data=None, chromInfoPath=None, fromViewUid=None, x=None, y=None)], bottom=None, center=[HeatmapTrack(tilesetUid='1570b703fb82b7bc68a8a133002e460a', server='/proxy/50396/api/v1/', type='heatmap', uid='aba1922f-ddda-4d1f-92cc-74f4a187bfa3', width=None, height=None, options=None, data=None, position=None, transforms=None)], whole=None, gallery=None), uid='bc71b1ae-3fda-442d-8a01-87785e17715b', autocompleteSource=None, chromInfoPath=None, genomePositionSearchBox=None, genomePositionSearchBoxVisible=None, initialXDomain=None, initialYDomain=None, overlays=None, selectionView=None, zoomFixed=None, zoomLimits=(1, None))"
      ]
     },
     "execution_count": 110,
     "metadata": {},
     "output_type": "execute_result"
    }
   ],
   "source": [
    "# Might require two times to run\n",
    "cooler_tileset = hg.cooler(sorted(COOLERS)[0]) # returns a `LocalTileset` which can be used identially to a `RemoteTileset`\n",
    "tads = hg.bed2ddb('../arcuda/HiGlass/boundaries/tads/tads.bedpedb')\n",
    "\n",
    "boundaries_all = hg.bigwig('../arcuda/HiGlass/boundaries/bw/boundaries_WT_all_clusters.bw')\n",
    "boundaries_0 = hg.bigwig('../arcuda/HiGlass/boundaries/bw/boundaries_WT_cluster_0.bw')\n",
    "boundaries_1 = hg.bigwig('../arcuda/HiGlass/boundaries/bw/boundaries_WT_cluster_1.bw')\n",
    "boundaries_2 = hg.bigwig('../arcuda/HiGlass/boundaries/bw/boundaries_WT_cluster_2.bw')\n",
    "boundaries_3 = hg.bigwig('../arcuda/HiGlass/boundaries/bw/boundaries_WT_cluster_3.bw')\n",
    "\n",
    "fountains_all = hg.bigwig('../arcuda/HiGlass/fountains/bw/fountains_WT_all_clusters.bw')\n",
    "fountains_0 = hg.bigwig('../arcuda/HiGlass/fountains/bw/fountains_WT_cluster_0.bw')\n",
    "fountains_1 = hg.bigwig('../arcuda/HiGlass/fountains/bw/fountains_WT_cluster_1.bw')\n",
    "fountains_2 = hg.bigwig('../arcuda/HiGlass/fountains/bw/fountains_WT_cluster_2.bw')\n",
    "fountains_3 = hg.bigwig('../arcuda/HiGlass/fountains/bw/fountains_WT_cluster_3.bw')\n",
    "fountains_4 = hg.bigwig('../arcuda/HiGlass/fountains/bw/fountains_WT_cluster_4.bw')\n",
    "\n",
    "view = hg.view(\n",
    "    (cooler_tileset.track(\"horizontal-chromosome-labels\"), \"top\"),\n",
    "    #(gene_anno_tileset.track(\"horizontal-gene-annotations\", height=60), \"top\"),\n",
    "    (cooler_tileset.track(\"vertical-chromosome-labels\"), \"left\"),\n",
    "    (cooler_tileset.track(\"heatmap\"), \"center\"),\n",
    "    #(tads.track(\"2d-rectangle-domains\"), \"center\"),\n",
    "    (boundaries_all.track(\"bar\"), \"top\"),\n",
    "    #(boundaries_0.track(\"bar\"), \"top\"),\n",
    "    #(boundaries_1.track(\"bar\"), \"top\"),\n",
    "    #(boundaries_2.track(\"bar\"), \"top\"),\n",
    "    #(boundaries_3.track(\"bar\"), \"top\"),\n",
    "    (fountains_all.track(\"bar\"), \"top\"),\n",
    "    #(fountains_0.track(\"bar\"), \"top\"),\n",
    "    #(fountains_1.track(\"bar\"), \"top\"),\n",
    "    #(fountains_2.track(\"bar\"), \"top\"),\n",
    "    #(fountains_3.track(\"bar\"), \"top\"),\n",
    "    #(fountains_4.track(\"bar\"), \"top\"),\n",
    ")\n",
    "\n",
    "view\n",
    "\n",
    "# Lock zoom & location for each `View`\n",
    "# view_lock = hg.lock(view1, view2)\n",
    "\n",
    "# Concatenate views horizontally and apply synchronization lock\n",
    "# (view1 | view2).locks(view_lock)\n",
    "\n"
   ]
  },
  {
   "cell_type": "markdown",
   "metadata": {},
   "source": [
    "## Visual inspection of the clusters"
   ]
  },
  {
   "cell_type": "code",
   "execution_count": 90,
   "metadata": {},
   "outputs": [],
   "source": [
    "df_dots = pd.read_csv(\"../arcuda/HiGlass/boundaries/boundaries_WT_cluster_3.bed\", sep='\\t', header=None)"
   ]
  },
  {
   "cell_type": "code",
   "execution_count": 91,
   "metadata": {},
   "outputs": [],
   "source": [
    "df_dots.columns = ['chrom1', 'start1', 'end1', 'value1']"
   ]
  },
  {
   "cell_type": "code",
   "execution_count": 96,
   "metadata": {},
   "outputs": [],
   "source": [
    "import bioframe\n",
    "\n",
    "chromsizes = cooler_tileset.tileset.info()[\"chromsizes\"]\n",
    "\n",
    "# Sort dots by their position on chromosome:\n",
    "df_dots = bioframe.sort_bedframe(df_dots, bioframe.from_dict(chromsizes), cols=('chrom1', 'start1', 'end1'))\n",
    "\n",
    "# Create list of dots starts:\n",
    "dots_positions = [f\"{x[0]} {x[1]}\" for x in df_dots[['chrom1', 'start1']].drop_duplicates().values]\n",
    "offsets = [x[1] for x in df_dots[['chrom1', 'start1']].drop_duplicates().values]"
   ]
  },
  {
   "cell_type": "code",
   "execution_count": 97,
   "metadata": {},
   "outputs": [
    {
     "data": {
      "text/plain": [
       "([['chr1', 59578282],\n",
       "  ['chr2', 59640629],\n",
       "  ['chr3', 62628489],\n",
       "  ['chr4', 78093715],\n",
       "  ['chr5', 72500376],\n",
       "  ['chr6', 60270059],\n",
       "  ['chr7', 74282399],\n",
       "  ['chr8', 54304671],\n",
       "  ['chr9', 56459846],\n",
       "  ['chr10', 45420867],\n",
       "  ['chr11', 45484837],\n",
       "  ['chr12', 49182954],\n",
       "  ['chr13', 52186027],\n",
       "  ['chr14', 52660232],\n",
       "  ['chr15', 48040578],\n",
       "  ['chr16', 55266484],\n",
       "  ['chr17', 53461100],\n",
       "  ['chr18', 51023478],\n",
       "  ['chr19', 48449771],\n",
       "  ['chr20', 55201332],\n",
       "  ['chr21', 45934066],\n",
       "  ['chr22', 39133080],\n",
       "  ['chr23', 46223584],\n",
       "  ['chr24', 42172926],\n",
       "  ['chr25', 37502051],\n",
       "  ['chrM', 16596]],\n",
       " [0,\n",
       "  59578282,\n",
       "  119218911,\n",
       "  181847400,\n",
       "  259941115,\n",
       "  332441491,\n",
       "  392711550,\n",
       "  466993949,\n",
       "  521298620,\n",
       "  577758466,\n",
       "  623179333,\n",
       "  668664170,\n",
       "  717847124,\n",
       "  770033151,\n",
       "  822693383,\n",
       "  870733961,\n",
       "  926000445,\n",
       "  979461545,\n",
       "  1030485023,\n",
       "  1078934794,\n",
       "  1134136126,\n",
       "  1180070192,\n",
       "  1219203272,\n",
       "  1265426856,\n",
       "  1307599782,\n",
       "  1345101833,\n",
       "  1345118429])"
      ]
     },
     "execution_count": 97,
     "metadata": {},
     "output_type": "execute_result"
    }
   ],
   "source": [
    "## Example of zooming into chromosomes:\n",
    "import itertools\n",
    "from operator import itemgetter\n",
    "\n",
    "# # extract chromsizes from tileset and compute absolute offsets\n",
    "chromsizes = cooler_tileset.tileset.info()[\"chromsizes\"]\n",
    "offsets = list(itertools.accumulate(map(itemgetter(1), chromsizes), initial=0))\n",
    "chromsizes, offsets"
   ]
  },
  {
   "cell_type": "code",
   "execution_count": 98,
   "metadata": {},
   "outputs": [
    {
     "data": {
      "application/vnd.jupyter.widget-view+json": {
       "model_id": "5df003f580814c26ac7219d695ada606",
       "version_major": 2,
       "version_minor": 0
      },
      "text/plain": [
       "VBox(children=(Dropdown(options=('chr1 1090000', 'chr1 1340000', 'chr1 3650000', 'chr1 40620000', 'chr1 407100…"
      ]
     },
     "metadata": {},
     "output_type": "display_data"
    },
    {
     "ename": "IndexError",
     "evalue": "list index out of range",
     "output_type": "error",
     "traceback": [
      "\u001b[0;31m---------------------------------------------------------------------------\u001b[0m",
      "\u001b[0;31mIndexError\u001b[0m                                Traceback (most recent call last)",
      "File \u001b[0;32m~/anaconda3/envs/test-higlass/lib/python3.10/site-packages/ipywidgets/widgets/widget.py:756\u001b[0m, in \u001b[0;36mWidget._handle_msg\u001b[0;34m(self, msg)\u001b[0m\n\u001b[1;32m    754\u001b[0m         \u001b[38;5;28;01mif\u001b[39;00m \u001b[38;5;124m'\u001b[39m\u001b[38;5;124mbuffer_paths\u001b[39m\u001b[38;5;124m'\u001b[39m \u001b[38;5;129;01min\u001b[39;00m data:\n\u001b[1;32m    755\u001b[0m             _put_buffers(state, data[\u001b[38;5;124m'\u001b[39m\u001b[38;5;124mbuffer_paths\u001b[39m\u001b[38;5;124m'\u001b[39m], msg[\u001b[38;5;124m'\u001b[39m\u001b[38;5;124mbuffers\u001b[39m\u001b[38;5;124m'\u001b[39m])\n\u001b[0;32m--> 756\u001b[0m         \u001b[38;5;28;43mself\u001b[39;49m\u001b[38;5;241;43m.\u001b[39;49m\u001b[43mset_state\u001b[49m\u001b[43m(\u001b[49m\u001b[43mstate\u001b[49m\u001b[43m)\u001b[49m\n\u001b[1;32m    758\u001b[0m \u001b[38;5;66;03m# Handle a state request.\u001b[39;00m\n\u001b[1;32m    759\u001b[0m \u001b[38;5;28;01melif\u001b[39;00m method \u001b[38;5;241m==\u001b[39m \u001b[38;5;124m'\u001b[39m\u001b[38;5;124mrequest_state\u001b[39m\u001b[38;5;124m'\u001b[39m:\n",
      "File \u001b[0;32m~/anaconda3/envs/test-higlass/lib/python3.10/site-packages/ipywidgets/widgets/widget.py:620\u001b[0m, in \u001b[0;36mWidget.set_state\u001b[0;34m(self, sync_data)\u001b[0m\n\u001b[1;32m    615\u001b[0m         \u001b[38;5;28mself\u001b[39m\u001b[38;5;241m.\u001b[39m_send(msg, buffers\u001b[38;5;241m=\u001b[39mecho_buffers)\n\u001b[1;32m    617\u001b[0m \u001b[38;5;66;03m# The order of these context managers is important. Properties must\u001b[39;00m\n\u001b[1;32m    618\u001b[0m \u001b[38;5;66;03m# be locked when the hold_trait_notification context manager is\u001b[39;00m\n\u001b[1;32m    619\u001b[0m \u001b[38;5;66;03m# released and notifications are fired.\u001b[39;00m\n\u001b[0;32m--> 620\u001b[0m \u001b[38;5;28;01mwith\u001b[39;00m \u001b[38;5;28mself\u001b[39m\u001b[38;5;241m.\u001b[39m_lock_property(\u001b[38;5;241m*\u001b[39m\u001b[38;5;241m*\u001b[39msync_data), \u001b[38;5;28mself\u001b[39m\u001b[38;5;241m.\u001b[39mhold_trait_notifications():\n\u001b[1;32m    621\u001b[0m     \u001b[38;5;28;01mfor\u001b[39;00m name \u001b[38;5;129;01min\u001b[39;00m sync_data:\n\u001b[1;32m    622\u001b[0m         \u001b[38;5;28;01mif\u001b[39;00m name \u001b[38;5;129;01min\u001b[39;00m \u001b[38;5;28mself\u001b[39m\u001b[38;5;241m.\u001b[39mkeys:\n",
      "File \u001b[0;32m~/anaconda3/envs/test-higlass/lib/python3.10/contextlib.py:142\u001b[0m, in \u001b[0;36m_GeneratorContextManager.__exit__\u001b[0;34m(self, typ, value, traceback)\u001b[0m\n\u001b[1;32m    140\u001b[0m \u001b[38;5;28;01mif\u001b[39;00m typ \u001b[38;5;129;01mis\u001b[39;00m \u001b[38;5;28;01mNone\u001b[39;00m:\n\u001b[1;32m    141\u001b[0m     \u001b[38;5;28;01mtry\u001b[39;00m:\n\u001b[0;32m--> 142\u001b[0m         \u001b[38;5;28;43mnext\u001b[39;49m\u001b[43m(\u001b[49m\u001b[38;5;28;43mself\u001b[39;49m\u001b[38;5;241;43m.\u001b[39;49m\u001b[43mgen\u001b[49m\u001b[43m)\u001b[49m\n\u001b[1;32m    143\u001b[0m     \u001b[38;5;28;01mexcept\u001b[39;00m \u001b[38;5;167;01mStopIteration\u001b[39;00m:\n\u001b[1;32m    144\u001b[0m         \u001b[38;5;28;01mreturn\u001b[39;00m \u001b[38;5;28;01mFalse\u001b[39;00m\n",
      "File \u001b[0;32m~/anaconda3/envs/test-higlass/lib/python3.10/site-packages/traitlets/traitlets.py:1371\u001b[0m, in \u001b[0;36mHasTraits.hold_trait_notifications\u001b[0;34m(self)\u001b[0m\n\u001b[1;32m   1369\u001b[0m \u001b[38;5;28;01mfor\u001b[39;00m changes \u001b[38;5;129;01min\u001b[39;00m cache\u001b[38;5;241m.\u001b[39mvalues():\n\u001b[1;32m   1370\u001b[0m     \u001b[38;5;28;01mfor\u001b[39;00m change \u001b[38;5;129;01min\u001b[39;00m changes:\n\u001b[0;32m-> 1371\u001b[0m         \u001b[38;5;28;43mself\u001b[39;49m\u001b[38;5;241;43m.\u001b[39;49m\u001b[43mnotify_change\u001b[49m\u001b[43m(\u001b[49m\u001b[43mchange\u001b[49m\u001b[43m)\u001b[49m\n",
      "File \u001b[0;32m~/anaconda3/envs/test-higlass/lib/python3.10/site-packages/ipywidgets/widgets/widget.py:686\u001b[0m, in \u001b[0;36mWidget.notify_change\u001b[0;34m(self, change)\u001b[0m\n\u001b[1;32m    683\u001b[0m     \u001b[38;5;28;01mif\u001b[39;00m name \u001b[38;5;129;01min\u001b[39;00m \u001b[38;5;28mself\u001b[39m\u001b[38;5;241m.\u001b[39mkeys \u001b[38;5;129;01mand\u001b[39;00m \u001b[38;5;28mself\u001b[39m\u001b[38;5;241m.\u001b[39m_should_send_property(name, \u001b[38;5;28mgetattr\u001b[39m(\u001b[38;5;28mself\u001b[39m, name)):\n\u001b[1;32m    684\u001b[0m         \u001b[38;5;66;03m# Send new state to front-end\u001b[39;00m\n\u001b[1;32m    685\u001b[0m         \u001b[38;5;28mself\u001b[39m\u001b[38;5;241m.\u001b[39msend_state(key\u001b[38;5;241m=\u001b[39mname)\n\u001b[0;32m--> 686\u001b[0m \u001b[38;5;28;43msuper\u001b[39;49m\u001b[43m(\u001b[49m\u001b[43mWidget\u001b[49m\u001b[43m,\u001b[49m\u001b[43m \u001b[49m\u001b[38;5;28;43mself\u001b[39;49m\u001b[43m)\u001b[49m\u001b[38;5;241;43m.\u001b[39;49m\u001b[43mnotify_change\u001b[49m\u001b[43m(\u001b[49m\u001b[43mchange\u001b[49m\u001b[43m)\u001b[49m\n",
      "File \u001b[0;32m~/anaconda3/envs/test-higlass/lib/python3.10/site-packages/traitlets/traitlets.py:1386\u001b[0m, in \u001b[0;36mHasTraits.notify_change\u001b[0;34m(self, change)\u001b[0m\n\u001b[1;32m   1384\u001b[0m \u001b[38;5;28;01mdef\u001b[39;00m \u001b[38;5;21mnotify_change\u001b[39m(\u001b[38;5;28mself\u001b[39m, change):\n\u001b[1;32m   1385\u001b[0m     \u001b[38;5;124;03m\"\"\"Notify observers of a change event\"\"\"\u001b[39;00m\n\u001b[0;32m-> 1386\u001b[0m     \u001b[38;5;28;01mreturn\u001b[39;00m \u001b[38;5;28;43mself\u001b[39;49m\u001b[38;5;241;43m.\u001b[39;49m\u001b[43m_notify_observers\u001b[49m\u001b[43m(\u001b[49m\u001b[43mchange\u001b[49m\u001b[43m)\u001b[49m\n",
      "File \u001b[0;32m~/anaconda3/envs/test-higlass/lib/python3.10/site-packages/traitlets/traitlets.py:1431\u001b[0m, in \u001b[0;36mHasTraits._notify_observers\u001b[0;34m(self, event)\u001b[0m\n\u001b[1;32m   1428\u001b[0m \u001b[38;5;28;01melif\u001b[39;00m \u001b[38;5;28misinstance\u001b[39m(c, EventHandler) \u001b[38;5;129;01mand\u001b[39;00m c\u001b[38;5;241m.\u001b[39mname \u001b[38;5;129;01mis\u001b[39;00m \u001b[38;5;129;01mnot\u001b[39;00m \u001b[38;5;28;01mNone\u001b[39;00m:\n\u001b[1;32m   1429\u001b[0m     c \u001b[38;5;241m=\u001b[39m \u001b[38;5;28mgetattr\u001b[39m(\u001b[38;5;28mself\u001b[39m, c\u001b[38;5;241m.\u001b[39mname)\n\u001b[0;32m-> 1431\u001b[0m \u001b[43mc\u001b[49m\u001b[43m(\u001b[49m\u001b[43mevent\u001b[49m\u001b[43m)\u001b[49m\n",
      "Input \u001b[0;32mIn [98]\u001b[0m, in \u001b[0;36mhandle_change\u001b[0;34m(e)\u001b[0m\n\u001b[1;32m     13\u001b[0m \u001b[38;5;28;01mif\u001b[39;00m e[\u001b[38;5;124m\"\u001b[39m\u001b[38;5;124mtype\u001b[39m\u001b[38;5;124m\"\u001b[39m] \u001b[38;5;241m==\u001b[39m \u001b[38;5;124m\"\u001b[39m\u001b[38;5;124mchange\u001b[39m\u001b[38;5;124m\"\u001b[39m \u001b[38;5;129;01mand\u001b[39;00m e[\u001b[38;5;124m\"\u001b[39m\u001b[38;5;124mname\u001b[39m\u001b[38;5;124m\"\u001b[39m] \u001b[38;5;241m==\u001b[39m \u001b[38;5;124m\"\u001b[39m\u001b[38;5;124mindex\u001b[39m\u001b[38;5;124m\"\u001b[39m:\n\u001b[1;32m     14\u001b[0m     index \u001b[38;5;241m=\u001b[39m e[\u001b[38;5;124m\"\u001b[39m\u001b[38;5;124mnew\u001b[39m\u001b[38;5;124m\"\u001b[39m]\n\u001b[0;32m---> 16\u001b[0m     start \u001b[38;5;241m=\u001b[39m \u001b[43moffsets\u001b[49m\u001b[43m[\u001b[49m\u001b[43mindex\u001b[49m\u001b[43m]\u001b[49m \u001b[38;5;241m-\u001b[39m \u001b[38;5;241m100_000\u001b[39m\n\u001b[1;32m     17\u001b[0m     end \u001b[38;5;241m=\u001b[39m offsets[index] \u001b[38;5;241m+\u001b[39m \u001b[38;5;241m100_000\u001b[39m\n\u001b[1;32m     19\u001b[0m     \u001b[38;5;66;03m# navigate higlass viewer\u001b[39;00m\n",
      "\u001b[0;31mIndexError\u001b[0m: list index out of range"
     ]
    }
   ],
   "source": [
    "import ipywidgets\n",
    "\n",
    "# a jupyter widget for the higlass viewer\n",
    "higlass_widget = view.widget()\n",
    "\n",
    "# a dropdown widget\n",
    "dropdown = ipywidgets.Dropdown(options=dots_positions)\n",
    "\n",
    "def handle_change(e):\n",
    "    \"\"\"Connects dropdown menu to HiGlassWidget instance\"\"\"\n",
    "    \n",
    "    # make sure it's a \"change\" event and the value of \"new\" is the index of the option\n",
    "    if e[\"type\"] == \"change\" and e[\"name\"] == \"index\":\n",
    "        index = e[\"new\"]\n",
    "        \n",
    "        start = offsets[index] - 100_000\n",
    "        end = offsets[index] + 100_000\n",
    "        \n",
    "        # navigate higlass viewer\n",
    "        higlass_widget.zoom_to(\n",
    "            view.uid,\n",
    "            start, end,\n",
    "            start, end)\n",
    "    \n",
    "\n",
    "# connect our function above to the dropdown menu\n",
    "dropdown.observe(handle_change)\n",
    "\n",
    "# NB - there seems to be a bug the first time you engage with the dropdown. Try again and things should work...\n",
    "ipywidgets.VBox([dropdown, higlass_widget])"
   ]
  },
  {
   "cell_type": "code",
   "execution_count": null,
   "metadata": {},
   "outputs": [],
   "source": []
  }
 ],
 "metadata": {
  "kernelspec": {
   "display_name": "Python 3",
   "language": "python",
   "name": "python3"
  },
  "language_info": {
   "codemirror_mode": {
    "name": "ipython",
    "version": 3
   },
   "file_extension": ".py",
   "mimetype": "text/x-python",
   "name": "python",
   "nbconvert_exporter": "python",
   "pygments_lexer": "ipython3",
   "version": "3.7.3"
  }
 },
 "nbformat": 4,
 "nbformat_minor": 5
}
