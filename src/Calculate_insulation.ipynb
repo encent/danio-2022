{
 "cells": [
  {
   "cell_type": "markdown",
   "metadata": {},
   "source": [
    "## Import dependecies"
   ]
  },
  {
   "cell_type": "code",
   "execution_count": 43,
   "metadata": {},
   "outputs": [],
   "source": [
    "import gc\n",
    "import sys\n",
    "import time\n",
    "import warnings\n",
    "import logging\n",
    "import random\n",
    "import json\n",
    "from scipy import stats\n",
    "from os.path import join, basename, splitext, isfile\n",
    "from os import listdir\n",
    "from collections import OrderedDict\n",
    "\n",
    "import numpy as np\n",
    "import pandas as pd\n",
    "import matplotlib as mpl\n",
    "import matplotlib.pyplot as plt\n",
    "import seaborn as sns\n",
    "\n",
    "import cooler\n",
    "import cooltools\n",
    "\n",
    "import hichew\n",
    "from hichew.calling import boundaries, domains, clusters\n",
    "from hichew.compute import normalize, d_scores, insulation_scores, silhouette\n",
    "from hichew.loader import cool_files\n",
    "from hichew.plot import clusters_dynamics, viz_opt_curves, viz_tads, _pca, _tsne\n"
   ]
  },
  {
   "cell_type": "code",
   "execution_count": 44,
   "metadata": {},
   "outputs": [],
   "source": [
    "import logging\n",
    "import time\n",
    "import operator\n",
    "import os\n",
    "import sys\n",
    "import warnings\n",
    "\n",
    "import numpy as np\n",
    "import pandas as pd\n",
    "from sklearn.cluster import KMeans, AgglomerativeClustering, SpectralClustering, AffinityPropagation, MeanShift\n",
    "\n",
    "from hichew.lib import utils"
   ]
  },
  {
   "cell_type": "code",
   "execution_count": 45,
   "metadata": {},
   "outputs": [],
   "source": [
    "sns.set(context='paper', style='whitegrid')\n",
    "warnings.filterwarnings(\"ignore\")"
   ]
  },
  {
   "cell_type": "code",
   "execution_count": 46,
   "metadata": {},
   "outputs": [],
   "source": [
    "%matplotlib inline"
   ]
  },
  {
   "cell_type": "markdown",
   "metadata": {},
   "source": [
    "## Specify parameters"
   ]
  },
  {
   "cell_type": "code",
   "execution_count": 47,
   "metadata": {},
   "outputs": [],
   "source": [
    "resolution = 10000\n",
    "\n",
    "fountains_path = '../arcuda/fountains/{}.bed'\n",
    "boundaries_path = '../arcuda/boundaries/filtered/{}.csv'\n",
    "coolers_path = '../arcuda/coolers/This2022/{}.mcool'\n",
    "\n",
    "stages_fountains = ['Wild-Type_2.75.danrer11-reduced.mapq_30.1000', \n",
    "                    'WT.danrer11-reduced.mapq_30.1000', \n",
    "                    'TR.danrer11-reduced.mapq_30.1000', \n",
    "                    'Wild-Type_11.danrer11-reduced.mapq_30.1000', \n",
    "                    'Wild-Type_25.danrer11-reduced.mapq_30.1000']\n",
    "\n",
    "stages_boundaries = ['sperm.danrer11-reduced.mapq_30.1000', \n",
    "                     'Wild-Type_2.75.danrer11-reduced.mapq_30.1000', \n",
    "                     'WT.danrer11-reduced.mapq_30.1000', \n",
    "                     'TR.danrer11-reduced.mapq_30.1000', \n",
    "                     'Wild-Type_5.3.danrer11-reduced.mapq_30.1000', \n",
    "                     'Wild-Type_11.danrer11-reduced.mapq_30.1000', \n",
    "                     'Wild-Type_25.danrer11-reduced.mapq_30.1000']\n",
    "\n",
    "stages_all = ['sperm.danrer11-reduced.mapq_30.1000', \n",
    "              'Wild-Type_2.75.danrer11-reduced.mapq_30.1000', \n",
    "              'WT.danrer11-reduced.mapq_30.1000', \n",
    "              'TR.danrer11-reduced.mapq_30.1000', \n",
    "              'Wild-Type_5.3.danrer11-reduced.mapq_30.1000', \n",
    "              'Wild-Type_11.danrer11-reduced.mapq_30.1000', \n",
    "              'Wild-Type_25.danrer11-reduced.mapq_30.1000']\n"
   ]
  },
  {
   "cell_type": "markdown",
   "metadata": {},
   "source": [
    "## Get data"
   ]
  },
  {
   "cell_type": "markdown",
   "metadata": {},
   "source": [
    "#### Chromosomes"
   ]
  },
  {
   "cell_type": "code",
   "execution_count": 48,
   "metadata": {},
   "outputs": [],
   "source": [
    "# chromosome armsizes\n",
    "\n",
    "chromosome_armsizes_path = '../arcuda/genome/danRer11.armsizes.txt'\n",
    "chromosome_armsizes_data = pd.read_csv(chromosome_armsizes_path)\n",
    "chromosome_armsizes_data = chromosome_armsizes_data.iloc[:-1]\n",
    "chromosomes = list(chromosome_armsizes_data.chrom.drop_duplicates())"
   ]
  },
  {
   "cell_type": "markdown",
   "metadata": {},
   "source": [
    "#### Boundaries"
   ]
  },
  {
   "cell_type": "code",
   "execution_count": 49,
   "metadata": {},
   "outputs": [],
   "source": [
    "boundaries_dict = dict.fromkeys(stages_boundaries, None)\n",
    "for stage in stages_boundaries:\n",
    "    boundaries_data = pd.read_csv(boundaries_path.format(stage))\n",
    "    boundaries_dict[stage] = boundaries_data"
   ]
  },
  {
   "cell_type": "markdown",
   "metadata": {},
   "source": [
    "#### Fountains"
   ]
  },
  {
   "cell_type": "code",
   "execution_count": 55,
   "metadata": {},
   "outputs": [],
   "source": [
    "fountains_dict = dict.fromkeys(stages_fountains, None)\n",
    "for stage in stages_fountains:\n",
    "    fountains_data = pd.read_csv(fountains_path.format(stage), sep='\\t', header=None)\n",
    "    fountains_data.columns = ['ch', 'bgn', 'end', 'unknown', 'sim']\n",
    "    boundaries_data = boundaries_dict[stage].copy()\n",
    "    fountains_data['bs_threshold'] = None\n",
    "    fountains_data['window'] = None\n",
    "    for ch in chromosomes:\n",
    "        bs_threshold = boundaries_data[boundaries_data.ch == ch]['bs_threshold'].iloc[0]\n",
    "        window = boundaries_data[boundaries_data.ch == ch]['window'].iloc[0]\n",
    "        fountains_data.loc[fountains_data[fountains_data.ch == ch].index, 'bs_threshold'] = bs_threshold\n",
    "        fountains_data.loc[fountains_data[fountains_data.ch == ch].index, 'window'] = window\n",
    "    fountains_dict[stage] = fountains_data"
   ]
  },
  {
   "cell_type": "markdown",
   "metadata": {},
   "source": [
    "## Calculate insulation score for each set of boundaries for all stages\n",
    "\n",
    "E.g. for boundaries called on the stage 25 hrs we would calculate insulation score in corresponding loci for all stages given in the variable `stages_boundaries`"
   ]
  },
  {
   "cell_type": "code",
   "execution_count": 28,
   "metadata": {},
   "outputs": [],
   "source": [
    "fname = '../arcuda/clustering/insulation/boundaries/{}.csv'"
   ]
  },
  {
   "cell_type": "code",
   "execution_count": 29,
   "metadata": {
    "scrolled": false
   },
   "outputs": [
    {
     "name": "stderr",
     "output_type": "stream",
     "text": [
      "INFO:root:LOADER|COOL_FILES| List of coolfiles of interest: ['../arcuda/coolers/This2022/sperm.danrer11-reduced.mapq_30.1000.mcool']\n",
      "INFO:root:LOADER|COOL_FILES| Start loading coolfiles...\n"
     ]
    },
    {
     "name": "stdout",
     "output_type": "stream",
     "text": [
      "sperm.danrer11-reduced.mapq_30.1000\n"
     ]
    },
    {
     "name": "stderr",
     "output_type": "stream",
     "text": [
      "INFO:root:LOADER|COOL_FILES| Loading completed in 0m 29s\n",
      "INFO:root:COMPUTE|INSULATION_SCORES| Start computing insulation scores...\n",
      "INFO:root:COMPUTE|INSULATION_SCORES| Complete computing insulation scores in 1m 2s\n",
      "INFO:root:COMPUTE|INSULATION_SCORES| Start computing insulation scores...\n",
      "INFO:root:COMPUTE|INSULATION_SCORES| Complete computing insulation scores in 1m 4s\n",
      "INFO:root:COMPUTE|INSULATION_SCORES| Start computing insulation scores...\n",
      "INFO:root:COMPUTE|INSULATION_SCORES| Complete computing insulation scores in 0m 55s\n",
      "INFO:root:COMPUTE|INSULATION_SCORES| Start computing insulation scores...\n",
      "INFO:root:COMPUTE|INSULATION_SCORES| Complete computing insulation scores in 0m 52s\n",
      "INFO:root:COMPUTE|INSULATION_SCORES| Start computing insulation scores...\n",
      "INFO:root:COMPUTE|INSULATION_SCORES| Complete computing insulation scores in 1m 0s\n",
      "INFO:root:COMPUTE|INSULATION_SCORES| Start computing insulation scores...\n",
      "INFO:root:COMPUTE|INSULATION_SCORES| Complete computing insulation scores in 0m 47s\n",
      "INFO:root:COMPUTE|INSULATION_SCORES| Start computing insulation scores...\n",
      "INFO:root:COMPUTE|INSULATION_SCORES| Complete computing insulation scores in 1m 5s\n",
      "INFO:root:LOADER|COOL_FILES| List of coolfiles of interest: ['../arcuda/coolers/This2022/Wild-Type_2.75.danrer11-reduced.mapq_30.1000.mcool']\n",
      "INFO:root:LOADER|COOL_FILES| Start loading coolfiles...\n"
     ]
    },
    {
     "name": "stdout",
     "output_type": "stream",
     "text": [
      "Wild-Type_2.75.danrer11-reduced.mapq_30.1000\n"
     ]
    },
    {
     "name": "stderr",
     "output_type": "stream",
     "text": [
      "INFO:root:LOADER|COOL_FILES| Loading completed in 0m 32s\n",
      "INFO:root:COMPUTE|INSULATION_SCORES| Start computing insulation scores...\n",
      "INFO:root:COMPUTE|INSULATION_SCORES| Complete computing insulation scores in 1m 32s\n",
      "INFO:root:COMPUTE|INSULATION_SCORES| Start computing insulation scores...\n",
      "INFO:root:COMPUTE|INSULATION_SCORES| Complete computing insulation scores in 1m 23s\n",
      "INFO:root:COMPUTE|INSULATION_SCORES| Start computing insulation scores...\n",
      "INFO:root:COMPUTE|INSULATION_SCORES| Complete computing insulation scores in 1m 10s\n",
      "INFO:root:COMPUTE|INSULATION_SCORES| Start computing insulation scores...\n",
      "INFO:root:COMPUTE|INSULATION_SCORES| Complete computing insulation scores in 0m 52s\n",
      "INFO:root:COMPUTE|INSULATION_SCORES| Start computing insulation scores...\n",
      "INFO:root:COMPUTE|INSULATION_SCORES| Complete computing insulation scores in 1m 17s\n",
      "INFO:root:COMPUTE|INSULATION_SCORES| Start computing insulation scores...\n",
      "INFO:root:COMPUTE|INSULATION_SCORES| Complete computing insulation scores in 0m 48s\n",
      "INFO:root:COMPUTE|INSULATION_SCORES| Start computing insulation scores...\n",
      "INFO:root:COMPUTE|INSULATION_SCORES| Complete computing insulation scores in 0m 59s\n",
      "INFO:root:LOADER|COOL_FILES| List of coolfiles of interest: ['../arcuda/coolers/This2022/WT.danrer11-reduced.mapq_30.1000.mcool']\n",
      "INFO:root:LOADER|COOL_FILES| Start loading coolfiles...\n"
     ]
    },
    {
     "name": "stdout",
     "output_type": "stream",
     "text": [
      "WT.danrer11-reduced.mapq_30.1000\n"
     ]
    },
    {
     "name": "stderr",
     "output_type": "stream",
     "text": [
      "INFO:root:LOADER|COOL_FILES| Loading completed in 0m 22s\n",
      "INFO:root:COMPUTE|INSULATION_SCORES| Start computing insulation scores...\n",
      "INFO:root:COMPUTE|INSULATION_SCORES| Complete computing insulation scores in 1m 6s\n",
      "INFO:root:COMPUTE|INSULATION_SCORES| Start computing insulation scores...\n",
      "INFO:root:COMPUTE|INSULATION_SCORES| Complete computing insulation scores in 1m 5s\n",
      "INFO:root:COMPUTE|INSULATION_SCORES| Start computing insulation scores...\n",
      "INFO:root:COMPUTE|INSULATION_SCORES| Complete computing insulation scores in 0m 55s\n",
      "INFO:root:COMPUTE|INSULATION_SCORES| Start computing insulation scores...\n",
      "INFO:root:COMPUTE|INSULATION_SCORES| Complete computing insulation scores in 0m 57s\n",
      "INFO:root:COMPUTE|INSULATION_SCORES| Start computing insulation scores...\n",
      "INFO:root:COMPUTE|INSULATION_SCORES| Complete computing insulation scores in 1m 3s\n",
      "INFO:root:COMPUTE|INSULATION_SCORES| Start computing insulation scores...\n",
      "INFO:root:COMPUTE|INSULATION_SCORES| Complete computing insulation scores in 0m 47s\n",
      "INFO:root:COMPUTE|INSULATION_SCORES| Start computing insulation scores...\n",
      "INFO:root:COMPUTE|INSULATION_SCORES| Complete computing insulation scores in 1m 2s\n",
      "INFO:root:LOADER|COOL_FILES| List of coolfiles of interest: ['../arcuda/coolers/This2022/TR.danrer11-reduced.mapq_30.1000.mcool']\n",
      "INFO:root:LOADER|COOL_FILES| Start loading coolfiles...\n"
     ]
    },
    {
     "name": "stdout",
     "output_type": "stream",
     "text": [
      "TR.danrer11-reduced.mapq_30.1000\n"
     ]
    },
    {
     "name": "stderr",
     "output_type": "stream",
     "text": [
      "INFO:root:LOADER|COOL_FILES| Loading completed in 0m 29s\n",
      "INFO:root:COMPUTE|INSULATION_SCORES| Start computing insulation scores...\n",
      "INFO:root:COMPUTE|INSULATION_SCORES| Complete computing insulation scores in 1m 6s\n",
      "INFO:root:COMPUTE|INSULATION_SCORES| Start computing insulation scores...\n",
      "INFO:root:COMPUTE|INSULATION_SCORES| Complete computing insulation scores in 1m 11s\n",
      "INFO:root:COMPUTE|INSULATION_SCORES| Start computing insulation scores...\n",
      "INFO:root:COMPUTE|INSULATION_SCORES| Complete computing insulation scores in 1m 3s\n",
      "INFO:root:COMPUTE|INSULATION_SCORES| Start computing insulation scores...\n",
      "INFO:root:COMPUTE|INSULATION_SCORES| Complete computing insulation scores in 1m 18s\n",
      "INFO:root:COMPUTE|INSULATION_SCORES| Start computing insulation scores...\n",
      "INFO:root:COMPUTE|INSULATION_SCORES| Complete computing insulation scores in 1m 39s\n",
      "INFO:root:COMPUTE|INSULATION_SCORES| Start computing insulation scores...\n",
      "INFO:root:COMPUTE|INSULATION_SCORES| Complete computing insulation scores in 0m 59s\n",
      "INFO:root:COMPUTE|INSULATION_SCORES| Start computing insulation scores...\n",
      "INFO:root:COMPUTE|INSULATION_SCORES| Complete computing insulation scores in 1m 21s\n",
      "INFO:root:LOADER|COOL_FILES| List of coolfiles of interest: ['../arcuda/coolers/This2022/Wild-Type_5.3.danrer11-reduced.mapq_30.1000.mcool']\n",
      "INFO:root:LOADER|COOL_FILES| Start loading coolfiles...\n"
     ]
    },
    {
     "name": "stdout",
     "output_type": "stream",
     "text": [
      "Wild-Type_5.3.danrer11-reduced.mapq_30.1000\n"
     ]
    },
    {
     "name": "stderr",
     "output_type": "stream",
     "text": [
      "INFO:root:LOADER|COOL_FILES| Loading completed in 0m 21s\n",
      "INFO:root:COMPUTE|INSULATION_SCORES| Start computing insulation scores...\n",
      "INFO:root:COMPUTE|INSULATION_SCORES| Complete computing insulation scores in 0m 60s\n",
      "INFO:root:COMPUTE|INSULATION_SCORES| Start computing insulation scores...\n",
      "INFO:root:COMPUTE|INSULATION_SCORES| Complete computing insulation scores in 1m 7s\n",
      "INFO:root:COMPUTE|INSULATION_SCORES| Start computing insulation scores...\n",
      "INFO:root:COMPUTE|INSULATION_SCORES| Complete computing insulation scores in 0m 57s\n",
      "INFO:root:COMPUTE|INSULATION_SCORES| Start computing insulation scores...\n",
      "INFO:root:COMPUTE|INSULATION_SCORES| Complete computing insulation scores in 0m 55s\n",
      "INFO:root:COMPUTE|INSULATION_SCORES| Start computing insulation scores...\n",
      "INFO:root:COMPUTE|INSULATION_SCORES| Complete computing insulation scores in 1m 2s\n",
      "INFO:root:COMPUTE|INSULATION_SCORES| Start computing insulation scores...\n",
      "INFO:root:COMPUTE|INSULATION_SCORES| Complete computing insulation scores in 1m 16s\n",
      "INFO:root:COMPUTE|INSULATION_SCORES| Start computing insulation scores...\n",
      "INFO:root:COMPUTE|INSULATION_SCORES| Complete computing insulation scores in 1m 54s\n",
      "INFO:root:LOADER|COOL_FILES| List of coolfiles of interest: ['../arcuda/coolers/This2022/Wild-Type_11.danrer11-reduced.mapq_30.1000.mcool']\n",
      "INFO:root:LOADER|COOL_FILES| Start loading coolfiles...\n"
     ]
    },
    {
     "name": "stdout",
     "output_type": "stream",
     "text": [
      "Wild-Type_11.danrer11-reduced.mapq_30.1000\n"
     ]
    },
    {
     "name": "stderr",
     "output_type": "stream",
     "text": [
      "INFO:root:LOADER|COOL_FILES| Loading completed in 0m 21s\n",
      "INFO:root:COMPUTE|INSULATION_SCORES| Start computing insulation scores...\n",
      "INFO:root:COMPUTE|INSULATION_SCORES| Complete computing insulation scores in 1m 1s\n",
      "INFO:root:COMPUTE|INSULATION_SCORES| Start computing insulation scores...\n",
      "INFO:root:COMPUTE|INSULATION_SCORES| Complete computing insulation scores in 1m 11s\n",
      "INFO:root:COMPUTE|INSULATION_SCORES| Start computing insulation scores...\n",
      "INFO:root:COMPUTE|INSULATION_SCORES| Complete computing insulation scores in 0m 58s\n",
      "INFO:root:COMPUTE|INSULATION_SCORES| Start computing insulation scores...\n",
      "INFO:root:COMPUTE|INSULATION_SCORES| Complete computing insulation scores in 0m 55s\n",
      "INFO:root:COMPUTE|INSULATION_SCORES| Start computing insulation scores...\n",
      "INFO:root:COMPUTE|INSULATION_SCORES| Complete computing insulation scores in 1m 11s\n",
      "INFO:root:COMPUTE|INSULATION_SCORES| Start computing insulation scores...\n",
      "INFO:root:COMPUTE|INSULATION_SCORES| Complete computing insulation scores in 0m 53s\n",
      "INFO:root:COMPUTE|INSULATION_SCORES| Start computing insulation scores...\n",
      "INFO:root:COMPUTE|INSULATION_SCORES| Complete computing insulation scores in 1m 0s\n",
      "INFO:root:LOADER|COOL_FILES| List of coolfiles of interest: ['../arcuda/coolers/This2022/Wild-Type_25.danrer11-reduced.mapq_30.1000.mcool']\n",
      "INFO:root:LOADER|COOL_FILES| Start loading coolfiles...\n"
     ]
    },
    {
     "name": "stdout",
     "output_type": "stream",
     "text": [
      "Wild-Type_25.danrer11-reduced.mapq_30.1000\n"
     ]
    },
    {
     "name": "stderr",
     "output_type": "stream",
     "text": [
      "INFO:root:LOADER|COOL_FILES| Loading completed in 0m 25s\n",
      "INFO:root:COMPUTE|INSULATION_SCORES| Start computing insulation scores...\n",
      "INFO:root:COMPUTE|INSULATION_SCORES| Complete computing insulation scores in 0m 59s\n",
      "INFO:root:COMPUTE|INSULATION_SCORES| Start computing insulation scores...\n",
      "INFO:root:COMPUTE|INSULATION_SCORES| Complete computing insulation scores in 0m 56s\n",
      "INFO:root:COMPUTE|INSULATION_SCORES| Start computing insulation scores...\n",
      "INFO:root:COMPUTE|INSULATION_SCORES| Complete computing insulation scores in 0m 51s\n",
      "INFO:root:COMPUTE|INSULATION_SCORES| Start computing insulation scores...\n",
      "INFO:root:COMPUTE|INSULATION_SCORES| Complete computing insulation scores in 0m 50s\n",
      "INFO:root:COMPUTE|INSULATION_SCORES| Start computing insulation scores...\n",
      "INFO:root:COMPUTE|INSULATION_SCORES| Complete computing insulation scores in 0m 59s\n",
      "INFO:root:COMPUTE|INSULATION_SCORES| Start computing insulation scores...\n",
      "INFO:root:COMPUTE|INSULATION_SCORES| Complete computing insulation scores in 0m 45s\n",
      "INFO:root:COMPUTE|INSULATION_SCORES| Start computing insulation scores...\n",
      "INFO:root:COMPUTE|INSULATION_SCORES| Complete computing insulation scores in 0m 58s\n"
     ]
    }
   ],
   "source": [
    "for stage in stages_boundaries:\n",
    "    print(stage)\n",
    "    matrices, coolers = cool_files(coolers_path.format(stage), resolution=resolution, chromnames=chromosomes)\n",
    "    for st in stages_boundaries:\n",
    "        insulations = boundaries_dict[st].copy()\n",
    "        insulations = insulation_scores(insulations, coolers, stages=[stage], chromnames=chromosomes)\n",
    "        boundaries_dict[st] = insulations.copy()\n",
    "    del matrices\n",
    "    del coolers\n",
    "    gc.collect()"
   ]
  },
  {
   "cell_type": "code",
   "execution_count": 30,
   "metadata": {},
   "outputs": [],
   "source": [
    "for stage in stages_boundaries:\n",
    "    boundaries_dict[stage].to_csv(fname.format(stage), index=None)"
   ]
  },
  {
   "cell_type": "code",
   "execution_count": null,
   "metadata": {},
   "outputs": [],
   "source": []
  },
  {
   "cell_type": "code",
   "execution_count": null,
   "metadata": {},
   "outputs": [],
   "source": []
  },
  {
   "cell_type": "markdown",
   "metadata": {},
   "source": [
    "## Calculate insulation score for each set of fountains for all stages\n",
    "\n",
    "E.g. for fountains called on the stage 25 hrs we would calculate insulation score in corresponding loci for all stages given in the variable `fountains_boundaries`. In case of fountains we will use same window size as for boundaries for each chromosome. (NB: another approach required? to calculate Scharr score for each stage?)"
   ]
  },
  {
   "cell_type": "code",
   "execution_count": 58,
   "metadata": {},
   "outputs": [],
   "source": [
    "fname = '../arcuda/clustering/insulation/fountains/{}.csv'"
   ]
  },
  {
   "cell_type": "code",
   "execution_count": 59,
   "metadata": {},
   "outputs": [
    {
     "name": "stderr",
     "output_type": "stream",
     "text": [
      "INFO:root:LOADER|COOL_FILES| List of coolfiles of interest: ['../arcuda/coolers/This2022/Wild-Type_2.75.danrer11-reduced.mapq_30.1000.mcool']\n",
      "INFO:root:LOADER|COOL_FILES| Start loading coolfiles...\n"
     ]
    },
    {
     "name": "stdout",
     "output_type": "stream",
     "text": [
      "Wild-Type_2.75.danrer11-reduced.mapq_30.1000\n"
     ]
    },
    {
     "name": "stderr",
     "output_type": "stream",
     "text": [
      "INFO:root:LOADER|COOL_FILES| Loading completed in 0m 26s\n",
      "INFO:root:COMPUTE|INSULATION_SCORES| Start computing insulation scores...\n",
      "INFO:root:COMPUTE|INSULATION_SCORES| Complete computing insulation scores in 1m 35s\n",
      "INFO:root:COMPUTE|INSULATION_SCORES| Start computing insulation scores...\n",
      "INFO:root:COMPUTE|INSULATION_SCORES| Complete computing insulation scores in 1m 6s\n",
      "INFO:root:COMPUTE|INSULATION_SCORES| Start computing insulation scores...\n",
      "INFO:root:COMPUTE|INSULATION_SCORES| Complete computing insulation scores in 1m 3s\n",
      "INFO:root:COMPUTE|INSULATION_SCORES| Start computing insulation scores...\n",
      "INFO:root:COMPUTE|INSULATION_SCORES| Complete computing insulation scores in 1m 34s\n",
      "INFO:root:COMPUTE|INSULATION_SCORES| Start computing insulation scores...\n",
      "INFO:root:COMPUTE|INSULATION_SCORES| Complete computing insulation scores in 1m 10s\n",
      "INFO:root:LOADER|COOL_FILES| List of coolfiles of interest: ['../arcuda/coolers/This2022/WT.danrer11-reduced.mapq_30.1000.mcool']\n",
      "INFO:root:LOADER|COOL_FILES| Start loading coolfiles...\n"
     ]
    },
    {
     "name": "stdout",
     "output_type": "stream",
     "text": [
      "WT.danrer11-reduced.mapq_30.1000\n"
     ]
    },
    {
     "name": "stderr",
     "output_type": "stream",
     "text": [
      "INFO:root:LOADER|COOL_FILES| Loading completed in 0m 26s\n",
      "INFO:root:COMPUTE|INSULATION_SCORES| Start computing insulation scores...\n",
      "INFO:root:COMPUTE|INSULATION_SCORES| Complete computing insulation scores in 1m 28s\n",
      "INFO:root:COMPUTE|INSULATION_SCORES| Start computing insulation scores...\n",
      "INFO:root:COMPUTE|INSULATION_SCORES| Complete computing insulation scores in 1m 17s\n",
      "INFO:root:COMPUTE|INSULATION_SCORES| Start computing insulation scores...\n",
      "INFO:root:COMPUTE|INSULATION_SCORES| Complete computing insulation scores in 1m 5s\n",
      "INFO:root:COMPUTE|INSULATION_SCORES| Start computing insulation scores...\n",
      "INFO:root:COMPUTE|INSULATION_SCORES| Complete computing insulation scores in 1m 24s\n",
      "INFO:root:COMPUTE|INSULATION_SCORES| Start computing insulation scores...\n",
      "INFO:root:COMPUTE|INSULATION_SCORES| Complete computing insulation scores in 1m 6s\n",
      "INFO:root:LOADER|COOL_FILES| List of coolfiles of interest: ['../arcuda/coolers/This2022/TR.danrer11-reduced.mapq_30.1000.mcool']\n",
      "INFO:root:LOADER|COOL_FILES| Start loading coolfiles...\n"
     ]
    },
    {
     "name": "stdout",
     "output_type": "stream",
     "text": [
      "TR.danrer11-reduced.mapq_30.1000\n"
     ]
    },
    {
     "name": "stderr",
     "output_type": "stream",
     "text": [
      "INFO:root:LOADER|COOL_FILES| Loading completed in 0m 32s\n",
      "INFO:root:COMPUTE|INSULATION_SCORES| Start computing insulation scores...\n",
      "INFO:root:COMPUTE|INSULATION_SCORES| Complete computing insulation scores in 1m 26s\n",
      "INFO:root:COMPUTE|INSULATION_SCORES| Start computing insulation scores...\n",
      "INFO:root:COMPUTE|INSULATION_SCORES| Complete computing insulation scores in 1m 14s\n",
      "INFO:root:COMPUTE|INSULATION_SCORES| Start computing insulation scores...\n",
      "INFO:root:COMPUTE|INSULATION_SCORES| Complete computing insulation scores in 1m 24s\n",
      "INFO:root:COMPUTE|INSULATION_SCORES| Start computing insulation scores...\n",
      "INFO:root:COMPUTE|INSULATION_SCORES| Complete computing insulation scores in 1m 15s\n",
      "INFO:root:COMPUTE|INSULATION_SCORES| Start computing insulation scores...\n",
      "INFO:root:COMPUTE|INSULATION_SCORES| Complete computing insulation scores in 1m 20s\n",
      "INFO:root:LOADER|COOL_FILES| List of coolfiles of interest: ['../arcuda/coolers/This2022/Wild-Type_11.danrer11-reduced.mapq_30.1000.mcool']\n",
      "INFO:root:LOADER|COOL_FILES| Start loading coolfiles...\n"
     ]
    },
    {
     "name": "stdout",
     "output_type": "stream",
     "text": [
      "Wild-Type_11.danrer11-reduced.mapq_30.1000\n"
     ]
    },
    {
     "name": "stderr",
     "output_type": "stream",
     "text": [
      "INFO:root:LOADER|COOL_FILES| Loading completed in 0m 26s\n",
      "INFO:root:COMPUTE|INSULATION_SCORES| Start computing insulation scores...\n",
      "INFO:root:COMPUTE|INSULATION_SCORES| Complete computing insulation scores in 1m 20s\n",
      "INFO:root:COMPUTE|INSULATION_SCORES| Start computing insulation scores...\n",
      "INFO:root:COMPUTE|INSULATION_SCORES| Complete computing insulation scores in 1m 8s\n",
      "INFO:root:COMPUTE|INSULATION_SCORES| Start computing insulation scores...\n",
      "INFO:root:COMPUTE|INSULATION_SCORES| Complete computing insulation scores in 1m 3s\n",
      "INFO:root:COMPUTE|INSULATION_SCORES| Start computing insulation scores...\n",
      "INFO:root:COMPUTE|INSULATION_SCORES| Complete computing insulation scores in 1m 13s\n",
      "INFO:root:COMPUTE|INSULATION_SCORES| Start computing insulation scores...\n",
      "INFO:root:COMPUTE|INSULATION_SCORES| Complete computing insulation scores in 1m 11s\n",
      "INFO:root:LOADER|COOL_FILES| List of coolfiles of interest: ['../arcuda/coolers/This2022/Wild-Type_25.danrer11-reduced.mapq_30.1000.mcool']\n",
      "INFO:root:LOADER|COOL_FILES| Start loading coolfiles...\n"
     ]
    },
    {
     "name": "stdout",
     "output_type": "stream",
     "text": [
      "Wild-Type_25.danrer11-reduced.mapq_30.1000\n"
     ]
    },
    {
     "name": "stderr",
     "output_type": "stream",
     "text": [
      "INFO:root:LOADER|COOL_FILES| Loading completed in 0m 26s\n",
      "INFO:root:COMPUTE|INSULATION_SCORES| Start computing insulation scores...\n",
      "INFO:root:COMPUTE|INSULATION_SCORES| Complete computing insulation scores in 1m 14s\n",
      "INFO:root:COMPUTE|INSULATION_SCORES| Start computing insulation scores...\n",
      "INFO:root:COMPUTE|INSULATION_SCORES| Complete computing insulation scores in 0m 57s\n",
      "INFO:root:COMPUTE|INSULATION_SCORES| Start computing insulation scores...\n",
      "INFO:root:COMPUTE|INSULATION_SCORES| Complete computing insulation scores in 0m 54s\n",
      "INFO:root:COMPUTE|INSULATION_SCORES| Start computing insulation scores...\n",
      "INFO:root:COMPUTE|INSULATION_SCORES| Complete computing insulation scores in 1m 8s\n",
      "INFO:root:COMPUTE|INSULATION_SCORES| Start computing insulation scores...\n",
      "INFO:root:COMPUTE|INSULATION_SCORES| Complete computing insulation scores in 1m 5s\n"
     ]
    }
   ],
   "source": [
    "for stage in stages_fountains:\n",
    "    print(stage)\n",
    "    matrices, coolers = cool_files(coolers_path.format(stage), resolution=resolution, chromnames=chromosomes)\n",
    "    for st in stages_fountains:\n",
    "        insulations = fountains_dict[st].copy()\n",
    "        insulations = insulation_scores(insulations, coolers, stages=[stage], chromnames=chromosomes)\n",
    "        fountains_dict[st] = insulations.copy()\n",
    "    del matrices\n",
    "    del coolers\n",
    "    gc.collect()"
   ]
  },
  {
   "cell_type": "code",
   "execution_count": 60,
   "metadata": {},
   "outputs": [],
   "source": [
    "for stage in stages_fountains:\n",
    "    fountains_dict[stage].to_csv(fname.format(stage), index=None)"
   ]
  },
  {
   "cell_type": "code",
   "execution_count": null,
   "metadata": {},
   "outputs": [],
   "source": []
  }
 ],
 "metadata": {
  "kernelspec": {
   "display_name": "Python 3",
   "language": "python",
   "name": "python3"
  },
  "language_info": {
   "codemirror_mode": {
    "name": "ipython",
    "version": 3
   },
   "file_extension": ".py",
   "mimetype": "text/x-python",
   "name": "python",
   "nbconvert_exporter": "python",
   "pygments_lexer": "ipython3",
   "version": "3.7.3"
  }
 },
 "nbformat": 4,
 "nbformat_minor": 2
}
