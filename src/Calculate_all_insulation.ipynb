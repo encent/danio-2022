{
 "cells": [
  {
   "cell_type": "markdown",
   "metadata": {},
   "source": [
    "## Import dependecies"
   ]
  },
  {
   "cell_type": "code",
   "execution_count": 81,
   "metadata": {},
   "outputs": [],
   "source": [
    "import gc\n",
    "import sys\n",
    "import time\n",
    "import warnings\n",
    "import logging\n",
    "import random\n",
    "import json\n",
    "from scipy import stats\n",
    "from os.path import join, basename, splitext, isfile\n",
    "from os import listdir\n",
    "from collections import OrderedDict\n",
    "\n",
    "import numpy as np\n",
    "import pandas as pd\n",
    "import matplotlib as mpl\n",
    "import matplotlib.pyplot as plt\n",
    "import seaborn as sns\n",
    "\n",
    "import cooler\n",
    "import cooltools\n",
    "\n",
    "import hichew\n",
    "from hichew.calling import boundaries, domains, clusters\n",
    "from hichew.compute import normalize, d_scores, insulation_scores, silhouette\n",
    "from hichew.loader import cool_files\n",
    "from hichew.plot import clusters_dynamics, viz_opt_curves, viz_tads, _pca, _tsne\n"
   ]
  },
  {
   "cell_type": "code",
   "execution_count": 82,
   "metadata": {},
   "outputs": [],
   "source": [
    "import logging\n",
    "import time\n",
    "import operator\n",
    "import os\n",
    "import sys\n",
    "import warnings\n",
    "\n",
    "import numpy as np\n",
    "import pandas as pd\n",
    "from sklearn.cluster import KMeans, AgglomerativeClustering, SpectralClustering, AffinityPropagation, MeanShift\n",
    "\n",
    "from hichew.lib import utils"
   ]
  },
  {
   "cell_type": "code",
   "execution_count": 83,
   "metadata": {},
   "outputs": [],
   "source": [
    "sns.set(context='paper', style='whitegrid')\n",
    "warnings.filterwarnings(\"ignore\")"
   ]
  },
  {
   "cell_type": "code",
   "execution_count": 84,
   "metadata": {},
   "outputs": [],
   "source": [
    "%matplotlib inline"
   ]
  },
  {
   "cell_type": "code",
   "execution_count": 85,
   "metadata": {},
   "outputs": [],
   "source": [
    "def _insulation_scores_(df_b, df, coolers, stages, chromnames=None, ignore_diags=2):\n",
    "    \"\"\"\n",
    "    Function to compute insulation scores to perform clustering.\n",
    "    :param df: dataframe with TAD boundaries annotation\n",
    "    :param coolers: :param coolers: python dictionary with cooler files that correspond to selected stages of development.\n",
    "    :param stages: list of developmental stages.\n",
    "    :param chromnames: list of chromosomes of interest. If None -- all chromosomes will be considered.\n",
    "    :param ignore_diags: parameter for cooltools calculate_insulation_score method to ignore first K diagonals while computing insulation diamond.\n",
    "    :return: adjusted dataframe with insulation scores computed for each stage.\n",
    "    \"\"\"\n",
    "\n",
    "    logging.info(\"COMPUTE|INSULATION_SCORES| Start computing insulation scores...\")\n",
    "    in_time = time.time()\n",
    "    df = df.copy()\n",
    "    df.index = df[['chrom', 'start', 'end']]\n",
    "    \n",
    "    if chromnames:\n",
    "        chrms = chromnames\n",
    "    else:\n",
    "        chrms = list(coolers.values())[0].chromnames\n",
    "\n",
    "    for stage in stages:\n",
    "        ins_scores = pd.DataFrame(\n",
    "            columns=['chrom', 'start', 'end', 'is_bad_bin', 'log2_insulation_score', 'n_valid_pixels'])\n",
    "        for ch in chrms:\n",
    "            opt_window_ch = df_b.query(\"ch=='{}'\".format(ch))['window'].iloc[0]\n",
    "            sub_df = cooltools.insulation.calculate_insulation_score(coolers[stage], int(opt_window_ch),\n",
    "                                                                     ignore_diags=ignore_diags, chromosomes=[ch])\n",
    "            sub_df.rename(columns={'log2_insulation_score_{}'.format(int(opt_window_ch)): 'log2_insulation_score',\n",
    "                                   'n_valid_pixels_{}'.format(int(opt_window_ch)): 'n_valid_pixels'}, inplace=True)\n",
    "            ins_scores = pd.concat([ins_scores, sub_df])\n",
    "        ins_scores.reset_index(drop=True, inplace=True)\n",
    "        ins_scores.index = ins_scores[['chrom', 'start', 'end']]\n",
    "        \n",
    "        df['ins_score_{}'.format(stage)] = ins_scores['log2_insulation_score']\n",
    "\n",
    "    df.index = list(range(df.shape[0]))\n",
    "    segmentation = df.dropna(axis=0, subset=['ins_score_{}'.format(x) for x in stages]).reset_index(drop=True)\n",
    "    time_elapsed = time.time() - in_time\n",
    "    logging.info(\n",
    "        \"COMPUTE|INSULATION_SCORES| Complete computing insulation scores in {:.0f}m {:.0f}s\".format(time_elapsed // 60,\n",
    "                                                                                               time_elapsed % 60))\n",
    "    return segmentation"
   ]
  },
  {
   "cell_type": "markdown",
   "metadata": {},
   "source": [
    "## Specify parameters"
   ]
  },
  {
   "cell_type": "code",
   "execution_count": 86,
   "metadata": {},
   "outputs": [],
   "source": [
    "resolution = 10000\n",
    "\n",
    "fountains_path = '../arcuda/fountains/{}.bed'\n",
    "boundaries_path = '../arcuda/boundaries/filtered/{}.csv'\n",
    "coolers_path = '../arcuda/coolers/This2022/{}.mcool'\n",
    "\n",
    "stages_fountains = ['Wild-Type_2.75.danrer11-reduced.mapq_30.1000', \n",
    "                    'WT.danrer11-reduced.mapq_30.1000', \n",
    "                    'TR.danrer11-reduced.mapq_30.1000', \n",
    "                    'Wild-Type_11.danrer11-reduced.mapq_30.1000', \n",
    "                    'Wild-Type_25.danrer11-reduced.mapq_30.1000']\n",
    "\n",
    "stages_boundaries = ['sperm.danrer11-reduced.mapq_30.1000', \n",
    "                     'Wild-Type_2.75.danrer11-reduced.mapq_30.1000', \n",
    "                     'WT.danrer11-reduced.mapq_30.1000', \n",
    "                     'TR.danrer11-reduced.mapq_30.1000', \n",
    "                     'Wild-Type_5.3.danrer11-reduced.mapq_30.1000', \n",
    "                     'Wild-Type_11.danrer11-reduced.mapq_30.1000', \n",
    "                     'Wild-Type_25.danrer11-reduced.mapq_30.1000']\n",
    "\n",
    "stages_all = ['sperm.danrer11-reduced.mapq_30.1000', \n",
    "              'Wild-Type_2.75.danrer11-reduced.mapq_30.1000', \n",
    "              'WT.danrer11-reduced.mapq_30.1000', \n",
    "              'TR.danrer11-reduced.mapq_30.1000', \n",
    "              'Wild-Type_5.3.danrer11-reduced.mapq_30.1000', \n",
    "              'Wild-Type_11.danrer11-reduced.mapq_30.1000', \n",
    "              'Wild-Type_25.danrer11-reduced.mapq_30.1000']\n"
   ]
  },
  {
   "cell_type": "markdown",
   "metadata": {},
   "source": [
    "## Get data"
   ]
  },
  {
   "cell_type": "markdown",
   "metadata": {},
   "source": [
    "#### Chromosomes"
   ]
  },
  {
   "cell_type": "code",
   "execution_count": 87,
   "metadata": {},
   "outputs": [],
   "source": [
    "# chromosome armsizes\n",
    "\n",
    "chromosome_armsizes_path = '../arcuda/genome/danRer11.armsizes.txt'\n",
    "chromosome_armsizes_data = pd.read_csv(chromosome_armsizes_path)\n",
    "chromosome_armsizes_data = chromosome_armsizes_data.iloc[:-1]\n",
    "chromosomes = list(chromosome_armsizes_data.chrom.drop_duplicates())"
   ]
  },
  {
   "cell_type": "markdown",
   "metadata": {},
   "source": [
    "#### Good bins"
   ]
  },
  {
   "cell_type": "code",
   "execution_count": 88,
   "metadata": {},
   "outputs": [],
   "source": [
    "good_bins_path = '../arcuda/genome/selected.50000-safe.danrer11-reduced.tsv'\n",
    "good_bins_data = pd.read_csv(good_bins_path, sep='\\t')"
   ]
  },
  {
   "cell_type": "code",
   "execution_count": 89,
   "metadata": {},
   "outputs": [
    {
     "data": {
      "text/html": [
       "<div>\n",
       "<style scoped>\n",
       "    .dataframe tbody tr th:only-of-type {\n",
       "        vertical-align: middle;\n",
       "    }\n",
       "\n",
       "    .dataframe tbody tr th {\n",
       "        vertical-align: top;\n",
       "    }\n",
       "\n",
       "    .dataframe thead th {\n",
       "        text-align: right;\n",
       "    }\n",
       "</style>\n",
       "<table border=\"1\" class=\"dataframe\">\n",
       "  <thead>\n",
       "    <tr style=\"text-align: right;\">\n",
       "      <th></th>\n",
       "      <th>chrom</th>\n",
       "      <th>start</th>\n",
       "      <th>end</th>\n",
       "    </tr>\n",
       "  </thead>\n",
       "  <tbody>\n",
       "    <tr>\n",
       "      <th>0</th>\n",
       "      <td>chr1</td>\n",
       "      <td>0</td>\n",
       "      <td>10000</td>\n",
       "    </tr>\n",
       "    <tr>\n",
       "      <th>1</th>\n",
       "      <td>chr1</td>\n",
       "      <td>10000</td>\n",
       "      <td>20000</td>\n",
       "    </tr>\n",
       "    <tr>\n",
       "      <th>2</th>\n",
       "      <td>chr1</td>\n",
       "      <td>20000</td>\n",
       "      <td>30000</td>\n",
       "    </tr>\n",
       "    <tr>\n",
       "      <th>3</th>\n",
       "      <td>chr1</td>\n",
       "      <td>30000</td>\n",
       "      <td>40000</td>\n",
       "    </tr>\n",
       "    <tr>\n",
       "      <th>4</th>\n",
       "      <td>chr1</td>\n",
       "      <td>40000</td>\n",
       "      <td>50000</td>\n",
       "    </tr>\n",
       "    <tr>\n",
       "      <th>...</th>\n",
       "      <td>...</td>\n",
       "      <td>...</td>\n",
       "      <td>...</td>\n",
       "    </tr>\n",
       "    <tr>\n",
       "      <th>84678</th>\n",
       "      <td>chr25</td>\n",
       "      <td>37400000</td>\n",
       "      <td>37410000</td>\n",
       "    </tr>\n",
       "    <tr>\n",
       "      <th>84679</th>\n",
       "      <td>chr25</td>\n",
       "      <td>37410000</td>\n",
       "      <td>37420000</td>\n",
       "    </tr>\n",
       "    <tr>\n",
       "      <th>84680</th>\n",
       "      <td>chr25</td>\n",
       "      <td>37420000</td>\n",
       "      <td>37430000</td>\n",
       "    </tr>\n",
       "    <tr>\n",
       "      <th>84681</th>\n",
       "      <td>chr25</td>\n",
       "      <td>37430000</td>\n",
       "      <td>37440000</td>\n",
       "    </tr>\n",
       "    <tr>\n",
       "      <th>84682</th>\n",
       "      <td>chr25</td>\n",
       "      <td>37440000</td>\n",
       "      <td>37450000</td>\n",
       "    </tr>\n",
       "  </tbody>\n",
       "</table>\n",
       "<p>84683 rows × 3 columns</p>\n",
       "</div>"
      ],
      "text/plain": [
       "       chrom     start       end\n",
       "0       chr1         0     10000\n",
       "1       chr1     10000     20000\n",
       "2       chr1     20000     30000\n",
       "3       chr1     30000     40000\n",
       "4       chr1     40000     50000\n",
       "...      ...       ...       ...\n",
       "84678  chr25  37400000  37410000\n",
       "84679  chr25  37410000  37420000\n",
       "84680  chr25  37420000  37430000\n",
       "84681  chr25  37430000  37440000\n",
       "84682  chr25  37440000  37450000\n",
       "\n",
       "[84683 rows x 3 columns]"
      ]
     },
     "execution_count": 89,
     "metadata": {},
     "output_type": "execute_result"
    }
   ],
   "source": [
    "good_bins_data"
   ]
  },
  {
   "cell_type": "markdown",
   "metadata": {},
   "source": [
    "#### Boundaries"
   ]
  },
  {
   "cell_type": "code",
   "execution_count": 90,
   "metadata": {},
   "outputs": [],
   "source": [
    "boundaries_dict = dict.fromkeys(stages_boundaries, None)\n",
    "for stage in stages_boundaries:\n",
    "    boundaries_data = pd.read_csv(boundaries_path.format(stage))\n",
    "    boundaries_dict[stage] = boundaries_data"
   ]
  },
  {
   "cell_type": "code",
   "execution_count": 91,
   "metadata": {},
   "outputs": [],
   "source": [
    "boundaries_dict_all = dict.fromkeys(stages_boundaries, None)\n",
    "for stage in stages_boundaries:\n",
    "    boundaries_dict_all[stage] = good_bins_data.copy()"
   ]
  },
  {
   "cell_type": "markdown",
   "metadata": {},
   "source": [
    "## Calculate insulation score for each set of boundaries for all stages\n",
    "\n",
    "E.g. for boundaries called on the stage 25 hrs we would calculate insulation score in corresponding loci for all stages given in the variable `stages_boundaries`"
   ]
  },
  {
   "cell_type": "code",
   "execution_count": 94,
   "metadata": {},
   "outputs": [],
   "source": [
    "fname = '../arcuda/clustering/insulation_all/{}.csv'"
   ]
  },
  {
   "cell_type": "code",
   "execution_count": 93,
   "metadata": {
    "scrolled": false
   },
   "outputs": [
    {
     "name": "stderr",
     "output_type": "stream",
     "text": [
      "INFO:root:LOADER|COOL_FILES| List of coolfiles of interest: ['../arcuda/coolers/This2022/sperm.danrer11-reduced.mapq_30.1000.mcool']\n",
      "INFO:root:LOADER|COOL_FILES| Start loading coolfiles...\n"
     ]
    },
    {
     "name": "stdout",
     "output_type": "stream",
     "text": [
      "sperm.danrer11-reduced.mapq_30.1000\n"
     ]
    },
    {
     "name": "stderr",
     "output_type": "stream",
     "text": [
      "INFO:root:LOADER|COOL_FILES| Loading completed in 0m 27s\n",
      "INFO:root:COMPUTE|INSULATION_SCORES| Start computing insulation scores...\n",
      "INFO:root:COMPUTE|INSULATION_SCORES| Complete computing insulation scores in 0m 48s\n",
      "INFO:root:COMPUTE|INSULATION_SCORES| Start computing insulation scores...\n",
      "INFO:root:COMPUTE|INSULATION_SCORES| Complete computing insulation scores in 0m 52s\n",
      "INFO:root:COMPUTE|INSULATION_SCORES| Start computing insulation scores...\n",
      "INFO:root:COMPUTE|INSULATION_SCORES| Complete computing insulation scores in 0m 30s\n",
      "INFO:root:COMPUTE|INSULATION_SCORES| Start computing insulation scores...\n",
      "INFO:root:COMPUTE|INSULATION_SCORES| Complete computing insulation scores in 0m 28s\n",
      "INFO:root:COMPUTE|INSULATION_SCORES| Start computing insulation scores...\n",
      "INFO:root:COMPUTE|INSULATION_SCORES| Complete computing insulation scores in 0m 35s\n",
      "INFO:root:COMPUTE|INSULATION_SCORES| Start computing insulation scores...\n",
      "INFO:root:COMPUTE|INSULATION_SCORES| Complete computing insulation scores in 0m 27s\n",
      "INFO:root:COMPUTE|INSULATION_SCORES| Start computing insulation scores...\n",
      "INFO:root:COMPUTE|INSULATION_SCORES| Complete computing insulation scores in 0m 35s\n",
      "INFO:root:LOADER|COOL_FILES| List of coolfiles of interest: ['../arcuda/coolers/This2022/Wild-Type_2.75.danrer11-reduced.mapq_30.1000.mcool']\n",
      "INFO:root:LOADER|COOL_FILES| Start loading coolfiles...\n"
     ]
    },
    {
     "name": "stdout",
     "output_type": "stream",
     "text": [
      "Wild-Type_2.75.danrer11-reduced.mapq_30.1000\n"
     ]
    },
    {
     "name": "stderr",
     "output_type": "stream",
     "text": [
      "INFO:root:LOADER|COOL_FILES| Loading completed in 0m 20s\n",
      "INFO:root:COMPUTE|INSULATION_SCORES| Start computing insulation scores...\n",
      "INFO:root:COMPUTE|INSULATION_SCORES| Complete computing insulation scores in 1m 16s\n",
      "INFO:root:COMPUTE|INSULATION_SCORES| Start computing insulation scores...\n",
      "INFO:root:COMPUTE|INSULATION_SCORES| Complete computing insulation scores in 0m 51s\n",
      "INFO:root:COMPUTE|INSULATION_SCORES| Start computing insulation scores...\n",
      "INFO:root:COMPUTE|INSULATION_SCORES| Complete computing insulation scores in 0m 29s\n",
      "INFO:root:COMPUTE|INSULATION_SCORES| Start computing insulation scores...\n",
      "INFO:root:COMPUTE|INSULATION_SCORES| Complete computing insulation scores in 0m 26s\n",
      "INFO:root:COMPUTE|INSULATION_SCORES| Start computing insulation scores...\n",
      "INFO:root:COMPUTE|INSULATION_SCORES| Complete computing insulation scores in 0m 34s\n",
      "INFO:root:COMPUTE|INSULATION_SCORES| Start computing insulation scores...\n",
      "INFO:root:COMPUTE|INSULATION_SCORES| Complete computing insulation scores in 0m 26s\n",
      "INFO:root:COMPUTE|INSULATION_SCORES| Start computing insulation scores...\n",
      "INFO:root:COMPUTE|INSULATION_SCORES| Complete computing insulation scores in 0m 33s\n",
      "INFO:root:LOADER|COOL_FILES| List of coolfiles of interest: ['../arcuda/coolers/This2022/WT.danrer11-reduced.mapq_30.1000.mcool']\n",
      "INFO:root:LOADER|COOL_FILES| Start loading coolfiles...\n"
     ]
    },
    {
     "name": "stdout",
     "output_type": "stream",
     "text": [
      "WT.danrer11-reduced.mapq_30.1000\n"
     ]
    },
    {
     "name": "stderr",
     "output_type": "stream",
     "text": [
      "INFO:root:LOADER|COOL_FILES| Loading completed in 0m 22s\n",
      "INFO:root:COMPUTE|INSULATION_SCORES| Start computing insulation scores...\n",
      "INFO:root:COMPUTE|INSULATION_SCORES| Complete computing insulation scores in 0m 51s\n",
      "INFO:root:COMPUTE|INSULATION_SCORES| Start computing insulation scores...\n",
      "INFO:root:COMPUTE|INSULATION_SCORES| Complete computing insulation scores in 0m 55s\n",
      "INFO:root:COMPUTE|INSULATION_SCORES| Start computing insulation scores...\n",
      "INFO:root:COMPUTE|INSULATION_SCORES| Complete computing insulation scores in 0m 31s\n",
      "INFO:root:COMPUTE|INSULATION_SCORES| Start computing insulation scores...\n",
      "INFO:root:COMPUTE|INSULATION_SCORES| Complete computing insulation scores in 0m 30s\n",
      "INFO:root:COMPUTE|INSULATION_SCORES| Start computing insulation scores...\n",
      "INFO:root:COMPUTE|INSULATION_SCORES| Complete computing insulation scores in 0m 52s\n",
      "INFO:root:COMPUTE|INSULATION_SCORES| Start computing insulation scores...\n",
      "INFO:root:COMPUTE|INSULATION_SCORES| Complete computing insulation scores in 0m 34s\n",
      "INFO:root:COMPUTE|INSULATION_SCORES| Start computing insulation scores...\n",
      "INFO:root:COMPUTE|INSULATION_SCORES| Complete computing insulation scores in 0m 40s\n",
      "INFO:root:LOADER|COOL_FILES| List of coolfiles of interest: ['../arcuda/coolers/This2022/TR.danrer11-reduced.mapq_30.1000.mcool']\n",
      "INFO:root:LOADER|COOL_FILES| Start loading coolfiles...\n"
     ]
    },
    {
     "name": "stdout",
     "output_type": "stream",
     "text": [
      "TR.danrer11-reduced.mapq_30.1000\n"
     ]
    },
    {
     "name": "stderr",
     "output_type": "stream",
     "text": [
      "INFO:root:LOADER|COOL_FILES| Loading completed in 0m 31s\n",
      "INFO:root:COMPUTE|INSULATION_SCORES| Start computing insulation scores...\n",
      "INFO:root:COMPUTE|INSULATION_SCORES| Complete computing insulation scores in 0m 60s\n",
      "INFO:root:COMPUTE|INSULATION_SCORES| Start computing insulation scores...\n",
      "INFO:root:COMPUTE|INSULATION_SCORES| Complete computing insulation scores in 1m 4s\n",
      "INFO:root:COMPUTE|INSULATION_SCORES| Start computing insulation scores...\n",
      "INFO:root:COMPUTE|INSULATION_SCORES| Complete computing insulation scores in 0m 38s\n",
      "INFO:root:COMPUTE|INSULATION_SCORES| Start computing insulation scores...\n",
      "INFO:root:COMPUTE|INSULATION_SCORES| Complete computing insulation scores in 0m 35s\n",
      "INFO:root:COMPUTE|INSULATION_SCORES| Start computing insulation scores...\n",
      "INFO:root:COMPUTE|INSULATION_SCORES| Complete computing insulation scores in 0m 44s\n",
      "INFO:root:COMPUTE|INSULATION_SCORES| Start computing insulation scores...\n",
      "INFO:root:COMPUTE|INSULATION_SCORES| Complete computing insulation scores in 0m 43s\n",
      "INFO:root:COMPUTE|INSULATION_SCORES| Start computing insulation scores...\n",
      "INFO:root:COMPUTE|INSULATION_SCORES| Complete computing insulation scores in 0m 45s\n",
      "INFO:root:LOADER|COOL_FILES| List of coolfiles of interest: ['../arcuda/coolers/This2022/Wild-Type_5.3.danrer11-reduced.mapq_30.1000.mcool']\n",
      "INFO:root:LOADER|COOL_FILES| Start loading coolfiles...\n"
     ]
    },
    {
     "name": "stdout",
     "output_type": "stream",
     "text": [
      "Wild-Type_5.3.danrer11-reduced.mapq_30.1000\n"
     ]
    },
    {
     "name": "stderr",
     "output_type": "stream",
     "text": [
      "INFO:root:LOADER|COOL_FILES| Loading completed in 0m 18s\n",
      "INFO:root:COMPUTE|INSULATION_SCORES| Start computing insulation scores...\n",
      "INFO:root:COMPUTE|INSULATION_SCORES| Complete computing insulation scores in 0m 42s\n",
      "INFO:root:COMPUTE|INSULATION_SCORES| Start computing insulation scores...\n",
      "INFO:root:COMPUTE|INSULATION_SCORES| Complete computing insulation scores in 0m 52s\n",
      "INFO:root:COMPUTE|INSULATION_SCORES| Start computing insulation scores...\n",
      "INFO:root:COMPUTE|INSULATION_SCORES| Complete computing insulation scores in 0m 33s\n",
      "INFO:root:COMPUTE|INSULATION_SCORES| Start computing insulation scores...\n",
      "INFO:root:COMPUTE|INSULATION_SCORES| Complete computing insulation scores in 0m 26s\n",
      "INFO:root:COMPUTE|INSULATION_SCORES| Start computing insulation scores...\n",
      "INFO:root:COMPUTE|INSULATION_SCORES| Complete computing insulation scores in 0m 31s\n",
      "INFO:root:COMPUTE|INSULATION_SCORES| Start computing insulation scores...\n",
      "INFO:root:COMPUTE|INSULATION_SCORES| Complete computing insulation scores in 0m 23s\n",
      "INFO:root:COMPUTE|INSULATION_SCORES| Start computing insulation scores...\n",
      "INFO:root:COMPUTE|INSULATION_SCORES| Complete computing insulation scores in 0m 31s\n",
      "INFO:root:LOADER|COOL_FILES| List of coolfiles of interest: ['../arcuda/coolers/This2022/Wild-Type_11.danrer11-reduced.mapq_30.1000.mcool']\n",
      "INFO:root:LOADER|COOL_FILES| Start loading coolfiles...\n"
     ]
    },
    {
     "name": "stdout",
     "output_type": "stream",
     "text": [
      "Wild-Type_11.danrer11-reduced.mapq_30.1000\n"
     ]
    },
    {
     "name": "stderr",
     "output_type": "stream",
     "text": [
      "INFO:root:LOADER|COOL_FILES| Loading completed in 0m 19s\n",
      "INFO:root:COMPUTE|INSULATION_SCORES| Start computing insulation scores...\n",
      "INFO:root:COMPUTE|INSULATION_SCORES| Complete computing insulation scores in 0m 50s\n",
      "INFO:root:COMPUTE|INSULATION_SCORES| Start computing insulation scores...\n",
      "INFO:root:COMPUTE|INSULATION_SCORES| Complete computing insulation scores in 0m 60s\n",
      "INFO:root:COMPUTE|INSULATION_SCORES| Start computing insulation scores...\n",
      "INFO:root:COMPUTE|INSULATION_SCORES| Complete computing insulation scores in 0m 31s\n",
      "INFO:root:COMPUTE|INSULATION_SCORES| Start computing insulation scores...\n",
      "INFO:root:COMPUTE|INSULATION_SCORES| Complete computing insulation scores in 0m 27s\n",
      "INFO:root:COMPUTE|INSULATION_SCORES| Start computing insulation scores...\n",
      "INFO:root:COMPUTE|INSULATION_SCORES| Complete computing insulation scores in 0m 37s\n",
      "INFO:root:COMPUTE|INSULATION_SCORES| Start computing insulation scores...\n",
      "INFO:root:COMPUTE|INSULATION_SCORES| Complete computing insulation scores in 1m 48s\n",
      "INFO:root:COMPUTE|INSULATION_SCORES| Start computing insulation scores...\n",
      "INFO:root:COMPUTE|INSULATION_SCORES| Complete computing insulation scores in 0m 34s\n",
      "INFO:root:LOADER|COOL_FILES| List of coolfiles of interest: ['../arcuda/coolers/This2022/Wild-Type_25.danrer11-reduced.mapq_30.1000.mcool']\n",
      "INFO:root:LOADER|COOL_FILES| Start loading coolfiles...\n"
     ]
    },
    {
     "name": "stdout",
     "output_type": "stream",
     "text": [
      "Wild-Type_25.danrer11-reduced.mapq_30.1000\n"
     ]
    },
    {
     "name": "stderr",
     "output_type": "stream",
     "text": [
      "INFO:root:LOADER|COOL_FILES| Loading completed in 0m 20s\n",
      "INFO:root:COMPUTE|INSULATION_SCORES| Start computing insulation scores...\n",
      "INFO:root:COMPUTE|INSULATION_SCORES| Complete computing insulation scores in 0m 37s\n",
      "INFO:root:COMPUTE|INSULATION_SCORES| Start computing insulation scores...\n",
      "INFO:root:COMPUTE|INSULATION_SCORES| Complete computing insulation scores in 0m 41s\n",
      "INFO:root:COMPUTE|INSULATION_SCORES| Start computing insulation scores...\n",
      "INFO:root:COMPUTE|INSULATION_SCORES| Complete computing insulation scores in 0m 24s\n",
      "INFO:root:COMPUTE|INSULATION_SCORES| Start computing insulation scores...\n",
      "INFO:root:COMPUTE|INSULATION_SCORES| Complete computing insulation scores in 0m 23s\n",
      "INFO:root:COMPUTE|INSULATION_SCORES| Start computing insulation scores...\n",
      "INFO:root:COMPUTE|INSULATION_SCORES| Complete computing insulation scores in 0m 28s\n",
      "INFO:root:COMPUTE|INSULATION_SCORES| Start computing insulation scores...\n",
      "INFO:root:COMPUTE|INSULATION_SCORES| Complete computing insulation scores in 0m 22s\n",
      "INFO:root:COMPUTE|INSULATION_SCORES| Start computing insulation scores...\n",
      "INFO:root:COMPUTE|INSULATION_SCORES| Complete computing insulation scores in 0m 28s\n"
     ]
    }
   ],
   "source": [
    "for stage in stages_boundaries:\n",
    "    print(stage)\n",
    "    matrices, coolers = cool_files(coolers_path.format(stage), resolution=resolution, chromnames=chromosomes)\n",
    "    for st in stages_boundaries:\n",
    "        insulations = boundaries_dict[st].copy()\n",
    "        insulations_all = boundaries_dict_all[st].copy()\n",
    "        insulations_all = _insulation_scores_(insulations, insulations_all, coolers, stages=[stage], chromnames=chromosomes)\n",
    "        boundaries_dict_all[st] = insulations_all.copy()\n",
    "    del matrices\n",
    "    del coolers\n",
    "    gc.collect()"
   ]
  },
  {
   "cell_type": "code",
   "execution_count": 95,
   "metadata": {},
   "outputs": [],
   "source": [
    "for stage in stages_boundaries:\n",
    "    boundaries_dict_all[stage].to_csv(fname.format(stage), index=None)"
   ]
  },
  {
   "cell_type": "code",
   "execution_count": 99,
   "metadata": {},
   "outputs": [],
   "source": [
    "opt_windows = pd.DataFrame(index=chromosomes, columns=stages_boundaries)"
   ]
  },
  {
   "cell_type": "code",
   "execution_count": 100,
   "metadata": {},
   "outputs": [],
   "source": [
    "for stage in stages_boundaries:\n",
    "    for ch in chromosomes:\n",
    "        opt_window_ch = boundaries_dict[stage].query(\"ch=='{}'\".format(ch))['window'].iloc[0]\n",
    "        opt_windows.loc[ch, stage] = opt_window_ch"
   ]
  },
  {
   "cell_type": "code",
   "execution_count": 102,
   "metadata": {},
   "outputs": [],
   "source": [
    "opt_windows.to_csv(fname.format('insulation_window_values'))"
   ]
  },
  {
   "cell_type": "code",
   "execution_count": 107,
   "metadata": {},
   "outputs": [],
   "source": [
    "for stage in stages_boundaries:\n",
    "    stage_df = pd.read_csv('../data/insulation_all/{}.csv'.format(stage))\n",
    "    for st in stages_boundaries:\n",
    "        stage_df[['chrom', 'start', 'end', 'ins_score_{}'.format(st)]].to_csv('../data/insulation_all/bw/{}/{}.bed'.format(stage, st), sep='\\t', header=None, index=None)\n",
    "        \n",
    "        "
   ]
  },
  {
   "cell_type": "raw",
   "metadata": {},
   "source": [
    "tail -n +1 sperm.danrer11-reduced.mapq_30.1000.bed | sort -k1,1 -k2,2n | awk '{ if (NF >= 4) print $1 \"\\t\" $2 \"\\t\" $3 \"\\t\" $4}' > _sperm.danrer11-reduced.mapq_30.1000.bed\n",
    "\n",
    "tail -n +1 TR.danrer11-reduced.mapq_30.1000.bed | sort -k1,1 -k2,2n | awk '{ if (NF >= 4) print $1 \"\\t\" $2 \"\\t\" $3 \"\\t\" $4}' > _TR.danrer11-reduced.mapq_30.1000.bed\n",
    "\n",
    "tail -n +1 Wild-Type_2.75.danrer11-reduced.mapq_30.1000.bed | sort -k1,1 -k2,2n | awk '{ if (NF >= 4) print $1 \"\\t\" $2 \"\\t\" $3 \"\\t\" $4}' > _Wild-Type_2.75.danrer11-reduced.mapq_30.1000.bed\n",
    "\n",
    "tail -n +1 Wild-Type_5.3.danrer11-reduced.mapq_30.1000.bed | sort -k1,1 -k2,2n | awk '{ if (NF >= 4) print $1 \"\\t\" $2 \"\\t\" $3 \"\\t\" $4}' > _Wild-Type_5.3.danrer11-reduced.mapq_30.1000.bed\n",
    "\n",
    "tail -n +1 Wild-Type_11.danrer11-reduced.mapq_30.1000.bed | sort -k1,1 -k2,2n | awk '{ if (NF >= 4) print $1 \"\\t\" $2 \"\\t\" $3 \"\\t\" $4}' > _Wild-Type_11.danrer11-reduced.mapq_30.1000.bed\n",
    "\n",
    "tail -n +1 Wild-Type_25.danrer11-reduced.mapq_30.1000.bed | sort -k1,1 -k2,2n | awk '{ if (NF >= 4) print $1 \"\\t\" $2 \"\\t\" $3 \"\\t\" $4}' > _Wild-Type_25.danrer11-reduced.mapq_30.1000.bed\n",
    "\n",
    "tail -n +1 WT.danrer11-reduced.mapq_30.1000.bed | sort -k1,1 -k2,2n | awk '{ if (NF >= 4) print $1 \"\\t\" $2 \"\\t\" $3 \"\\t\" $4}' > _WT.danrer11-reduced.mapq_30.1000.bed\n",
    "\n",
    "\n",
    "bedGraphToBigWig _sperm.danrer11-reduced.mapq_30.1000.bed ../../../genome/danRer11.reduced.chromsizes sperm.danrer11-reduced.mapq_30.1000.bw\n",
    "\n",
    "bedGraphToBigWig _TR.danrer11-reduced.mapq_30.1000.bed ../../../genome/danRer11.reduced.chromsizes TR.danrer11-reduced.mapq_30.1000.bw\n",
    "\n",
    "bedGraphToBigWig _Wild-Type_2.75.danrer11-reduced.mapq_30.1000.bed ../../../genome/danRer11.reduced.chromsizes Wild-Type_2.75.danrer11-reduced.mapq_30.1000.bw\n",
    "\n",
    "bedGraphToBigWig _Wild-Type_5.3.danrer11-reduced.mapq_30.1000.bed ../../../genome/danRer11.reduced.chromsizes Wild-Type_5.3.danrer11-reduced.mapq_30.1000.bw\n",
    "\n",
    "bedGraphToBigWig _Wild-Type_11.danrer11-reduced.mapq_30.1000.bed ../../../genome/danRer11.reduced.chromsizes Wild-Type_11.danrer11-reduced.mapq_30.1000.bw\n",
    "\n",
    "bedGraphToBigWig _Wild-Type_25.danrer11-reduced.mapq_30.1000.bed ../../../genome/danRer11.reduced.chromsizes Wild-Type_25.danrer11-reduced.mapq_30.1000.bw\n",
    "\n",
    "bedGraphToBigWig _WT.danrer11-reduced.mapq_30.1000.bed ../../../genome/danRer11.reduced.chromsizes WT.danrer11-reduced.mapq_30.1000.bw"
   ]
  }
 ],
 "metadata": {
  "kernelspec": {
   "display_name": "Python 3",
   "language": "python",
   "name": "python3"
  },
  "language_info": {
   "codemirror_mode": {
    "name": "ipython",
    "version": 3
   },
   "file_extension": ".py",
   "mimetype": "text/x-python",
   "name": "python",
   "nbconvert_exporter": "python",
   "pygments_lexer": "ipython3",
   "version": "3.7.3"
  }
 },
 "nbformat": 4,
 "nbformat_minor": 2
}
