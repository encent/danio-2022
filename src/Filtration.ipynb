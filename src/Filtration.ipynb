{
 "cells": [
  {
   "cell_type": "markdown",
   "metadata": {},
   "source": [
    "## Import dependecies"
   ]
  },
  {
   "cell_type": "code",
   "execution_count": 1,
   "metadata": {},
   "outputs": [
    {
     "name": "stderr",
     "output_type": "stream",
     "text": [
      "/Users/encent/anaconda3/lib/python3.7/site-packages/statsmodels/tools/_testing.py:19: FutureWarning: pandas.util.testing is deprecated. Use the functions in the public API at pandas.testing instead.\n",
      "  import pandas.util.testing as tm\n"
     ]
    }
   ],
   "source": [
    "import sys\n",
    "import time\n",
    "import warnings\n",
    "import logging\n",
    "import random\n",
    "import json\n",
    "from os.path import join, basename, splitext, isfile\n",
    "from os import listdir\n",
    "\n",
    "import numpy as np\n",
    "import pandas as pd\n",
    "import matplotlib as mpl\n",
    "import matplotlib.pyplot as plt\n",
    "import seaborn as sns\n",
    "\n",
    "import cooler\n",
    "import cooltools\n",
    "\n",
    "import hichew\n",
    "from hichew.calling import boundaries, domains, clusters\n",
    "from hichew.compute import normalize, d_scores, insulation_scores, silhouette\n",
    "from hichew.loader import cool_files\n",
    "from hichew.plot import clusters_dynamics, viz_opt_curves, viz_tads, _pca, _tsne\n"
   ]
  },
  {
   "cell_type": "code",
   "execution_count": 2,
   "metadata": {},
   "outputs": [],
   "source": [
    "import logging\n",
    "import time\n",
    "import operator\n",
    "import os\n",
    "import sys\n",
    "import warnings\n",
    "\n",
    "import numpy as np\n",
    "import pandas as pd\n",
    "from sklearn.cluster import KMeans, AgglomerativeClustering, SpectralClustering, AffinityPropagation, MeanShift\n",
    "\n",
    "from hichew.lib import utils"
   ]
  },
  {
   "cell_type": "code",
   "execution_count": 3,
   "metadata": {},
   "outputs": [],
   "source": [
    "sns.set(context='paper', style='whitegrid')\n",
    "warnings.filterwarnings(\"ignore\")"
   ]
  },
  {
   "cell_type": "code",
   "execution_count": 4,
   "metadata": {},
   "outputs": [],
   "source": [
    "%matplotlib inline"
   ]
  },
  {
   "cell_type": "markdown",
   "metadata": {},
   "source": [
    "## Specify parameters"
   ]
  },
  {
   "cell_type": "code",
   "execution_count": 113,
   "metadata": {},
   "outputs": [],
   "source": [
    "resolution = 10000\n",
    "\n",
    "fountains_path = '../arcuda/fountains/{}.bed'\n",
    "boundaries_path = '../arcuda/boundaries/{}.csv'\n",
    "coolers_path = '../arcuda/coolers/This2022/{}.mcool'\n",
    "\n",
    "stages_fountains = ['Wild-Type_2.75.danrer11-reduced.mapq_30.1000', \n",
    "                    'WT.danrer11-reduced.mapq_30.1000', \n",
    "                    'TR.danrer11-reduced.mapq_30.1000', \n",
    "                    'Wild-Type_11.danrer11-reduced.mapq_30.1000', \n",
    "                    'Wild-Type_25.danrer11-reduced.mapq_30.1000']\n",
    "\n",
    "stages_boundaries = ['sperm.danrer11-reduced.mapq_30.1000', \n",
    "                     'Wild-Type_2.75.danrer11-reduced.mapq_30.1000', \n",
    "                     'WT.danrer11-reduced.mapq_30.1000', \n",
    "                     'TR.danrer11-reduced.mapq_30.1000', \n",
    "                     'Wild-Type_5.3.danrer11-reduced.mapq_30.1000', \n",
    "                     'Wild-Type_11.danrer11-reduced.mapq_30.1000', \n",
    "                     'Wild-Type_25.danrer11-reduced.mapq_30.1000']\n",
    "\n",
    "stages_all = ['sperm.danrer11-reduced.mapq_30.1000', \n",
    "              'Wild-Type_2.75.danrer11-reduced.mapq_30.1000', \n",
    "              'WT.danrer11-reduced.mapq_30.1000', \n",
    "              'TR.danrer11-reduced.mapq_30.1000', \n",
    "              'Wild-Type_5.3.danrer11-reduced.mapq_30.1000', \n",
    "              'Wild-Type_11.danrer11-reduced.mapq_30.1000', \n",
    "              'Wild-Type_25.danrer11-reduced.mapq_30.1000']\n",
    "\n",
    "################\n",
    "i = 6 ##########\n",
    "################\n",
    "\n",
    "stage_to_call = coolers_path.format(stages_all[i])"
   ]
  },
  {
   "cell_type": "code",
   "execution_count": 114,
   "metadata": {},
   "outputs": [
    {
     "data": {
      "text/plain": [
       "'Wild-Type_25.danrer11-reduced.mapq_30.1000'"
      ]
     },
     "execution_count": 114,
     "metadata": {},
     "output_type": "execute_result"
    }
   ],
   "source": [
    "stages_all[i]"
   ]
  },
  {
   "cell_type": "markdown",
   "metadata": {},
   "source": [
    "## Get data"
   ]
  },
  {
   "cell_type": "markdown",
   "metadata": {},
   "source": [
    "#### Chromosomes"
   ]
  },
  {
   "cell_type": "code",
   "execution_count": 115,
   "metadata": {},
   "outputs": [],
   "source": [
    "# chromosome armsizes\n",
    "\n",
    "chromosome_armsizes_path = '../arcuda/genome/danRer11.armsizes.txt'\n",
    "chromosome_armsizes_data = pd.read_csv(chromosome_armsizes_path)\n",
    "chromosome_armsizes_data = chromosome_armsizes_data.iloc[:-1]\n",
    "chromosomes = list(chromosome_armsizes_data.chrom.drop_duplicates())"
   ]
  },
  {
   "cell_type": "markdown",
   "metadata": {},
   "source": [
    "#### Bad bins"
   ]
  },
  {
   "cell_type": "code",
   "execution_count": 116,
   "metadata": {},
   "outputs": [],
   "source": [
    "# bad bins\n",
    "\n",
    "bad_bins_path = '../arcuda/genome/blacklist.danrer11-reduced.tsv'\n",
    "bad_bins_data = pd.read_csv(bad_bins_path, sep='\\t')"
   ]
  },
  {
   "cell_type": "markdown",
   "metadata": {},
   "source": [
    "#### Good bins"
   ]
  },
  {
   "cell_type": "code",
   "execution_count": 117,
   "metadata": {},
   "outputs": [],
   "source": [
    "# good bins\n",
    "\n",
    "good_bins_path = '../arcuda/genome/selected.50000-safe.danrer11-reduced.tsv'\n",
    "good_bins_data = pd.read_csv(good_bins_path, sep='\\t')"
   ]
  },
  {
   "cell_type": "code",
   "execution_count": 118,
   "metadata": {},
   "outputs": [
    {
     "data": {
      "text/html": [
       "<div>\n",
       "<style scoped>\n",
       "    .dataframe tbody tr th:only-of-type {\n",
       "        vertical-align: middle;\n",
       "    }\n",
       "\n",
       "    .dataframe tbody tr th {\n",
       "        vertical-align: top;\n",
       "    }\n",
       "\n",
       "    .dataframe thead th {\n",
       "        text-align: right;\n",
       "    }\n",
       "</style>\n",
       "<table border=\"1\" class=\"dataframe\">\n",
       "  <thead>\n",
       "    <tr style=\"text-align: right;\">\n",
       "      <th></th>\n",
       "      <th>chrom</th>\n",
       "      <th>start</th>\n",
       "      <th>end</th>\n",
       "    </tr>\n",
       "  </thead>\n",
       "  <tbody>\n",
       "    <tr>\n",
       "      <th>0</th>\n",
       "      <td>chr1</td>\n",
       "      <td>0</td>\n",
       "      <td>10000</td>\n",
       "    </tr>\n",
       "    <tr>\n",
       "      <th>1</th>\n",
       "      <td>chr1</td>\n",
       "      <td>10000</td>\n",
       "      <td>20000</td>\n",
       "    </tr>\n",
       "    <tr>\n",
       "      <th>2</th>\n",
       "      <td>chr1</td>\n",
       "      <td>20000</td>\n",
       "      <td>30000</td>\n",
       "    </tr>\n",
       "    <tr>\n",
       "      <th>3</th>\n",
       "      <td>chr1</td>\n",
       "      <td>30000</td>\n",
       "      <td>40000</td>\n",
       "    </tr>\n",
       "    <tr>\n",
       "      <th>4</th>\n",
       "      <td>chr1</td>\n",
       "      <td>40000</td>\n",
       "      <td>50000</td>\n",
       "    </tr>\n",
       "  </tbody>\n",
       "</table>\n",
       "</div>"
      ],
      "text/plain": [
       "  chrom  start    end\n",
       "0  chr1      0  10000\n",
       "1  chr1  10000  20000\n",
       "2  chr1  20000  30000\n",
       "3  chr1  30000  40000\n",
       "4  chr1  40000  50000"
      ]
     },
     "execution_count": 118,
     "metadata": {},
     "output_type": "execute_result"
    }
   ],
   "source": [
    "good_bins_data.head()"
   ]
  },
  {
   "cell_type": "markdown",
   "metadata": {},
   "source": [
    "#### Coolers"
   ]
  },
  {
   "cell_type": "code",
   "execution_count": 119,
   "metadata": {},
   "outputs": [],
   "source": [
    "# matrices, coolers = cool_files(stage_to_call, resolution=resolution, chromnames=chromosomes)"
   ]
  },
  {
   "cell_type": "markdown",
   "metadata": {},
   "source": [
    "#### Fountains"
   ]
  },
  {
   "cell_type": "code",
   "execution_count": 120,
   "metadata": {},
   "outputs": [],
   "source": [
    "if isfile(fountains_path.format(stages_all[i])):\n",
    "    fountains_data = pd.read_csv(fountains_path.format(stages_all[i]), sep='\\t', header=None)\n",
    "    fountains_data.columns = ['chrom', 'start', 'end', 'unknown', 'sim']\n",
    "else:\n",
    "    print('No fountains for stage {}'.format(stages_all[i]))"
   ]
  },
  {
   "cell_type": "code",
   "execution_count": 121,
   "metadata": {},
   "outputs": [
    {
     "data": {
      "text/html": [
       "<div>\n",
       "<style scoped>\n",
       "    .dataframe tbody tr th:only-of-type {\n",
       "        vertical-align: middle;\n",
       "    }\n",
       "\n",
       "    .dataframe tbody tr th {\n",
       "        vertical-align: top;\n",
       "    }\n",
       "\n",
       "    .dataframe thead th {\n",
       "        text-align: right;\n",
       "    }\n",
       "</style>\n",
       "<table border=\"1\" class=\"dataframe\">\n",
       "  <thead>\n",
       "    <tr style=\"text-align: right;\">\n",
       "      <th></th>\n",
       "      <th>chrom</th>\n",
       "      <th>start</th>\n",
       "      <th>end</th>\n",
       "      <th>unknown</th>\n",
       "      <th>sim</th>\n",
       "    </tr>\n",
       "  </thead>\n",
       "  <tbody>\n",
       "    <tr>\n",
       "      <th>0</th>\n",
       "      <td>chr7</td>\n",
       "      <td>31550000</td>\n",
       "      <td>31560000</td>\n",
       "      <td>42430</td>\n",
       "      <td>0.409056</td>\n",
       "    </tr>\n",
       "    <tr>\n",
       "      <th>1</th>\n",
       "      <td>chr2</td>\n",
       "      <td>34030000</td>\n",
       "      <td>34040000</td>\n",
       "      <td>9361</td>\n",
       "      <td>0.392029</td>\n",
       "    </tr>\n",
       "    <tr>\n",
       "      <th>2</th>\n",
       "      <td>chr23</td>\n",
       "      <td>23080000</td>\n",
       "      <td>23090000</td>\n",
       "      <td>124242</td>\n",
       "      <td>0.392027</td>\n",
       "    </tr>\n",
       "    <tr>\n",
       "      <th>3</th>\n",
       "      <td>chr7</td>\n",
       "      <td>21720000</td>\n",
       "      <td>21730000</td>\n",
       "      <td>41447</td>\n",
       "      <td>0.390719</td>\n",
       "    </tr>\n",
       "    <tr>\n",
       "      <th>4</th>\n",
       "      <td>chr4</td>\n",
       "      <td>14560000</td>\n",
       "      <td>14570000</td>\n",
       "      <td>19642</td>\n",
       "      <td>0.374675</td>\n",
       "    </tr>\n",
       "  </tbody>\n",
       "</table>\n",
       "</div>"
      ],
      "text/plain": [
       "   chrom     start       end  unknown       sim\n",
       "0   chr7  31550000  31560000    42430  0.409056\n",
       "1   chr2  34030000  34040000     9361  0.392029\n",
       "2  chr23  23080000  23090000   124242  0.392027\n",
       "3   chr7  21720000  21730000    41447  0.390719\n",
       "4   chr4  14560000  14570000    19642  0.374675"
      ]
     },
     "execution_count": 121,
     "metadata": {},
     "output_type": "execute_result"
    }
   ],
   "source": [
    "fountains_data.head()"
   ]
  },
  {
   "cell_type": "markdown",
   "metadata": {},
   "source": [
    "#### Boundaries"
   ]
  },
  {
   "cell_type": "code",
   "execution_count": 122,
   "metadata": {},
   "outputs": [],
   "source": [
    "if isfile(boundaries_path.format(stages_all[i])):\n",
    "    boundaries_data = pd.read_csv(boundaries_path.format(stages_all[i]))\n",
    "else:\n",
    "    print('No boundaries for stage {}'.format(stages_all[i]))"
   ]
  },
  {
   "cell_type": "code",
   "execution_count": 123,
   "metadata": {},
   "outputs": [
    {
     "data": {
      "text/html": [
       "<div>\n",
       "<style scoped>\n",
       "    .dataframe tbody tr th:only-of-type {\n",
       "        vertical-align: middle;\n",
       "    }\n",
       "\n",
       "    .dataframe tbody tr th {\n",
       "        vertical-align: top;\n",
       "    }\n",
       "\n",
       "    .dataframe thead th {\n",
       "        text-align: right;\n",
       "    }\n",
       "</style>\n",
       "<table border=\"1\" class=\"dataframe\">\n",
       "  <thead>\n",
       "    <tr style=\"text-align: right;\">\n",
       "      <th></th>\n",
       "      <th>bgn</th>\n",
       "      <th>end</th>\n",
       "      <th>bs_threshold</th>\n",
       "      <th>window</th>\n",
       "      <th>ch</th>\n",
       "      <th>insulation_score</th>\n",
       "      <th>boundary_strength</th>\n",
       "    </tr>\n",
       "  </thead>\n",
       "  <tbody>\n",
       "    <tr>\n",
       "      <th>0</th>\n",
       "      <td>110000</td>\n",
       "      <td>120000</td>\n",
       "      <td>0.9</td>\n",
       "      <td>160000</td>\n",
       "      <td>chr1</td>\n",
       "      <td>-0.541533</td>\n",
       "      <td>0.750213</td>\n",
       "    </tr>\n",
       "    <tr>\n",
       "      <th>1</th>\n",
       "      <td>620000</td>\n",
       "      <td>630000</td>\n",
       "      <td>0.9</td>\n",
       "      <td>160000</td>\n",
       "      <td>chr1</td>\n",
       "      <td>-0.449879</td>\n",
       "      <td>0.651884</td>\n",
       "    </tr>\n",
       "    <tr>\n",
       "      <th>2</th>\n",
       "      <td>1080000</td>\n",
       "      <td>1090000</td>\n",
       "      <td>0.9</td>\n",
       "      <td>160000</td>\n",
       "      <td>chr1</td>\n",
       "      <td>-0.717080</td>\n",
       "      <td>1.004747</td>\n",
       "    </tr>\n",
       "    <tr>\n",
       "      <th>3</th>\n",
       "      <td>1340000</td>\n",
       "      <td>1350000</td>\n",
       "      <td>0.9</td>\n",
       "      <td>160000</td>\n",
       "      <td>chr1</td>\n",
       "      <td>-0.809942</td>\n",
       "      <td>1.241479</td>\n",
       "    </tr>\n",
       "    <tr>\n",
       "      <th>4</th>\n",
       "      <td>1630000</td>\n",
       "      <td>1640000</td>\n",
       "      <td>0.9</td>\n",
       "      <td>160000</td>\n",
       "      <td>chr1</td>\n",
       "      <td>-0.717207</td>\n",
       "      <td>0.968238</td>\n",
       "    </tr>\n",
       "  </tbody>\n",
       "</table>\n",
       "</div>"
      ],
      "text/plain": [
       "       bgn      end  bs_threshold  window    ch  insulation_score  \\\n",
       "0   110000   120000           0.9  160000  chr1         -0.541533   \n",
       "1   620000   630000           0.9  160000  chr1         -0.449879   \n",
       "2  1080000  1090000           0.9  160000  chr1         -0.717080   \n",
       "3  1340000  1350000           0.9  160000  chr1         -0.809942   \n",
       "4  1630000  1640000           0.9  160000  chr1         -0.717207   \n",
       "\n",
       "   boundary_strength  \n",
       "0           0.750213  \n",
       "1           0.651884  \n",
       "2           1.004747  \n",
       "3           1.241479  \n",
       "4           0.968238  "
      ]
     },
     "execution_count": 123,
     "metadata": {},
     "output_type": "execute_result"
    }
   ],
   "source": [
    "boundaries_data.head()"
   ]
  },
  {
   "cell_type": "markdown",
   "metadata": {},
   "source": [
    "## Fountains filtration (sanity check)"
   ]
  },
  {
   "cell_type": "code",
   "execution_count": 124,
   "metadata": {},
   "outputs": [],
   "source": [
    "def check_fountains_filtration(fountains_data, good_bins_data):\n",
    "    good_bins_data_array = good_bins_data.values\n",
    "    fountains_data_array = fountains_data[['chrom', 'start', 'end']].values\n",
    "    bool_mask = [True if x in good_bins_data_array else False for x in fountains_data_array]\n",
    "    if len(bool_mask) == sum(bool_mask):\n",
    "        print('OK')\n",
    "    else:\n",
    "        print('NOT OK')"
   ]
  },
  {
   "cell_type": "code",
   "execution_count": 125,
   "metadata": {},
   "outputs": [
    {
     "name": "stdout",
     "output_type": "stream",
     "text": [
      "OK\n"
     ]
    }
   ],
   "source": [
    "if isfile(fountains_path.format(stages_all[i])):\n",
    "    check_fountains_filtration(fountains_data, good_bins_data)\n",
    "else:\n",
    "    print('No fountains for stage {}'.format(stages_all[i]))"
   ]
  },
  {
   "cell_type": "markdown",
   "metadata": {},
   "source": [
    "## Boundaries filtration"
   ]
  },
  {
   "cell_type": "code",
   "execution_count": 126,
   "metadata": {},
   "outputs": [],
   "source": [
    "def filtrate_boundaries(boundaries_data, good_bins_data):\n",
    "    def is_good(x, gbda):\n",
    "        return [x.ch, x.bgn, x.end] in gbda\n",
    "    \n",
    "    good_bins_data_array = good_bins_data.values\n",
    "    boundaries_data_filtered = boundaries_data.loc[boundaries_data.apply(is_good, axis=1, gbda=good_bins_data_array)].copy()\n",
    "    boundaries_data_filtered = boundaries_data_filtered.reset_index(drop=True)\n",
    "    return boundaries_data_filtered"
   ]
  },
  {
   "cell_type": "code",
   "execution_count": 127,
   "metadata": {},
   "outputs": [],
   "source": [
    "if isfile(boundaries_path.format(stages_all[i])):\n",
    "    boundaries_data_filtered = filtrate_boundaries(boundaries_data, good_bins_data)\n",
    "else:\n",
    "    print('No boundaries for stage {}'.format(stages_all[i]))"
   ]
  },
  {
   "cell_type": "markdown",
   "metadata": {},
   "source": [
    "## Boundaries filtration (sanity check)"
   ]
  },
  {
   "cell_type": "code",
   "execution_count": 128,
   "metadata": {},
   "outputs": [],
   "source": [
    "def check_boundaries_filtration(boundaries_data_filtered, good_bins_data):\n",
    "    good_bins_data_array = good_bins_data.values\n",
    "    boundaries_data_array = boundaries_data_filtered[['ch', 'bgn', 'end']].values\n",
    "    bool_mask = [True if x in good_bins_data_array else False for x in boundaries_data_array]\n",
    "    if len(bool_mask) == sum(bool_mask):\n",
    "        print('OK')\n",
    "        boundaries_data_filtered.to_csv('../arcuda/boundaries/filtered/{}.csv'.format(stages_all[i]), index=None)\n",
    "    else:\n",
    "        print('NOT OK')"
   ]
  },
  {
   "cell_type": "code",
   "execution_count": 129,
   "metadata": {},
   "outputs": [
    {
     "name": "stdout",
     "output_type": "stream",
     "text": [
      "OK\n"
     ]
    }
   ],
   "source": [
    "if isfile(boundaries_path.format(stages_all[i])):\n",
    "    check_boundaries_filtration(boundaries_data_filtered, good_bins_data)\n",
    "else:\n",
    "    print('No boundaries for stage {}'.format(stages_all[i]))"
   ]
  },
  {
   "cell_type": "code",
   "execution_count": 130,
   "metadata": {},
   "outputs": [
    {
     "data": {
      "text/plain": [
       "(1614, 7)"
      ]
     },
     "execution_count": 130,
     "metadata": {},
     "output_type": "execute_result"
    }
   ],
   "source": [
    "boundaries_data_filtered.shape"
   ]
  },
  {
   "cell_type": "code",
   "execution_count": null,
   "metadata": {},
   "outputs": [],
   "source": []
  }
 ],
 "metadata": {
  "kernelspec": {
   "display_name": "Python 3",
   "language": "python",
   "name": "python3"
  },
  "language_info": {
   "codemirror_mode": {
    "name": "ipython",
    "version": 3
   },
   "file_extension": ".py",
   "mimetype": "text/x-python",
   "name": "python",
   "nbconvert_exporter": "python",
   "pygments_lexer": "ipython3",
   "version": "3.7.3"
  }
 },
 "nbformat": 4,
 "nbformat_minor": 2
}
