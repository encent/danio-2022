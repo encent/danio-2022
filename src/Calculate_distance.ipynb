{
 "cells": [
  {
   "cell_type": "markdown",
   "metadata": {},
   "source": [
    "## Import dependecies"
   ]
  },
  {
   "cell_type": "code",
   "execution_count": 31,
   "metadata": {},
   "outputs": [],
   "source": [
    "import gc\n",
    "import sys\n",
    "import time\n",
    "import warnings\n",
    "import logging\n",
    "import random\n",
    "import json\n",
    "from scipy import stats\n",
    "from os.path import join, basename, splitext, isfile\n",
    "from os import listdir\n",
    "from collections import OrderedDict\n",
    "\n",
    "import numpy as np\n",
    "import pandas as pd\n",
    "import matplotlib as mpl\n",
    "import matplotlib.pyplot as plt\n",
    "import seaborn as sns\n",
    "\n",
    "import cooler\n",
    "import cooltools\n",
    "\n",
    "import hichew\n",
    "from hichew.calling import boundaries, domains, clusters\n",
    "from hichew.compute import normalize, d_scores, insulation_scores, silhouette\n",
    "from hichew.loader import cool_files\n",
    "from hichew.plot import clusters_dynamics, viz_opt_curves, viz_tads, _pca, _tsne\n"
   ]
  },
  {
   "cell_type": "code",
   "execution_count": 32,
   "metadata": {},
   "outputs": [],
   "source": [
    "import logging\n",
    "import time\n",
    "import operator\n",
    "import os\n",
    "import sys\n",
    "import warnings\n",
    "\n",
    "import numpy as np\n",
    "import pandas as pd\n",
    "from sklearn.cluster import KMeans, AgglomerativeClustering, SpectralClustering, AffinityPropagation, MeanShift\n",
    "\n",
    "from hichew.lib import utils"
   ]
  },
  {
   "cell_type": "code",
   "execution_count": 33,
   "metadata": {},
   "outputs": [],
   "source": [
    "sns.set(context='paper', style='whitegrid')\n",
    "warnings.filterwarnings(\"ignore\")"
   ]
  },
  {
   "cell_type": "code",
   "execution_count": 34,
   "metadata": {},
   "outputs": [],
   "source": [
    "%matplotlib inline"
   ]
  },
  {
   "cell_type": "markdown",
   "metadata": {},
   "source": [
    "## Specify parameters"
   ]
  },
  {
   "cell_type": "code",
   "execution_count": 35,
   "metadata": {},
   "outputs": [],
   "source": [
    "resolution = 10000\n",
    "\n",
    "fountains_path = '../arcuda/fountains/{}.bed'\n",
    "boundaries_path = '../arcuda/boundaries/filtered/{}.csv'\n",
    "coolers_path = '../arcuda/coolers/This2022/{}.mcool'\n",
    "\n",
    "stages_fountains = ['Wild-Type_2.75.danrer11-reduced.mapq_30.1000', \n",
    "                    'WT.danrer11-reduced.mapq_30.1000', \n",
    "                    'TR.danrer11-reduced.mapq_30.1000', \n",
    "                    'Wild-Type_11.danrer11-reduced.mapq_30.1000', \n",
    "                    'Wild-Type_25.danrer11-reduced.mapq_30.1000']\n",
    "\n",
    "stages_boundaries = ['sperm.danrer11-reduced.mapq_30.1000', \n",
    "                     'Wild-Type_2.75.danrer11-reduced.mapq_30.1000', \n",
    "                     'WT.danrer11-reduced.mapq_30.1000', \n",
    "                     'TR.danrer11-reduced.mapq_30.1000', \n",
    "                     'Wild-Type_5.3.danrer11-reduced.mapq_30.1000', \n",
    "                     'Wild-Type_11.danrer11-reduced.mapq_30.1000', \n",
    "                     'Wild-Type_25.danrer11-reduced.mapq_30.1000']\n",
    "\n",
    "stages_all = ['sperm.danrer11-reduced.mapq_30.1000', \n",
    "              'Wild-Type_2.75.danrer11-reduced.mapq_30.1000', \n",
    "              'WT.danrer11-reduced.mapq_30.1000', \n",
    "              'TR.danrer11-reduced.mapq_30.1000', \n",
    "              'Wild-Type_5.3.danrer11-reduced.mapq_30.1000', \n",
    "              'Wild-Type_11.danrer11-reduced.mapq_30.1000', \n",
    "              'Wild-Type_25.danrer11-reduced.mapq_30.1000']\n"
   ]
  },
  {
   "cell_type": "markdown",
   "metadata": {},
   "source": [
    "## Get data"
   ]
  },
  {
   "cell_type": "markdown",
   "metadata": {},
   "source": [
    "#### Chromosomes"
   ]
  },
  {
   "cell_type": "code",
   "execution_count": 36,
   "metadata": {},
   "outputs": [],
   "source": [
    "# chromosome armsizes\n",
    "\n",
    "chromosome_armsizes_path = '../arcuda/genome/danRer11.armsizes.txt'\n",
    "chromosome_armsizes_data = pd.read_csv(chromosome_armsizes_path)\n",
    "chromosome_armsizes_data = chromosome_armsizes_data.iloc[:-1]\n",
    "chromosomes = list(chromosome_armsizes_data.chrom.drop_duplicates())"
   ]
  },
  {
   "cell_type": "markdown",
   "metadata": {},
   "source": [
    "#### Bad bins"
   ]
  },
  {
   "cell_type": "code",
   "execution_count": 37,
   "metadata": {},
   "outputs": [],
   "source": [
    "# bad bins\n",
    "\n",
    "bad_bins_path = '../arcuda/genome/blacklist.danrer11-reduced.tsv'\n",
    "bad_bins_data = pd.read_csv(bad_bins_path, sep='\\t')\n",
    "bad_bins_data.columns = ['ch', 'bgn', 'end']"
   ]
  },
  {
   "cell_type": "markdown",
   "metadata": {},
   "source": [
    "#### Good bins"
   ]
  },
  {
   "cell_type": "code",
   "execution_count": 38,
   "metadata": {},
   "outputs": [],
   "source": [
    "# good bins\n",
    "\n",
    "good_bins_path = '../arcuda/genome/selected.50000-safe.danrer11-reduced.tsv'\n",
    "good_bins_data = pd.read_csv(good_bins_path, sep='\\t')"
   ]
  },
  {
   "cell_type": "markdown",
   "metadata": {},
   "source": [
    "#### Fountains"
   ]
  },
  {
   "cell_type": "code",
   "execution_count": 39,
   "metadata": {},
   "outputs": [],
   "source": [
    "fountains_dict = dict.fromkeys(stages_fountains, None)\n",
    "for stage in stages_fountains:\n",
    "    fountains_data = pd.read_csv(fountains_path.format(stage), sep='\\t', header=None)\n",
    "    fountains_data.columns = ['ch', 'bgn', 'end', 'unknown', 'sim']\n",
    "    fountains_dict[stage] = fountains_data"
   ]
  },
  {
   "cell_type": "markdown",
   "metadata": {},
   "source": [
    "#### Boundaries"
   ]
  },
  {
   "cell_type": "code",
   "execution_count": 40,
   "metadata": {},
   "outputs": [],
   "source": [
    "boundaries_dict = dict.fromkeys(stages_boundaries, None)\n",
    "for stage in stages_boundaries:\n",
    "    boundaries_data = pd.read_csv(boundaries_path.format(stage))\n",
    "    boundaries_dict[stage] = boundaries_data"
   ]
  },
  {
   "cell_type": "markdown",
   "metadata": {},
   "source": [
    "## Calculate distance to the nearest boundaries from each fountain\n",
    "\n",
    "To the left and to the right of the **fountain** (centered in fountains).\n",
    "\n",
    "If there would be a **fountain or bad bin** between the fountain and nearest boundary -- then put None. Else -- distance to the nearest boundary (with \"–\" sign in case of left, with \"+\" sign in case of right).\n",
    "\n",
    "Visualized in two modes: without `None`'s independently (left and right) and without `None`'s in both directions."
   ]
  },
  {
   "cell_type": "code",
   "execution_count": 50,
   "metadata": {},
   "outputs": [],
   "source": [
    "ddd = pd.DataFrame()"
   ]
  },
  {
   "cell_type": "code",
   "execution_count": 47,
   "metadata": {},
   "outputs": [],
   "source": [
    "def calculate_distance(fountains, boundaries, bad_bins, centered='fountains', mode='independent'):\n",
    "    \n",
    "    def check_left(x, fountains, boundaries, bad_bins):\n",
    "        print('!!!')\n",
    "        # boundaries\n",
    "        sub_df_boundaries = boundaries[(boundaries.ch == x.ch) & (boundaries.bgn <= x.bgn) & (boundaries.end <= x.end)]\n",
    "        sub_df_boundaries = sub_df_boundaries.sort_values('bgn', ascending=True)\n",
    "        try:\n",
    "            closest_boundary = (sub_df_boundaries.iloc[-1]['bgn'], sub_df_boundaries.iloc[-1]['end'])\n",
    "        except:\n",
    "            closest_boundary = None\n",
    "        \n",
    "        # fountains\n",
    "        sub_df_fountains = fountains[(fountains.ch == x.ch) & (fountains.bgn <= x.bgn) & (fountains.end <= x.end)]\n",
    "        sub_df_fountains = sub_df_fountains.sort_values('bgn', ascending=True)\n",
    "        try:\n",
    "            closest_fountain = (sub_df_fountains.iloc[-1]['bgn'], sub_df_fountains.iloc[-1]['end'])\n",
    "        except:\n",
    "            closest_fountain = None\n",
    "        \n",
    "        # bad bins\n",
    "        sub_df_bad_bins = bad_bins[(bad_bins.ch == x.ch) & (bad_bins.bgn <= x.bgn) & (bad_bins.end <= x.end)]\n",
    "        sub_df_bad_bins = sub_df_bad_bins.sort_values('bgn', ascending=True)\n",
    "        try:\n",
    "            closest_bad_bin = (sub_df_bad_bins.iloc[-1]['bgn'], sub_df_bad_bins.iloc[-1]['end'])\n",
    "        except:\n",
    "            closest_bad_bin = None\n",
    "        \n",
    "        # locus of interest\n",
    "        locus = (x.bgn, x.end)\n",
    "        \n",
    "        if (closest_fountain < locus and closest_fountain > closest_boundary) or (closest_bad_bin < locus and closest_bad_bin > closest_boundary):\n",
    "            return None\n",
    "        else:\n",
    "            return closest_boundary[0] - locus[0]\n",
    "    \n",
    "    def check_right(x, fountains, boundaries, bad_bins):\n",
    "        # boundaries\n",
    "        sub_df_boundaries = boundaries[(boundaries.ch == x.ch) & (boundaries.bgn >= x.bgn) & (boundaries.end >= x.end)]\n",
    "        sub_df_boundaries = sub_df_boundaries.sort_values('bgn', ascending=False)\n",
    "        closest_boundary = (sub_df_boundaries.iloc[-1]['bgn'], sub_df_boundaries.iloc[-1]['end'])\n",
    "        \n",
    "        # fountains\n",
    "        sub_df_fountains = fountains[(fountains.ch == x.ch) & (fountains.bgn >= x.bgn) & (fountains.end >= x.end)]\n",
    "        sub_df_fountains = sub_df_fountains.sort_values('bgn', ascending=False)\n",
    "        closest_fountain = (sub_df_fountains.iloc[-1]['bgn'], sub_df_fountains.iloc[-1]['end'])\n",
    "        \n",
    "        # bad bins\n",
    "        sub_df_bad_bins = bad_bins[(bad_bins.ch == x.ch) & (bad_bins.bgn >= x.bgn) & (bad_bins.end >= x.end)]\n",
    "        sub_df_bad_bins = sub_df_bad_bins.sort_values('bgn', ascending=False)\n",
    "        closest_bad_bin = (sub_df_bad_bins.iloc[-1]['bgn'], sub_df_bad_bins.iloc[-1]['end'])\n",
    "        \n",
    "        # locus of interest\n",
    "        locus = (x.bgn, x.end)\n",
    "        \n",
    "        if (closest_fountain > locus and closest_fountain < closest_boundary) or (closest_bad_bin > locus and closest_bad_bin < closest_boundary):\n",
    "            return None\n",
    "        else:\n",
    "            return closest_boundary[0] - locus[0]\n",
    "        \n",
    "        \n",
    "    if centered == 'fountains':\n",
    "        fountains['left'] = fountains.apply(check_left, axis=1, fountains=fountains, boundaries=boundaries, bad_bins=bad_bins)\n",
    "        fountains['right'] = fountains.apply(check_right, axis=1, fountains=fountains, boundaries=boundaries, bad_bins=bad_bins)\n",
    "        if mode == 'independent':\n",
    "            return list(fountains[fountains['left'].notnull()]['left']), list(fountains[fountains['right'].notnull()]['right'])\n",
    "        elif mode == 'overlaped':\n",
    "            sub = fountains[(fountains['left'].notnull()) & (fountains['right'].notnull())]\n",
    "            return list(sub['left']), list(sub['right'])\n",
    "    elif centered == 'boundaries':\n",
    "        boundaries['left'] = boundaries.apply(check_left, axis=1, fountains=fountains, boundaries=boundaries, bad_bins=bad_bins)\n",
    "        boundaries['right'] = boundaries.apply(check_right, axis=1, fountains=fountains, boundaries=boundaries, bad_bins=bad_bins)\n",
    "        if mode == 'independent':\n",
    "            return list(boundaries[boundaries['left'].notnull()]['left']), list(boundaries[boundaries['right'].notnull()]['right'])\n",
    "        elif mode == 'overlaped':\n",
    "            sub = boundaries[(boundaries['left'].notnull()) & (boundaries['right'].notnull())]\n",
    "            return list(sub['left']), list(sub['right']) \n",
    "        "
   ]
  },
  {
   "cell_type": "markdown",
   "metadata": {},
   "source": [
    "### Independent mode"
   ]
  },
  {
   "cell_type": "code",
   "execution_count": 48,
   "metadata": {},
   "outputs": [],
   "source": [
    "fountains_centered_independent_mode = pd.DataFrame(index=stages_fountains, columns=stages_boundaries)"
   ]
  },
  {
   "cell_type": "code",
   "execution_count": 49,
   "metadata": {},
   "outputs": [
    {
     "name": "stdout",
     "output_type": "stream",
     "text": [
      "!!!\n",
      "!!!\n",
      "!!!\n",
      "!!!\n"
     ]
    },
    {
     "ename": "IndexError",
     "evalue": "single positional indexer is out-of-bounds",
     "output_type": "error",
     "traceback": [
      "\u001b[0;31m---------------------------------------------------------------------------\u001b[0m",
      "\u001b[0;31mIndexError\u001b[0m                                Traceback (most recent call last)",
      "\u001b[0;32m<ipython-input-49-61f279f69cb2>\u001b[0m in \u001b[0;36m<module>\u001b[0;34m\u001b[0m\n\u001b[1;32m      5\u001b[0m                                                                                        \u001b[0mbad_bins_data\u001b[0m\u001b[0;34m,\u001b[0m\u001b[0;34m\u001b[0m\u001b[0;34m\u001b[0m\u001b[0m\n\u001b[1;32m      6\u001b[0m                                                                                        \u001b[0mcentered\u001b[0m\u001b[0;34m=\u001b[0m\u001b[0;34m'fountains'\u001b[0m\u001b[0;34m,\u001b[0m\u001b[0;34m\u001b[0m\u001b[0;34m\u001b[0m\u001b[0m\n\u001b[0;32m----> 7\u001b[0;31m                                                                                        mode='independent')\n\u001b[0m\u001b[1;32m      8\u001b[0m \u001b[0;34m\u001b[0m\u001b[0m\n",
      "\u001b[0;32m<ipython-input-47-118fa78966a4>\u001b[0m in \u001b[0;36mcalculate_distance\u001b[0;34m(fountains, boundaries, bad_bins, centered, mode)\u001b[0m\n\u001b[1;32m     52\u001b[0m \u001b[0;34m\u001b[0m\u001b[0m\n\u001b[1;32m     53\u001b[0m     \u001b[0;32mif\u001b[0m \u001b[0mcentered\u001b[0m \u001b[0;34m==\u001b[0m \u001b[0;34m'fountains'\u001b[0m\u001b[0;34m:\u001b[0m\u001b[0;34m\u001b[0m\u001b[0;34m\u001b[0m\u001b[0m\n\u001b[0;32m---> 54\u001b[0;31m         \u001b[0mfountains\u001b[0m\u001b[0;34m[\u001b[0m\u001b[0;34m'left'\u001b[0m\u001b[0;34m]\u001b[0m \u001b[0;34m=\u001b[0m \u001b[0mfountains\u001b[0m\u001b[0;34m.\u001b[0m\u001b[0mapply\u001b[0m\u001b[0;34m(\u001b[0m\u001b[0mcheck_left\u001b[0m\u001b[0;34m,\u001b[0m \u001b[0maxis\u001b[0m\u001b[0;34m=\u001b[0m\u001b[0;36m1\u001b[0m\u001b[0;34m,\u001b[0m \u001b[0mfountains\u001b[0m\u001b[0;34m=\u001b[0m\u001b[0mfountains\u001b[0m\u001b[0;34m,\u001b[0m \u001b[0mboundaries\u001b[0m\u001b[0;34m=\u001b[0m\u001b[0mboundaries\u001b[0m\u001b[0;34m,\u001b[0m \u001b[0mbad_bins\u001b[0m\u001b[0;34m=\u001b[0m\u001b[0mbad_bins\u001b[0m\u001b[0;34m)\u001b[0m\u001b[0;34m\u001b[0m\u001b[0;34m\u001b[0m\u001b[0m\n\u001b[0m\u001b[1;32m     55\u001b[0m         \u001b[0mfountains\u001b[0m\u001b[0;34m[\u001b[0m\u001b[0;34m'right'\u001b[0m\u001b[0;34m]\u001b[0m \u001b[0;34m=\u001b[0m \u001b[0mfountains\u001b[0m\u001b[0;34m.\u001b[0m\u001b[0mapply\u001b[0m\u001b[0;34m(\u001b[0m\u001b[0mcheck_right\u001b[0m\u001b[0;34m,\u001b[0m \u001b[0maxis\u001b[0m\u001b[0;34m=\u001b[0m\u001b[0;36m1\u001b[0m\u001b[0;34m,\u001b[0m \u001b[0mfountains\u001b[0m\u001b[0;34m=\u001b[0m\u001b[0mfountains\u001b[0m\u001b[0;34m,\u001b[0m \u001b[0mboundaries\u001b[0m\u001b[0;34m=\u001b[0m\u001b[0mboundaries\u001b[0m\u001b[0;34m,\u001b[0m \u001b[0mbad_bins\u001b[0m\u001b[0;34m=\u001b[0m\u001b[0mbad_bins\u001b[0m\u001b[0;34m)\u001b[0m\u001b[0;34m\u001b[0m\u001b[0;34m\u001b[0m\u001b[0m\n\u001b[1;32m     56\u001b[0m         \u001b[0;32mif\u001b[0m \u001b[0mmode\u001b[0m \u001b[0;34m==\u001b[0m \u001b[0;34m'independent'\u001b[0m\u001b[0;34m:\u001b[0m\u001b[0;34m\u001b[0m\u001b[0;34m\u001b[0m\u001b[0m\n",
      "\u001b[0;32m~/anaconda3/lib/python3.7/site-packages/pandas/core/frame.py\u001b[0m in \u001b[0;36mapply\u001b[0;34m(self, func, axis, raw, result_type, args, **kwargs)\u001b[0m\n\u001b[1;32m   8738\u001b[0m             \u001b[0mkwargs\u001b[0m\u001b[0;34m=\u001b[0m\u001b[0mkwargs\u001b[0m\u001b[0;34m,\u001b[0m\u001b[0;34m\u001b[0m\u001b[0;34m\u001b[0m\u001b[0m\n\u001b[1;32m   8739\u001b[0m         )\n\u001b[0;32m-> 8740\u001b[0;31m         \u001b[0;32mreturn\u001b[0m \u001b[0mop\u001b[0m\u001b[0;34m.\u001b[0m\u001b[0mapply\u001b[0m\u001b[0;34m(\u001b[0m\u001b[0;34m)\u001b[0m\u001b[0;34m\u001b[0m\u001b[0;34m\u001b[0m\u001b[0m\n\u001b[0m\u001b[1;32m   8741\u001b[0m \u001b[0;34m\u001b[0m\u001b[0m\n\u001b[1;32m   8742\u001b[0m     def applymap(\n",
      "\u001b[0;32m~/anaconda3/lib/python3.7/site-packages/pandas/core/apply.py\u001b[0m in \u001b[0;36mapply\u001b[0;34m(self)\u001b[0m\n\u001b[1;32m    686\u001b[0m             \u001b[0;32mreturn\u001b[0m \u001b[0mself\u001b[0m\u001b[0;34m.\u001b[0m\u001b[0mapply_raw\u001b[0m\u001b[0;34m(\u001b[0m\u001b[0;34m)\u001b[0m\u001b[0;34m\u001b[0m\u001b[0;34m\u001b[0m\u001b[0m\n\u001b[1;32m    687\u001b[0m \u001b[0;34m\u001b[0m\u001b[0m\n\u001b[0;32m--> 688\u001b[0;31m         \u001b[0;32mreturn\u001b[0m \u001b[0mself\u001b[0m\u001b[0;34m.\u001b[0m\u001b[0mapply_standard\u001b[0m\u001b[0;34m(\u001b[0m\u001b[0;34m)\u001b[0m\u001b[0;34m\u001b[0m\u001b[0;34m\u001b[0m\u001b[0m\n\u001b[0m\u001b[1;32m    689\u001b[0m \u001b[0;34m\u001b[0m\u001b[0m\n\u001b[1;32m    690\u001b[0m     \u001b[0;32mdef\u001b[0m \u001b[0magg\u001b[0m\u001b[0;34m(\u001b[0m\u001b[0mself\u001b[0m\u001b[0;34m)\u001b[0m\u001b[0;34m:\u001b[0m\u001b[0;34m\u001b[0m\u001b[0;34m\u001b[0m\u001b[0m\n",
      "\u001b[0;32m~/anaconda3/lib/python3.7/site-packages/pandas/core/apply.py\u001b[0m in \u001b[0;36mapply_standard\u001b[0;34m(self)\u001b[0m\n\u001b[1;32m    810\u001b[0m \u001b[0;34m\u001b[0m\u001b[0m\n\u001b[1;32m    811\u001b[0m     \u001b[0;32mdef\u001b[0m \u001b[0mapply_standard\u001b[0m\u001b[0;34m(\u001b[0m\u001b[0mself\u001b[0m\u001b[0;34m)\u001b[0m\u001b[0;34m:\u001b[0m\u001b[0;34m\u001b[0m\u001b[0;34m\u001b[0m\u001b[0m\n\u001b[0;32m--> 812\u001b[0;31m         \u001b[0mresults\u001b[0m\u001b[0;34m,\u001b[0m \u001b[0mres_index\u001b[0m \u001b[0;34m=\u001b[0m \u001b[0mself\u001b[0m\u001b[0;34m.\u001b[0m\u001b[0mapply_series_generator\u001b[0m\u001b[0;34m(\u001b[0m\u001b[0;34m)\u001b[0m\u001b[0;34m\u001b[0m\u001b[0;34m\u001b[0m\u001b[0m\n\u001b[0m\u001b[1;32m    813\u001b[0m \u001b[0;34m\u001b[0m\u001b[0m\n\u001b[1;32m    814\u001b[0m         \u001b[0;31m# wrap results\u001b[0m\u001b[0;34m\u001b[0m\u001b[0;34m\u001b[0m\u001b[0;34m\u001b[0m\u001b[0m\n",
      "\u001b[0;32m~/anaconda3/lib/python3.7/site-packages/pandas/core/apply.py\u001b[0m in \u001b[0;36mapply_series_generator\u001b[0;34m(self)\u001b[0m\n\u001b[1;32m    826\u001b[0m             \u001b[0;32mfor\u001b[0m \u001b[0mi\u001b[0m\u001b[0;34m,\u001b[0m \u001b[0mv\u001b[0m \u001b[0;32min\u001b[0m \u001b[0menumerate\u001b[0m\u001b[0;34m(\u001b[0m\u001b[0mseries_gen\u001b[0m\u001b[0;34m)\u001b[0m\u001b[0;34m:\u001b[0m\u001b[0;34m\u001b[0m\u001b[0;34m\u001b[0m\u001b[0m\n\u001b[1;32m    827\u001b[0m                 \u001b[0;31m# ignore SettingWithCopy here in case the user mutates\u001b[0m\u001b[0;34m\u001b[0m\u001b[0;34m\u001b[0m\u001b[0;34m\u001b[0m\u001b[0m\n\u001b[0;32m--> 828\u001b[0;31m                 \u001b[0mresults\u001b[0m\u001b[0;34m[\u001b[0m\u001b[0mi\u001b[0m\u001b[0;34m]\u001b[0m \u001b[0;34m=\u001b[0m \u001b[0mself\u001b[0m\u001b[0;34m.\u001b[0m\u001b[0mf\u001b[0m\u001b[0;34m(\u001b[0m\u001b[0mv\u001b[0m\u001b[0;34m)\u001b[0m\u001b[0;34m\u001b[0m\u001b[0;34m\u001b[0m\u001b[0m\n\u001b[0m\u001b[1;32m    829\u001b[0m                 \u001b[0;32mif\u001b[0m \u001b[0misinstance\u001b[0m\u001b[0;34m(\u001b[0m\u001b[0mresults\u001b[0m\u001b[0;34m[\u001b[0m\u001b[0mi\u001b[0m\u001b[0;34m]\u001b[0m\u001b[0;34m,\u001b[0m \u001b[0mABCSeries\u001b[0m\u001b[0;34m)\u001b[0m\u001b[0;34m:\u001b[0m\u001b[0;34m\u001b[0m\u001b[0;34m\u001b[0m\u001b[0m\n\u001b[1;32m    830\u001b[0m                     \u001b[0;31m# If we have a view on v, we need to make a copy because\u001b[0m\u001b[0;34m\u001b[0m\u001b[0;34m\u001b[0m\u001b[0;34m\u001b[0m\u001b[0m\n",
      "\u001b[0;32m~/anaconda3/lib/python3.7/site-packages/pandas/core/apply.py\u001b[0m in \u001b[0;36mf\u001b[0;34m(x)\u001b[0m\n\u001b[1;32m    129\u001b[0m \u001b[0;34m\u001b[0m\u001b[0m\n\u001b[1;32m    130\u001b[0m             \u001b[0;32mdef\u001b[0m \u001b[0mf\u001b[0m\u001b[0;34m(\u001b[0m\u001b[0mx\u001b[0m\u001b[0;34m)\u001b[0m\u001b[0;34m:\u001b[0m\u001b[0;34m\u001b[0m\u001b[0;34m\u001b[0m\u001b[0m\n\u001b[0;32m--> 131\u001b[0;31m                 \u001b[0;32mreturn\u001b[0m \u001b[0mfunc\u001b[0m\u001b[0;34m(\u001b[0m\u001b[0mx\u001b[0m\u001b[0;34m,\u001b[0m \u001b[0;34m*\u001b[0m\u001b[0margs\u001b[0m\u001b[0;34m,\u001b[0m \u001b[0;34m**\u001b[0m\u001b[0mkwargs\u001b[0m\u001b[0;34m)\u001b[0m\u001b[0;34m\u001b[0m\u001b[0;34m\u001b[0m\u001b[0m\n\u001b[0m\u001b[1;32m    132\u001b[0m \u001b[0;34m\u001b[0m\u001b[0m\n\u001b[1;32m    133\u001b[0m         \u001b[0;32melse\u001b[0m\u001b[0;34m:\u001b[0m\u001b[0;34m\u001b[0m\u001b[0;34m\u001b[0m\u001b[0m\n",
      "\u001b[0;32m<ipython-input-47-118fa78966a4>\u001b[0m in \u001b[0;36mcheck_left\u001b[0;34m(x, fountains, boundaries, bad_bins)\u001b[0m\n\u001b[1;32m      6\u001b[0m         \u001b[0msub_df_boundaries\u001b[0m \u001b[0;34m=\u001b[0m \u001b[0mboundaries\u001b[0m\u001b[0;34m[\u001b[0m\u001b[0;34m(\u001b[0m\u001b[0mboundaries\u001b[0m\u001b[0;34m.\u001b[0m\u001b[0mch\u001b[0m \u001b[0;34m==\u001b[0m \u001b[0mx\u001b[0m\u001b[0;34m.\u001b[0m\u001b[0mch\u001b[0m\u001b[0;34m)\u001b[0m \u001b[0;34m&\u001b[0m \u001b[0;34m(\u001b[0m\u001b[0mboundaries\u001b[0m\u001b[0;34m.\u001b[0m\u001b[0mbgn\u001b[0m \u001b[0;34m<=\u001b[0m \u001b[0mx\u001b[0m\u001b[0;34m.\u001b[0m\u001b[0mbgn\u001b[0m\u001b[0;34m)\u001b[0m \u001b[0;34m&\u001b[0m \u001b[0;34m(\u001b[0m\u001b[0mboundaries\u001b[0m\u001b[0;34m.\u001b[0m\u001b[0mend\u001b[0m \u001b[0;34m<=\u001b[0m \u001b[0mx\u001b[0m\u001b[0;34m.\u001b[0m\u001b[0mend\u001b[0m\u001b[0;34m)\u001b[0m\u001b[0;34m]\u001b[0m\u001b[0;34m\u001b[0m\u001b[0;34m\u001b[0m\u001b[0m\n\u001b[1;32m      7\u001b[0m         \u001b[0msub_df_boundaries\u001b[0m \u001b[0;34m=\u001b[0m \u001b[0msub_df_boundaries\u001b[0m\u001b[0;34m.\u001b[0m\u001b[0msort_values\u001b[0m\u001b[0;34m(\u001b[0m\u001b[0;34m'bgn'\u001b[0m\u001b[0;34m,\u001b[0m \u001b[0mascending\u001b[0m\u001b[0;34m=\u001b[0m\u001b[0;32mTrue\u001b[0m\u001b[0;34m)\u001b[0m\u001b[0;34m\u001b[0m\u001b[0;34m\u001b[0m\u001b[0m\n\u001b[0;32m----> 8\u001b[0;31m         \u001b[0mclosest_boundary\u001b[0m \u001b[0;34m=\u001b[0m \u001b[0;34m(\u001b[0m\u001b[0msub_df_boundaries\u001b[0m\u001b[0;34m.\u001b[0m\u001b[0miloc\u001b[0m\u001b[0;34m[\u001b[0m\u001b[0;34m-\u001b[0m\u001b[0;36m1\u001b[0m\u001b[0;34m]\u001b[0m\u001b[0;34m[\u001b[0m\u001b[0;34m'bgn'\u001b[0m\u001b[0;34m]\u001b[0m\u001b[0;34m,\u001b[0m \u001b[0msub_df_boundaries\u001b[0m\u001b[0;34m.\u001b[0m\u001b[0miloc\u001b[0m\u001b[0;34m[\u001b[0m\u001b[0;34m-\u001b[0m\u001b[0;36m1\u001b[0m\u001b[0;34m]\u001b[0m\u001b[0;34m[\u001b[0m\u001b[0;34m'end'\u001b[0m\u001b[0;34m]\u001b[0m\u001b[0;34m)\u001b[0m\u001b[0;34m\u001b[0m\u001b[0;34m\u001b[0m\u001b[0m\n\u001b[0m\u001b[1;32m      9\u001b[0m \u001b[0;34m\u001b[0m\u001b[0m\n\u001b[1;32m     10\u001b[0m         \u001b[0;31m# fountains\u001b[0m\u001b[0;34m\u001b[0m\u001b[0;34m\u001b[0m\u001b[0;34m\u001b[0m\u001b[0m\n",
      "\u001b[0;32m~/anaconda3/lib/python3.7/site-packages/pandas/core/indexing.py\u001b[0m in \u001b[0;36m__getitem__\u001b[0;34m(self, key)\u001b[0m\n\u001b[1;32m    929\u001b[0m \u001b[0;34m\u001b[0m\u001b[0m\n\u001b[1;32m    930\u001b[0m             \u001b[0mmaybe_callable\u001b[0m \u001b[0;34m=\u001b[0m \u001b[0mcom\u001b[0m\u001b[0;34m.\u001b[0m\u001b[0mapply_if_callable\u001b[0m\u001b[0;34m(\u001b[0m\u001b[0mkey\u001b[0m\u001b[0;34m,\u001b[0m \u001b[0mself\u001b[0m\u001b[0;34m.\u001b[0m\u001b[0mobj\u001b[0m\u001b[0;34m)\u001b[0m\u001b[0;34m\u001b[0m\u001b[0;34m\u001b[0m\u001b[0m\n\u001b[0;32m--> 931\u001b[0;31m             \u001b[0;32mreturn\u001b[0m \u001b[0mself\u001b[0m\u001b[0;34m.\u001b[0m\u001b[0m_getitem_axis\u001b[0m\u001b[0;34m(\u001b[0m\u001b[0mmaybe_callable\u001b[0m\u001b[0;34m,\u001b[0m \u001b[0maxis\u001b[0m\u001b[0;34m=\u001b[0m\u001b[0maxis\u001b[0m\u001b[0;34m)\u001b[0m\u001b[0;34m\u001b[0m\u001b[0;34m\u001b[0m\u001b[0m\n\u001b[0m\u001b[1;32m    932\u001b[0m \u001b[0;34m\u001b[0m\u001b[0m\n\u001b[1;32m    933\u001b[0m     \u001b[0;32mdef\u001b[0m \u001b[0m_is_scalar_access\u001b[0m\u001b[0;34m(\u001b[0m\u001b[0mself\u001b[0m\u001b[0;34m,\u001b[0m \u001b[0mkey\u001b[0m\u001b[0;34m:\u001b[0m \u001b[0mtuple\u001b[0m\u001b[0;34m)\u001b[0m\u001b[0;34m:\u001b[0m\u001b[0;34m\u001b[0m\u001b[0;34m\u001b[0m\u001b[0m\n",
      "\u001b[0;32m~/anaconda3/lib/python3.7/site-packages/pandas/core/indexing.py\u001b[0m in \u001b[0;36m_getitem_axis\u001b[0;34m(self, key, axis)\u001b[0m\n\u001b[1;32m   1564\u001b[0m \u001b[0;34m\u001b[0m\u001b[0m\n\u001b[1;32m   1565\u001b[0m             \u001b[0;31m# validate the location\u001b[0m\u001b[0;34m\u001b[0m\u001b[0;34m\u001b[0m\u001b[0;34m\u001b[0m\u001b[0m\n\u001b[0;32m-> 1566\u001b[0;31m             \u001b[0mself\u001b[0m\u001b[0;34m.\u001b[0m\u001b[0m_validate_integer\u001b[0m\u001b[0;34m(\u001b[0m\u001b[0mkey\u001b[0m\u001b[0;34m,\u001b[0m \u001b[0maxis\u001b[0m\u001b[0;34m)\u001b[0m\u001b[0;34m\u001b[0m\u001b[0;34m\u001b[0m\u001b[0m\n\u001b[0m\u001b[1;32m   1567\u001b[0m \u001b[0;34m\u001b[0m\u001b[0m\n\u001b[1;32m   1568\u001b[0m             \u001b[0;32mreturn\u001b[0m \u001b[0mself\u001b[0m\u001b[0;34m.\u001b[0m\u001b[0mobj\u001b[0m\u001b[0;34m.\u001b[0m\u001b[0m_ixs\u001b[0m\u001b[0;34m(\u001b[0m\u001b[0mkey\u001b[0m\u001b[0;34m,\u001b[0m \u001b[0maxis\u001b[0m\u001b[0;34m=\u001b[0m\u001b[0maxis\u001b[0m\u001b[0;34m)\u001b[0m\u001b[0;34m\u001b[0m\u001b[0;34m\u001b[0m\u001b[0m\n",
      "\u001b[0;32m~/anaconda3/lib/python3.7/site-packages/pandas/core/indexing.py\u001b[0m in \u001b[0;36m_validate_integer\u001b[0;34m(self, key, axis)\u001b[0m\n\u001b[1;32m   1498\u001b[0m         \u001b[0mlen_axis\u001b[0m \u001b[0;34m=\u001b[0m \u001b[0mlen\u001b[0m\u001b[0;34m(\u001b[0m\u001b[0mself\u001b[0m\u001b[0;34m.\u001b[0m\u001b[0mobj\u001b[0m\u001b[0;34m.\u001b[0m\u001b[0m_get_axis\u001b[0m\u001b[0;34m(\u001b[0m\u001b[0maxis\u001b[0m\u001b[0;34m)\u001b[0m\u001b[0;34m)\u001b[0m\u001b[0;34m\u001b[0m\u001b[0;34m\u001b[0m\u001b[0m\n\u001b[1;32m   1499\u001b[0m         \u001b[0;32mif\u001b[0m \u001b[0mkey\u001b[0m \u001b[0;34m>=\u001b[0m \u001b[0mlen_axis\u001b[0m \u001b[0;32mor\u001b[0m \u001b[0mkey\u001b[0m \u001b[0;34m<\u001b[0m \u001b[0;34m-\u001b[0m\u001b[0mlen_axis\u001b[0m\u001b[0;34m:\u001b[0m\u001b[0;34m\u001b[0m\u001b[0;34m\u001b[0m\u001b[0m\n\u001b[0;32m-> 1500\u001b[0;31m             \u001b[0;32mraise\u001b[0m \u001b[0mIndexError\u001b[0m\u001b[0;34m(\u001b[0m\u001b[0;34m\"single positional indexer is out-of-bounds\"\u001b[0m\u001b[0;34m)\u001b[0m\u001b[0;34m\u001b[0m\u001b[0;34m\u001b[0m\u001b[0m\n\u001b[0m\u001b[1;32m   1501\u001b[0m \u001b[0;34m\u001b[0m\u001b[0m\n\u001b[1;32m   1502\u001b[0m     \u001b[0;31m# -------------------------------------------------------------------\u001b[0m\u001b[0;34m\u001b[0m\u001b[0;34m\u001b[0m\u001b[0;34m\u001b[0m\u001b[0m\n",
      "\u001b[0;31mIndexError\u001b[0m: single positional indexer is out-of-bounds"
     ]
    }
   ],
   "source": [
    "\n",
    "for f_stage in stages_fountains:\n",
    "    for b_stage in stages_boundaries:\n",
    "        fountains_centered_independent_mode.loc[f_stage, b_stage] = calculate_distance(fountains_dict[f_stage], \n",
    "                                                                                       boundaries_dict[b_stage], \n",
    "                                                                                       bad_bins_data, \n",
    "                                                                                       centered='fountains', \n",
    "                                                                                       mode='independent')\n",
    "    "
   ]
  },
  {
   "cell_type": "code",
   "execution_count": null,
   "metadata": {},
   "outputs": [],
   "source": []
  }
 ],
 "metadata": {
  "kernelspec": {
   "display_name": "Python 3",
   "language": "python",
   "name": "python3"
  },
  "language_info": {
   "codemirror_mode": {
    "name": "ipython",
    "version": 3
   },
   "file_extension": ".py",
   "mimetype": "text/x-python",
   "name": "python",
   "nbconvert_exporter": "python",
   "pygments_lexer": "ipython3",
   "version": "3.7.3"
  }
 },
 "nbformat": 4,
 "nbformat_minor": 2
}
